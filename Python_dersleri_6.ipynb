{
  "nbformat": 4,
  "nbformat_minor": 0,
  "metadata": {
    "colab": {
      "provenance": [],
      "authorship_tag": "ABX9TyNy2PsH6LCmsC2AF/s3Xifx",
      "include_colab_link": true
    },
    "kernelspec": {
      "name": "python3",
      "display_name": "Python 3"
    },
    "language_info": {
      "name": "python"
    }
  },
  "cells": [
    {
      "cell_type": "markdown",
      "metadata": {
        "id": "view-in-github",
        "colab_type": "text"
      },
      "source": [
        "<a href=\"https://colab.research.google.com/github/ilknurdemirciarac/programlamaDersleri/blob/main/Python_dersleri_6.ipynb\" target=\"_parent\"><img src=\"https://colab.research.google.com/assets/colab-badge.svg\" alt=\"Open In Colab\"/></a>"
      ]
    },
    {
      "cell_type": "markdown",
      "source": [
        "# FONKSİYONLAR"
      ],
      "metadata": {
        "id": "Axjobuy-YyuV"
      }
    },
    {
      "cell_type": "markdown",
      "source": [
        "def fonksiyon(parametre):\n",
        "\n",
        "  yapılacak işlemler\n",
        "  \n",
        "fonksiyon()"
      ],
      "metadata": {
        "id": "I_u9ea4k-hZN"
      }
    },
    {
      "cell_type": "code",
      "execution_count": null,
      "metadata": {
        "id": "u1rn3hqjYuHT",
        "colab": {
          "base_uri": "https://localhost:8080/"
        },
        "outputId": "921a5561-eedf-4fa0-e8bd-63996019f13b"
      },
      "outputs": [
        {
          "output_type": "stream",
          "name": "stdout",
          "text": [
            "Merhaba\n"
          ]
        }
      ],
      "source": [
        "def selamlama():\n",
        "  print(\"Merhaba\")\n",
        "selamlama()"
      ]
    },
    {
      "cell_type": "code",
      "source": [
        "def selamlama(ad):\n",
        "  print(\"Merhaba \",ad)\n",
        "isim=input(\"İsminizi yazınız\")\n",
        "selamlama(isim)"
      ],
      "metadata": {
        "colab": {
          "base_uri": "https://localhost:8080/"
        },
        "id": "ZRn3TRDp-1OW",
        "outputId": "4550f143-6688-41e3-8a96-4cb2b8c13f2d"
      },
      "execution_count": null,
      "outputs": [
        {
          "output_type": "stream",
          "name": "stdout",
          "text": [
            "İsminizi yazınızilknur\n",
            "Merhaba  ilknur\n"
          ]
        }
      ]
    },
    {
      "cell_type": "code",
      "source": [
        "def selamlama():\n",
        "  print(\"Merhaba\")\n",
        "selamlama(\"Ayşe\")"
      ],
      "metadata": {
        "colab": {
          "base_uri": "https://localhost:8080/",
          "height": 176
        },
        "id": "_da2Y0QP_Dxo",
        "outputId": "b24e48c3-e786-4dbc-80a7-d38e9222b7c0"
      },
      "execution_count": null,
      "outputs": [
        {
          "output_type": "error",
          "ename": "TypeError",
          "evalue": "selamlama() takes 0 positional arguments but 1 was given",
          "traceback": [
            "\u001b[0;31m---------------------------------------------------------------------------\u001b[0m",
            "\u001b[0;31mTypeError\u001b[0m                                 Traceback (most recent call last)",
            "\u001b[0;32m<ipython-input-5-05e34195f4ee>\u001b[0m in \u001b[0;36m<cell line: 3>\u001b[0;34m()\u001b[0m\n\u001b[1;32m      1\u001b[0m \u001b[0;32mdef\u001b[0m \u001b[0mselamlama\u001b[0m\u001b[0;34m(\u001b[0m\u001b[0;34m)\u001b[0m\u001b[0;34m:\u001b[0m\u001b[0;34m\u001b[0m\u001b[0;34m\u001b[0m\u001b[0m\n\u001b[1;32m      2\u001b[0m   \u001b[0mprint\u001b[0m\u001b[0;34m(\u001b[0m\u001b[0;34m\"Merhaba\"\u001b[0m\u001b[0;34m)\u001b[0m\u001b[0;34m\u001b[0m\u001b[0;34m\u001b[0m\u001b[0m\n\u001b[0;32m----> 3\u001b[0;31m \u001b[0mselamlama\u001b[0m\u001b[0;34m(\u001b[0m\u001b[0;34m\"Ayşe\"\u001b[0m\u001b[0;34m)\u001b[0m\u001b[0;34m\u001b[0m\u001b[0;34m\u001b[0m\u001b[0m\n\u001b[0m",
            "\u001b[0;31mTypeError\u001b[0m: selamlama() takes 0 positional arguments but 1 was given"
          ]
        }
      ]
    },
    {
      "cell_type": "code",
      "source": [
        "def selamlama(ad):\n",
        "  print(\"Merhaba \",ad)\n",
        "selamlama(\"Ayşe\")\n",
        "selamlama(\"Ela\")\n",
        "selamlama(\"İbrahim\")\n",
        "selamlama(\"İlknur\")"
      ],
      "metadata": {
        "colab": {
          "base_uri": "https://localhost:8080/"
        },
        "id": "0skiNvrv_KLX",
        "outputId": "41bce580-709b-4f4d-c81d-d4d392c0fc85"
      },
      "execution_count": null,
      "outputs": [
        {
          "output_type": "stream",
          "name": "stdout",
          "text": [
            "Merhaba  Ayşe\n",
            "Merhaba  Ela\n",
            "Merhaba  İbrahim\n",
            "Merhaba  İlknur\n"
          ]
        }
      ]
    },
    {
      "cell_type": "code",
      "source": [
        "def topla(a,b):\n",
        "  print(\"Sayıların toplamı : \",a+b)\n",
        "topla(5,6)\n",
        "s1=int(input(\"1. sayıyı giriniz: \"))\n",
        "s2=int(input(\"2. sayıyı giriniz: \"))\n",
        "\n",
        "topla(s1,s2)\n"
      ],
      "metadata": {
        "colab": {
          "base_uri": "https://localhost:8080/"
        },
        "id": "E9-3i-Ox_VeI",
        "outputId": "9fdcf4fd-ea58-47a2-86a0-2160defc8509"
      },
      "execution_count": null,
      "outputs": [
        {
          "output_type": "stream",
          "name": "stdout",
          "text": [
            "Sayıların toplamı :  11\n",
            "1. sayıyı giriniz: 6\n",
            "2. sayıyı giriniz: 11\n",
            "Sayıların toplamı :  17\n"
          ]
        }
      ]
    },
    {
      "cell_type": "code",
      "source": [
        "#fonksiyonlar hesapmakinesi\n",
        "def topla(s1,s2):\n",
        "  return s1+s2\n",
        "def fark(s1,s2):\n",
        "  return s1-s2\n",
        "def carp(s1,s2):\n",
        "  return s1*s2\n",
        "def bol(s1,s2):\n",
        "  return s1/s2\n",
        "print(\"Yapılacak işlemi seçiniz\\n topla için 1\\nçıkarma için 2\\nçarpma için 3\\nbölme için 4 tuşlarına basınız\")\n",
        "\n",
        "a=int(input(\"1. sayıyı giriniz\"))\n",
        "b=int(input(\"2. sayıyı giriniz\"))\n",
        "secim=input(\"bir seçim yapınız\")\n",
        "match secim:\n",
        "  case \"1\":print(\"sayıların toplamı\", topla(a,b))\n",
        "  case \"2\":print(\"sayıların farkı\", fark(a,b))\n",
        "  case \"3\":print(\"sayıların çarpımı\", carp(a,b))\n",
        "  case \"4\":print(\"sayıların bölümü\", bol(a,b))\n",
        "  case _:\n",
        "    print(\"lütfen belirtilen tuşları seçiniz\")\n",
        "\n"
      ],
      "metadata": {
        "colab": {
          "base_uri": "https://localhost:8080/"
        },
        "id": "qg0Rm4l__pJx",
        "outputId": "7dc91781-f94a-4e15-9e0c-29914769c2f5"
      },
      "execution_count": null,
      "outputs": [
        {
          "output_type": "stream",
          "name": "stdout",
          "text": [
            "Yapılacak işlemi seçiniz\n",
            " topla için 1\n",
            "çıkarma için 2\n",
            "çarpma için 3\n",
            "bölme için 4 tuşlarına basınız\n",
            "1. sayıyı giriniz5\n",
            "2. sayıyı giriniz9\n",
            "bir seçim yapınız8\n",
            "lütfen belirtilen tuşları seçiniz\n"
          ]
        }
      ]
    },
    {
      "cell_type": "code",
      "source": [
        "def hesap(x,y):\n",
        "  topla=x+y\n",
        "  carp=x*y\n",
        "  return topla,carp\n",
        "topla,carp=hesap(3,4)\n",
        "print(\"Girilen sayıların toplamı : \",topla)\n",
        "print(\"Girilen sayıların carpmı : \",carp)\n",
        "\n"
      ],
      "metadata": {
        "colab": {
          "base_uri": "https://localhost:8080/"
        },
        "id": "hxVmQJqoBkR2",
        "outputId": "ecc4c1e8-b58e-4838-fe64-ecbbeef10b5f"
      },
      "execution_count": null,
      "outputs": [
        {
          "output_type": "stream",
          "name": "stdout",
          "text": [
            "Girilen sayıların toplamı :  7\n",
            "Girilen sayıların carpmı :  12\n"
          ]
        }
      ]
    },
    {
      "cell_type": "code",
      "source": [
        "from re import I\n",
        "#mukenmel sayı kendisi hariç bütün pozitif bölenlerinin toplamı kendisine eşit olan sayı\n",
        "def mukemmel(sayi):\n",
        "  toplam=0\n",
        "\n",
        "  for i in range(1,sayi):\n",
        "    if sayi%i==0:\n",
        "      toplam+=i\n",
        "  return toplam==sayi\n",
        "for i in range(1,1000):\n",
        "  if mukemmel(i):\n",
        "    print(\"Mükemmel sayi : \",i)\n"
      ],
      "metadata": {
        "colab": {
          "base_uri": "https://localhost:8080/"
        },
        "id": "n-srImnJB6ld",
        "outputId": "601850e1-ab3d-44c7-9b04-f0c707392e80"
      },
      "execution_count": null,
      "outputs": [
        {
          "output_type": "stream",
          "name": "stdout",
          "text": [
            "Mükemmel sayi :  6\n",
            "Mükemmel sayi :  28\n",
            "Mükemmel sayi :  496\n"
          ]
        }
      ]
    },
    {
      "cell_type": "code",
      "source": [
        "def hesap(x):\n",
        "  print(\"Girdiğiniz sayı\",x)\n",
        "hesap(5)"
      ],
      "metadata": {
        "colab": {
          "base_uri": "https://localhost:8080/"
        },
        "id": "9gPvyulZDCkw",
        "outputId": "0bfe5fce-ab07-42b6-f013-97649ccaadf9"
      },
      "execution_count": null,
      "outputs": [
        {
          "output_type": "stream",
          "name": "stdout",
          "text": [
            "Girdiğiniz sayı 5\n"
          ]
        }
      ]
    },
    {
      "cell_type": "code",
      "source": [
        "def hesap():\n",
        "  print(\"Girdiğiniz sayı\",x)\n",
        "hesap(5)"
      ],
      "metadata": {
        "colab": {
          "base_uri": "https://localhost:8080/",
          "height": 176
        },
        "id": "taJAHGaFDMyA",
        "outputId": "cb02b49b-c367-42d9-cee5-1346ed880f16"
      },
      "execution_count": null,
      "outputs": [
        {
          "output_type": "error",
          "ename": "TypeError",
          "evalue": "hesap() takes 0 positional arguments but 1 was given",
          "traceback": [
            "\u001b[0;31m---------------------------------------------------------------------------\u001b[0m",
            "\u001b[0;31mTypeError\u001b[0m                                 Traceback (most recent call last)",
            "\u001b[0;32m<ipython-input-20-de322aaf20d7>\u001b[0m in \u001b[0;36m<cell line: 3>\u001b[0;34m()\u001b[0m\n\u001b[1;32m      1\u001b[0m \u001b[0;32mdef\u001b[0m \u001b[0mhesap\u001b[0m\u001b[0;34m(\u001b[0m\u001b[0;34m)\u001b[0m\u001b[0;34m:\u001b[0m\u001b[0;34m\u001b[0m\u001b[0;34m\u001b[0m\u001b[0m\n\u001b[1;32m      2\u001b[0m   \u001b[0mprint\u001b[0m\u001b[0;34m(\u001b[0m\u001b[0;34m\"Girdiğiniz sayı\"\u001b[0m\u001b[0;34m,\u001b[0m\u001b[0mx\u001b[0m\u001b[0;34m)\u001b[0m\u001b[0;34m\u001b[0m\u001b[0;34m\u001b[0m\u001b[0m\n\u001b[0;32m----> 3\u001b[0;31m \u001b[0mhesap\u001b[0m\u001b[0;34m(\u001b[0m\u001b[0;36m5\u001b[0m\u001b[0;34m)\u001b[0m\u001b[0;34m\u001b[0m\u001b[0;34m\u001b[0m\u001b[0m\n\u001b[0m",
            "\u001b[0;31mTypeError\u001b[0m: hesap() takes 0 positional arguments but 1 was given"
          ]
        }
      ]
    },
    {
      "cell_type": "code",
      "source": [
        "def hesap(x=\"sayı girilmedi\"):\n",
        "  print(\"Girdiğiniz sayı\",x)\n",
        "hesap()"
      ],
      "metadata": {
        "colab": {
          "base_uri": "https://localhost:8080/"
        },
        "id": "UGH3bizbDOEf",
        "outputId": "09785cd0-a2d9-4ade-db59-60baf874c80e"
      },
      "execution_count": null,
      "outputs": [
        {
          "output_type": "stream",
          "name": "stdout",
          "text": [
            "Girdiğiniz sayı sayı girilmedi\n"
          ]
        }
      ]
    },
    {
      "cell_type": "code",
      "source": [
        "def hesap(x=\"sayı girilmedi\"):\n",
        "  print(\"Girdiğiniz sayı\",x)\n",
        "hesap(5)"
      ],
      "metadata": {
        "colab": {
          "base_uri": "https://localhost:8080/"
        },
        "id": "qKqTZP2mDVjG",
        "outputId": "4b440f5e-5ecf-4a50-9528-43019ba10361"
      },
      "execution_count": null,
      "outputs": [
        {
          "output_type": "stream",
          "name": "stdout",
          "text": [
            "Girdiğiniz sayı 5\n"
          ]
        }
      ]
    },
    {
      "cell_type": "code",
      "source": [
        "def topla(x,y):\n",
        "  print(x+y)\n",
        "topla(3,4)"
      ],
      "metadata": {
        "colab": {
          "base_uri": "https://localhost:8080/"
        },
        "id": "PUFQrTJVDZHn",
        "outputId": "31b5cc57-eb76-4daf-a521-650a30c57478"
      },
      "execution_count": null,
      "outputs": [
        {
          "output_type": "stream",
          "name": "stdout",
          "text": [
            "7\n"
          ]
        }
      ]
    },
    {
      "cell_type": "code",
      "source": [
        "def topla(x,y):\n",
        "  print(x+y)\n",
        "topla(3,4,9)"
      ],
      "metadata": {
        "colab": {
          "base_uri": "https://localhost:8080/",
          "height": 176
        },
        "id": "6lgj1J9QDj3g",
        "outputId": "b0555af1-c90a-4941-bd15-e4f148741afd"
      },
      "execution_count": null,
      "outputs": [
        {
          "output_type": "error",
          "ename": "TypeError",
          "evalue": "topla() takes 2 positional arguments but 3 were given",
          "traceback": [
            "\u001b[0;31m---------------------------------------------------------------------------\u001b[0m",
            "\u001b[0;31mTypeError\u001b[0m                                 Traceback (most recent call last)",
            "\u001b[0;32m<ipython-input-24-2c69dcbb735d>\u001b[0m in \u001b[0;36m<cell line: 3>\u001b[0;34m()\u001b[0m\n\u001b[1;32m      1\u001b[0m \u001b[0;32mdef\u001b[0m \u001b[0mtopla\u001b[0m\u001b[0;34m(\u001b[0m\u001b[0mx\u001b[0m\u001b[0;34m,\u001b[0m\u001b[0my\u001b[0m\u001b[0;34m)\u001b[0m\u001b[0;34m:\u001b[0m\u001b[0;34m\u001b[0m\u001b[0;34m\u001b[0m\u001b[0m\n\u001b[1;32m      2\u001b[0m   \u001b[0mprint\u001b[0m\u001b[0;34m(\u001b[0m\u001b[0mx\u001b[0m\u001b[0;34m+\u001b[0m\u001b[0my\u001b[0m\u001b[0;34m)\u001b[0m\u001b[0;34m\u001b[0m\u001b[0;34m\u001b[0m\u001b[0m\n\u001b[0;32m----> 3\u001b[0;31m \u001b[0mtopla\u001b[0m\u001b[0;34m(\u001b[0m\u001b[0;36m3\u001b[0m\u001b[0;34m,\u001b[0m\u001b[0;36m4\u001b[0m\u001b[0;34m,\u001b[0m\u001b[0;36m9\u001b[0m\u001b[0;34m)\u001b[0m\u001b[0;34m\u001b[0m\u001b[0;34m\u001b[0m\u001b[0m\n\u001b[0m",
            "\u001b[0;31mTypeError\u001b[0m: topla() takes 2 positional arguments but 3 were given"
          ]
        }
      ]
    },
    {
      "cell_type": "code",
      "source": [
        "def topla(*x):\n",
        "  print(x)\n",
        "topla(3,4,5)"
      ],
      "metadata": {
        "colab": {
          "base_uri": "https://localhost:8080/"
        },
        "id": "fRH1lk09Dmnx",
        "outputId": "dde8221c-f16e-4509-d2fc-538d72cacb41"
      },
      "execution_count": null,
      "outputs": [
        {
          "output_type": "stream",
          "name": "stdout",
          "text": [
            "(3, 4, 5)\n"
          ]
        }
      ]
    },
    {
      "cell_type": "code",
      "source": [
        "def topla(*x):\n",
        "  y=0\n",
        "  for i in x:\n",
        "    y+=i\n",
        "  print(y)\n",
        "topla(3,4,5,6)"
      ],
      "metadata": {
        "colab": {
          "base_uri": "https://localhost:8080/"
        },
        "id": "D9pDEMzvDtad",
        "outputId": "f4be30aa-2c36-4d63-b698-43215ca113cd"
      },
      "execution_count": null,
      "outputs": [
        {
          "output_type": "stream",
          "name": "stdout",
          "text": [
            "18\n"
          ]
        }
      ]
    },
    {
      "cell_type": "markdown",
      "source": [
        "**Global Local**"
      ],
      "metadata": {
        "id": "xELJXxHFD890"
      }
    },
    {
      "cell_type": "code",
      "source": [
        "x=0\n",
        "def fonksiyon():\n",
        "  x=10\n",
        "  return x\n",
        "print(\"en üstterki x değeri \",x)\n",
        "print(\"fonksiyon içindeki x değeri \",fonksiyon())"
      ],
      "metadata": {
        "colab": {
          "base_uri": "https://localhost:8080/"
        },
        "id": "U5JEI-tkD_Xc",
        "outputId": "f1f5dc96-6d77-4aa5-8acf-51acd26ec446"
      },
      "execution_count": null,
      "outputs": [
        {
          "output_type": "stream",
          "name": "stdout",
          "text": [
            "en üstterki x değeri  0\n",
            "fonksiyon içindeki x değeri  10\n"
          ]
        }
      ]
    },
    {
      "cell_type": "code",
      "source": [
        "def fonksiyon():\n",
        "  z=10\n",
        "\n",
        "print(z)\n"
      ],
      "metadata": {
        "colab": {
          "base_uri": "https://localhost:8080/",
          "height": 176
        },
        "id": "wnmonGehERRg",
        "outputId": "e2ae16ca-dbb2-44fb-ebe1-87ccc699f170"
      },
      "execution_count": null,
      "outputs": [
        {
          "output_type": "error",
          "ename": "NameError",
          "evalue": "name 'z' is not defined",
          "traceback": [
            "\u001b[0;31m---------------------------------------------------------------------------\u001b[0m",
            "\u001b[0;31mNameError\u001b[0m                                 Traceback (most recent call last)",
            "\u001b[0;32m<ipython-input-32-23b85c2e785b>\u001b[0m in \u001b[0;36m<cell line: 4>\u001b[0;34m()\u001b[0m\n\u001b[1;32m      2\u001b[0m   \u001b[0mz\u001b[0m\u001b[0;34m=\u001b[0m\u001b[0;36m10\u001b[0m\u001b[0;34m\u001b[0m\u001b[0;34m\u001b[0m\u001b[0m\n\u001b[1;32m      3\u001b[0m \u001b[0;34m\u001b[0m\u001b[0m\n\u001b[0;32m----> 4\u001b[0;31m \u001b[0mprint\u001b[0m\u001b[0;34m(\u001b[0m\u001b[0mz\u001b[0m\u001b[0;34m)\u001b[0m\u001b[0;34m\u001b[0m\u001b[0;34m\u001b[0m\u001b[0m\n\u001b[0m",
            "\u001b[0;31mNameError\u001b[0m: name 'z' is not defined"
          ]
        }
      ]
    },
    {
      "cell_type": "code",
      "source": [
        "z=0\n",
        "def fonksiyon():\n",
        "  print(z)\n",
        "\n",
        "fonksiyon()"
      ],
      "metadata": {
        "colab": {
          "base_uri": "https://localhost:8080/"
        },
        "id": "Vcu17vB9Eesl",
        "outputId": "8324f072-1f6d-4218-a843-daed29e77cf9"
      },
      "execution_count": null,
      "outputs": [
        {
          "output_type": "stream",
          "name": "stdout",
          "text": [
            "0\n"
          ]
        }
      ]
    },
    {
      "cell_type": "code",
      "source": [
        "x=5\n",
        "def fonksiyon():\n",
        "  x=10\n",
        "  print(\"Fonksiyon içindeki x değeri \",x)\n",
        "fonksiyon()\n",
        "print(\"Program başındaki x değeri \",x)"
      ],
      "metadata": {
        "colab": {
          "base_uri": "https://localhost:8080/"
        },
        "id": "Hf7pVrY4ElsV",
        "outputId": "15c5f204-2eb7-4bc7-8a5d-b4bf32a5d817"
      },
      "execution_count": null,
      "outputs": [
        {
          "output_type": "stream",
          "name": "stdout",
          "text": [
            "Fonksiyon içindeki x değeri  10\n",
            "Program başındaki x değeri  5\n"
          ]
        }
      ]
    },
    {
      "cell_type": "code",
      "source": [
        "# klavyeden girilen sayının bölenlerini bulan program\n",
        "def bölen(sayi):\n",
        "  liste=[]\n",
        "  for i in range(1,sayi+1):\n",
        "    if sayi%i==0:\n",
        "      liste.append(i)\n",
        "  return liste\n",
        "s=int(input(\"Bir sayı giriniz\"))\n",
        "print(s,\" sayısının bölenleri : \",bölen(s))\n",
        "\n"
      ],
      "metadata": {
        "colab": {
          "base_uri": "https://localhost:8080/"
        },
        "id": "MYnFQgw6E1YY",
        "outputId": "a2f49b73-8e2a-49b0-f3e4-7d16dfea67f4"
      },
      "execution_count": null,
      "outputs": [
        {
          "output_type": "stream",
          "name": "stdout",
          "text": [
            "Bir sayı giriniz6\n",
            "6  sayısının bölenleri :  [1, 2, 3, 6]\n"
          ]
        }
      ]
    },
    {
      "cell_type": "code",
      "source": [
        "# klavyeden girilen sayının bölenlerini bulan program\n",
        "def bölen(liste,x):\n",
        "  for i in range(2,x+1):\n",
        "    if x%i==0:\n",
        "      liste.append(i)\n",
        "  print(x,\" sayısının bölenleri : \",liste)\n",
        "list1=[]\n",
        "sayi=int(input(\"Bir sayı giriniz\"))\n",
        "bölen(list1,sayi)"
      ],
      "metadata": {
        "colab": {
          "base_uri": "https://localhost:8080/"
        },
        "id": "WIhwaqGXFnY6",
        "outputId": "175c6a9a-c46b-4b5a-b034-bc9e9b163e55"
      },
      "execution_count": null,
      "outputs": [
        {
          "output_type": "stream",
          "name": "stdout",
          "text": [
            "Bir sayı giriniz6\n",
            "6  sayısının bölenleri :  [2, 3, 6]\n"
          ]
        }
      ]
    },
    {
      "cell_type": "code",
      "source": [
        "#Girilen iki basamaklı sayının okunuşunu bulan program\n",
        "def oku(sayi):\n",
        "  birler=[\"\",\"bir\",\"iki\",\"üç\",\"dört\",\"beş\",\"altı\",\"yedi\",\"sekiz\",\"dokuz\"]\n",
        "  onlar=[\"\",\"on\",\"yirmi\",\"otuz\",\"kırk\",\"elli\",\"altmış\",\"yetmiş\",\"seksen\",\"doksan\"]\n",
        "  bir=sayi%10\n",
        "  on=sayi//10\n",
        "  print(onlar[on],birler[bir])\n",
        "print(\"İki basamaklı sayıları okuma\\n\")\n",
        "a=int(input(\"İki basamaklı bir sayı giriniz\"))\n",
        "oku(a)"
      ],
      "metadata": {
        "colab": {
          "base_uri": "https://localhost:8080/"
        },
        "id": "5hsjR5YuGD7W",
        "outputId": "8d1ffe53-3917-4089-8120-f1b8597728e1"
      },
      "execution_count": null,
      "outputs": [
        {
          "output_type": "stream",
          "name": "stdout",
          "text": [
            "İki basamaklı sayıları okuma\n",
            "\n",
            "İki basamaklı bir sayı giriniz14\n",
            "on dört\n"
          ]
        }
      ]
    },
    {
      "cell_type": "markdown",
      "source": [
        "# SEZAR ŞİFRELEME\n",
        "ord(): verdiğimiz bir string değeri Unikod karşılığını temsil eden integer türünden bir değer haline dönüştürmektedir\n",
        "\n",
        "chr(): Verdiğimiz unikod sayı karşılığını temsil eden bir integer değeri stringe dönüştürür"
      ],
      "metadata": {
        "id": "hHBKE7PbfPZJ"
      }
    },
    {
      "cell_type": "code",
      "source": [
        "def sifreleme(metin):\n",
        "  b=\"\"\n",
        "  for i in metin:\n",
        "    c=ord(i)\n",
        "    c+=3\n",
        "    b=b+chr(c)\n",
        "  return b\n",
        "def sifreCöz(sifre):\n",
        "  d=\"\"\n",
        "  for i in sifre:\n",
        "    c=ord(i)\n",
        "    c-=3\n",
        "    d=d+chr(c)\n",
        "  return d\n",
        "metin=input(\"Şifrelenmesini istediğiniz bir metin giriniz :\")\n",
        "şifreli=sifreleme(metin)\n",
        "print(\"Gönderdiğiniz metnin şifreli hali\",şifreli)\n",
        "CözülenSifre=sifreCöz(şifreli)\n",
        "print(\"Şifrelediğiniz metnin Çözülmüş hali\",CözülenSifre)"
      ],
      "metadata": {
        "colab": {
          "base_uri": "https://localhost:8080/"
        },
        "id": "SCvE_imPfxJh",
        "outputId": "6e9b1c07-7d91-4b89-a531-fa7e0f0d440e"
      },
      "execution_count": null,
      "outputs": [
        {
          "output_type": "stream",
          "name": "stdout",
          "text": [
            "Şifrelenmesini istediğiniz bir metin giriniz :deneme\n",
            "Gönderdiğiniz metnin şifreli hali ghqhph\n",
            "Şifrelediğiniz metnin Çözülmüş hali deneme\n"
          ]
        }
      ]
    },
    {
      "cell_type": "markdown",
      "source": [
        "**Tc kimlik no doğrulama**\n",
        "\n",
        "11 haneden oluşmalıdır\n",
        "her hane bir rakam içermelidir\n",
        "ilk hane 0 olamaz\n",
        "1,3,5,7,9, hanelerinin toplamının 7 katından\n",
        "2,3,4,8 hanelerinin toplamını çıkartıldığında elde edilen sonuç bize 10. haneyi verir\n",
        "1,2,3,4,5,6,7,8,9,10 hanelerinin toplamından elde edilen sonucun 10 a bölümünden kalan değer 11. karakteri verir\n",
        "\n"
      ],
      "metadata": {
        "id": "0UHbMohsfr4g"
      }
    },
    {
      "cell_type": "code",
      "source": [
        "def kontrol(tc):\n",
        "    if len(tc)!=11:\n",
        "      print(\"Lütfen 11 haneli tc kimlik numaranızı giriniz\")\n",
        "      return False\n",
        "    elif int(tc[0])==0:\n",
        "        print(\"Tc kimlik numarasının ilk karakteri 0 olamaz\")\n",
        "        return False\n",
        "    elif int(tc[10])%2!=0:\n",
        "        print(\"Tc kimlik numarasının son karakteri tek sayı olamaz\")\n",
        "        return False\n",
        "    else:\n",
        "      if checkTcKontrol(tc):\n",
        "        print(\"TC KİMLik Doğrulandı\")\n",
        "        return True\n",
        "      else:\n",
        "        return False\n",
        "\n",
        "\n",
        "def checkTcKontrol(tc):\n",
        "  toplam1=0\n",
        "  toplam2=0\n",
        "  toplam3=0\n",
        "  for i in range(9):\n",
        "    if i%2==0:\n",
        "      toplam1+=int(tc[i])\n",
        "    else:\n",
        "      toplam2+=int(tc[i])\n",
        "  for i in range(10):\n",
        "    toplam3+=int(tc[i])\n",
        "  print(\"Toplam1\", toplam1)\n",
        "  print(\"Toplam2\", toplam2)\n",
        "  print(\"Toplam3\", toplam3)\n",
        "  sonuc1=(int(tc[9])==(toplam1*7-toplam2)%10)\n",
        "  sonuc2=(int(tc[10])==(toplam3)%10)\n",
        "  if sonuc1 and sonuc2:\n",
        "    return True\n",
        "  else:\n",
        "    return False\n",
        "\n",
        "\n",
        "while True:\n",
        "  tcKimlik=input(\"TC KİMLİK NO GİRiNİZ\")\n",
        "  if kontrol(tcKimlik):\n",
        "    break\n",
        "  else:\n",
        "    continue"
      ],
      "metadata": {
        "colab": {
          "base_uri": "https://localhost:8080/"
        },
        "id": "NN-1GTtI4n-z",
        "outputId": "21dc23f7-29bc-412c-d602-dae48c24c5d7"
      },
      "execution_count": null,
      "outputs": [
        {
          "output_type": "stream",
          "name": "stdout",
          "text": [
            "TC KİMLİK NO GİRiNİZ51877590484\n",
            "Toplam1 33\n",
            "Toplam2 13\n",
            "Toplam3 54\n",
            "TC KİMLik Doğrulandı\n"
          ]
        }
      ]
    },
    {
      "cell_type": "markdown",
      "source": [
        "**Vücut kitle indeksi hesaplama**\n",
        "\n",
        "Boyumuza görek ilomuzun zayıs şisman olma durumunu belirler\n",
        "18,5 tan küçükse zayıf\n",
        "18,5- 24.9 ideal kilo\n",
        "25-29.9 kilolu\n",
        "30 ve üzei ise obez\n",
        "\n",
        "boy*boy/kilo\n"
      ],
      "metadata": {
        "id": "kPIhFGy1473E"
      }
    },
    {
      "cell_type": "code",
      "source": [
        "def bilgiAl():\n",
        "  kilo=float(input(\"Lütfen kilonuzun kg olarak giriniz\"))\n",
        "  boy=float(input(\"Lütfen boyunuzu metre cinsinden giriniz\"))\n",
        "  return boy, kilo\n",
        "def vkiHesapla(boy,kilo):\n",
        "  vki=kilo/(boy*boy)\n",
        "  return vki\n",
        "def vkiGoster(vki):\n",
        "  print(\"Vücut Kitle İndeksiniz : \",vki)\n",
        "def vkiDurumGöster(vki):\n",
        "  if vki<18.5:\n",
        "    return \"Zayıf\"\n",
        "  elif vki>=18.5 and vki<24.9:\n",
        "    return \"İdeal kilo\"\n",
        "  elif vki>=25 and vki<29.9:\n",
        "    return \"Kilolu\"\n",
        "  elif vki>=30:\n",
        "    return \"Obez\"\n",
        "\n",
        "\n",
        "def main():\n",
        "  a,b=bilgiAl()\n",
        "  vki=vkiHesapla(a,b)\n",
        "  vkiGoster(vki)\n",
        "  print(vkiDurumGöster(vki))\n",
        "\n",
        "main()\n"
      ],
      "metadata": {
        "colab": {
          "base_uri": "https://localhost:8080/"
        },
        "id": "lBRNeI8D47-P",
        "outputId": "727d67e8-38ca-4a46-86fd-8f7013ee6282"
      },
      "execution_count": null,
      "outputs": [
        {
          "output_type": "stream",
          "name": "stdout",
          "text": [
            "Lütfen kilonuzun kg olarak giriniz54\n",
            "Lütfen boyunuzu metre cinsinden giriniz1.70\n",
            "Vücut Kitle İndeksiniz :  18.68512110726644\n",
            "İdeal kilo\n"
          ]
        }
      ]
    },
    {
      "cell_type": "markdown",
      "source": [
        "#GERİ SAY"
      ],
      "metadata": {
        "id": "XAfoJept7bjZ"
      }
    },
    {
      "cell_type": "code",
      "source": [
        "def geriSay(sayi):\n",
        " while sayi>=0:\n",
        "  print(sayi)\n",
        "  sayi-=1\n",
        "alınanSayi=int(input(\"Bir sayı giriniz : \"))\n",
        "geriSay(alınanSayi)\n"
      ],
      "metadata": {
        "colab": {
          "base_uri": "https://localhost:8080/"
        },
        "id": "0T9dURET7bpA",
        "outputId": "fbfd8893-ebf8-4edd-a830-5c96f856f3f6"
      },
      "execution_count": null,
      "outputs": [
        {
          "output_type": "stream",
          "name": "stdout",
          "text": [
            "Bir sayı giriniz : 23\n",
            "23\n",
            "22\n",
            "21\n",
            "20\n",
            "19\n",
            "18\n",
            "17\n",
            "16\n",
            "15\n",
            "14\n",
            "13\n",
            "12\n",
            "11\n",
            "10\n",
            "9\n",
            "8\n",
            "7\n",
            "6\n",
            "5\n",
            "4\n",
            "3\n",
            "2\n",
            "1\n",
            "0\n"
          ]
        }
      ]
    },
    {
      "cell_type": "code",
      "source": [
        "#Yarıçapı girilen dairenin alanı\n",
        "def hesapla(r):\n",
        "  pi=3.14\n",
        "  alan=r*r*pi\n",
        "  print(\" {} yarıçaplı dairenin alanı : {}\".format(r,alan))\n",
        "yaricap=int(input(\"Dairenin yarıçapını giriniz : \"))\n",
        "hesapla(yaricap)\n"
      ],
      "metadata": {
        "colab": {
          "base_uri": "https://localhost:8080/"
        },
        "id": "84Lv3P_3eIvx",
        "outputId": "0501e1a8-893f-4104-872e-bba04566372d"
      },
      "execution_count": null,
      "outputs": [
        {
          "output_type": "stream",
          "name": "stdout",
          "text": [
            "Dairenin yarıçapını giriniz : 5\n",
            " 5 yarıçaplı dairenin alanı : 78.5\n"
          ]
        }
      ]
    },
    {
      "cell_type": "code",
      "source": [
        "#string ifadelerin içerisinde karakter kontolü\n",
        "def karakterAra(karakter,data):\n",
        "  for i in range(len(data)):\n",
        "    print(i)\n",
        "    print(data[i])\n",
        "    if data[i]==karakter:\n",
        "      print(\"Aradığınız karakter, verinin {} elemanı olarak bulunmuştur.\".format(i))\n",
        "    else:\n",
        "      continue\n",
        "      print(\"ARadığınız karakter bulunamamıştır\")\n",
        "\n",
        "  return True\n",
        "arananKarakter=input(\"Aranacak karakteri giriniz : \")\n",
        "veri=input(\"Tarama yapılacak metni giriniz : \")\n",
        "print(range(len(veri)))\n",
        "\n",
        "karakterAra(arananKarakter,veri)"
      ],
      "metadata": {
        "colab": {
          "base_uri": "https://localhost:8080/"
        },
        "id": "WqFOc-D6enyX",
        "outputId": "7784d9e9-6643-40c2-bd49-c576f511974c"
      },
      "execution_count": null,
      "outputs": [
        {
          "output_type": "stream",
          "name": "stdout",
          "text": [
            "Aranacak karakteri giriniz : a\n",
            "Tarama yapılacak metni giriniz : hasan\n",
            "range(0, 5)\n",
            "0\n",
            "h\n",
            "1\n",
            "a\n",
            "Aradığınız karakter, verinin 1 elemanı olarak bulunmuştur.\n",
            "2\n",
            "s\n",
            "3\n",
            "a\n",
            "Aradığınız karakter, verinin 3 elemanı olarak bulunmuştur.\n",
            "4\n",
            "n\n"
          ]
        },
        {
          "output_type": "execute_result",
          "data": {
            "text/plain": [
              "True"
            ]
          },
          "metadata": {},
          "execution_count": 7
        }
      ]
    },
    {
      "cell_type": "markdown",
      "source": [],
      "metadata": {
        "id": "9J3aTtM9h00N"
      }
    },
    {
      "cell_type": "code",
      "source": [
        "\n",
        "#çift sayıların ortalamasını hesapla\n",
        "#iki sayı arasındaki çift sayıların ortalamasını bulan program\n",
        "def ortalama(a,b):\n",
        "  ort=0\n",
        "  say=0\n",
        "  for i in range(a,b):\n",
        "    if i%2==0:\n",
        "      ort+=i\n",
        "      say+=1\n",
        "  ort=ort//say\n",
        "  return ort\n",
        "s1=int(input(\"Birinci sayıyı giriniz\"))\n",
        "s2=int(input(\"İkinci sayıyı giriniz\"))\n",
        "if s1<s2:\n",
        "  s=s1\n",
        "  s1=s2\n",
        "  s2=s\n",
        "sonuc=ortalama(s1,s2)\n",
        "print(\"Çift sayıların ortalaması\",sonuc)\n",
        "\n"
      ],
      "metadata": {
        "colab": {
          "base_uri": "https://localhost:8080/",
          "height": 367
        },
        "id": "KM8Gwe96h1f8",
        "outputId": "5e293e18-bad1-4214-faad-bfacfe8ddb98"
      },
      "execution_count": null,
      "outputs": [
        {
          "name": "stdout",
          "output_type": "stream",
          "text": [
            "Birinci sayıyı giriniz3\n",
            "İkinci sayıyı giriniz8\n"
          ]
        },
        {
          "output_type": "error",
          "ename": "ZeroDivisionError",
          "evalue": "integer division or modulo by zero",
          "traceback": [
            "\u001b[0;31m---------------------------------------------------------------------------\u001b[0m",
            "\u001b[0;31mZeroDivisionError\u001b[0m                         Traceback (most recent call last)",
            "\u001b[0;32m<ipython-input-22-c3f8b7ea8959>\u001b[0m in \u001b[0;36m<cell line: 18>\u001b[0;34m()\u001b[0m\n\u001b[1;32m     16\u001b[0m   \u001b[0ms1\u001b[0m\u001b[0;34m=\u001b[0m\u001b[0ms2\u001b[0m\u001b[0;34m\u001b[0m\u001b[0;34m\u001b[0m\u001b[0m\n\u001b[1;32m     17\u001b[0m   \u001b[0ms2\u001b[0m\u001b[0;34m=\u001b[0m\u001b[0ms\u001b[0m\u001b[0;34m\u001b[0m\u001b[0;34m\u001b[0m\u001b[0m\n\u001b[0;32m---> 18\u001b[0;31m \u001b[0msonuc\u001b[0m\u001b[0;34m=\u001b[0m\u001b[0mortalama\u001b[0m\u001b[0;34m(\u001b[0m\u001b[0ms1\u001b[0m\u001b[0;34m,\u001b[0m\u001b[0ms2\u001b[0m\u001b[0;34m)\u001b[0m\u001b[0;34m\u001b[0m\u001b[0;34m\u001b[0m\u001b[0m\n\u001b[0m\u001b[1;32m     19\u001b[0m \u001b[0mprint\u001b[0m\u001b[0;34m(\u001b[0m\u001b[0;34m\"Çift sayıların ortalaması\"\u001b[0m\u001b[0;34m,\u001b[0m\u001b[0msonuc\u001b[0m\u001b[0;34m)\u001b[0m\u001b[0;34m\u001b[0m\u001b[0;34m\u001b[0m\u001b[0m\n\u001b[1;32m     20\u001b[0m \u001b[0;34m\u001b[0m\u001b[0m\n",
            "\u001b[0;32m<ipython-input-22-c3f8b7ea8959>\u001b[0m in \u001b[0;36mortalama\u001b[0;34m(a, b)\u001b[0m\n\u001b[1;32m      8\u001b[0m       \u001b[0mort\u001b[0m\u001b[0;34m+=\u001b[0m\u001b[0mi\u001b[0m\u001b[0;34m\u001b[0m\u001b[0;34m\u001b[0m\u001b[0m\n\u001b[1;32m      9\u001b[0m       \u001b[0msay\u001b[0m\u001b[0;34m+=\u001b[0m\u001b[0;36m1\u001b[0m\u001b[0;34m\u001b[0m\u001b[0;34m\u001b[0m\u001b[0m\n\u001b[0;32m---> 10\u001b[0;31m   \u001b[0mort\u001b[0m\u001b[0;34m=\u001b[0m\u001b[0mort\u001b[0m\u001b[0;34m//\u001b[0m\u001b[0msay\u001b[0m\u001b[0;34m\u001b[0m\u001b[0;34m\u001b[0m\u001b[0m\n\u001b[0m\u001b[1;32m     11\u001b[0m   \u001b[0;32mreturn\u001b[0m \u001b[0mort\u001b[0m\u001b[0;34m\u001b[0m\u001b[0;34m\u001b[0m\u001b[0m\n\u001b[1;32m     12\u001b[0m \u001b[0ms1\u001b[0m\u001b[0;34m=\u001b[0m\u001b[0mint\u001b[0m\u001b[0;34m(\u001b[0m\u001b[0minput\u001b[0m\u001b[0;34m(\u001b[0m\u001b[0;34m\"Birinci sayıyı giriniz\"\u001b[0m\u001b[0;34m)\u001b[0m\u001b[0;34m)\u001b[0m\u001b[0;34m\u001b[0m\u001b[0;34m\u001b[0m\u001b[0m\n",
            "\u001b[0;31mZeroDivisionError\u001b[0m: integer division or modulo by zero"
          ]
        }
      ]
    },
    {
      "cell_type": "code",
      "source": [
        "#çift sayıların ortalamasını hesapla\n",
        "#iki sayı arasındaki çift sayıların ortalamasını bulan program\n",
        "def ortalama(a,b):\n",
        "  ort=0\n",
        "  say=0\n",
        "  print(\"a\",a)\n",
        "  print(\"b\",b)\n",
        "  for i in range(a,b):\n",
        "    print(i)\n",
        "    if i%2==0:\n",
        "      print(\"çift\", i)\n",
        "\n",
        "s1=int(input(\"Birinci sayıyı giriniz\"))\n",
        "s2=int(input(\"İkinci sayıyı giriniz\"))\n",
        "if s1<s2:\n",
        "  s=s1\n",
        "  s1=s2\n",
        "  s2=s\n",
        "ortalama(s1,s2)\n",
        "\n"
      ],
      "metadata": {
        "colab": {
          "base_uri": "https://localhost:8080/"
        },
        "id": "jbI50nMGlF16",
        "outputId": "2d1065a1-b647-4568-f7fd-9893c3528122"
      },
      "execution_count": null,
      "outputs": [
        {
          "output_type": "stream",
          "name": "stdout",
          "text": [
            "Birinci sayıyı giriniz1\n",
            "İkinci sayıyı giriniz8\n",
            "a 8\n",
            "b 1\n"
          ]
        }
      ]
    },
    {
      "cell_type": "code",
      "source": [
        "def f(x):\n",
        "  return x+2,x*2\n",
        "x,y=f(5)\n",
        "print(x+y)"
      ],
      "metadata": {
        "colab": {
          "base_uri": "https://localhost:8080/"
        },
        "id": "lY8_XcjYl3aU",
        "outputId": "265273ea-74e7-47be-d62b-3250f29e4830"
      },
      "execution_count": null,
      "outputs": [
        {
          "output_type": "stream",
          "name": "stdout",
          "text": [
            "17\n"
          ]
        }
      ]
    },
    {
      "cell_type": "code",
      "source": [
        "def hesapla_q1(x):\n",
        "  q=4*x+1\n",
        "  return q\n",
        "q=hesapla_q1(5)\n",
        "print(q)"
      ],
      "metadata": {
        "colab": {
          "base_uri": "https://localhost:8080/"
        },
        "id": "23gQP2ztmBSk",
        "outputId": "4e1d3295-f5fa-4ded-85b5-d4a6967bb998"
      },
      "execution_count": null,
      "outputs": [
        {
          "output_type": "stream",
          "name": "stdout",
          "text": [
            "21\n"
          ]
        }
      ]
    },
    {
      "cell_type": "code",
      "source": [
        "q=20\n",
        "def calc_q3(x):\n",
        "  q=4*x+1\n",
        "  return q\n",
        "q=calc_q3(5)"
      ],
      "metadata": {
        "id": "tFxsCJJ3mRxV"
      },
      "execution_count": null,
      "outputs": []
    },
    {
      "cell_type": "code",
      "source": [
        "def f2(x,y):\n",
        "  return (x+1)/(y-1)\n",
        "z=f2(3,3)+1\n",
        "print(z)"
      ],
      "metadata": {
        "colab": {
          "base_uri": "https://localhost:8080/"
        },
        "id": "1j5ZRI1Dmb_5",
        "outputId": "213b93ce-7cdf-4fd4-92ae-bdf4ffedd37f"
      },
      "execution_count": null,
      "outputs": [
        {
          "output_type": "stream",
          "name": "stdout",
          "text": [
            "3.0\n"
          ]
        }
      ]
    },
    {
      "cell_type": "code",
      "source": [
        "def f3(x,y=2):\n",
        "  return (x+1)/(y-1)\n",
        "z=f2(2,6)+1\n",
        "print(z)"
      ],
      "metadata": {
        "colab": {
          "base_uri": "https://localhost:8080/"
        },
        "id": "tnKL5bi3mtyu",
        "outputId": "f7cb7ed9-8967-4a3f-b3fc-c4977d793667"
      },
      "execution_count": null,
      "outputs": [
        {
          "output_type": "stream",
          "name": "stdout",
          "text": [
            "1.6\n"
          ]
        }
      ]
    },
    {
      "cell_type": "code",
      "source": [
        "def ikiartır(x):\n",
        "  x=x+2\n",
        "  return 2\n",
        "x=10\n",
        "ikiartır(x)\n",
        "print(\"x= \",x)"
      ],
      "metadata": {
        "colab": {
          "base_uri": "https://localhost:8080/"
        },
        "id": "7GgsuE1Kmyu-",
        "outputId": "7207fca3-a61f-4aed-ad8f-67166dcbce05"
      },
      "execution_count": null,
      "outputs": [
        {
          "output_type": "stream",
          "name": "stdout",
          "text": [
            "x=  10\n"
          ]
        }
      ]
    }
  ]
}
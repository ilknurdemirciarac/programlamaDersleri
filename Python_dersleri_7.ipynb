{
  "nbformat": 4,
  "nbformat_minor": 0,
  "metadata": {
    "colab": {
      "provenance": [],
      "authorship_tag": "ABX9TyMT3ruHbWoKH0fkrWrm/E/N",
      "include_colab_link": true
    },
    "kernelspec": {
      "name": "python3",
      "display_name": "Python 3"
    },
    "language_info": {
      "name": "python"
    }
  },
  "cells": [
    {
      "cell_type": "markdown",
      "metadata": {
        "id": "view-in-github",
        "colab_type": "text"
      },
      "source": [
        "<a href=\"https://colab.research.google.com/github/ilknurdemirciarac/programlamaDersleri/blob/main/Python_dersleri_7.ipynb\" target=\"_parent\"><img src=\"https://colab.research.google.com/assets/colab-badge.svg\" alt=\"Open In Colab\"/></a>"
      ]
    },
    {
      "cell_type": "markdown",
      "source": [
        "# TUPLE VE SÖZLÜK VERİ TİPLERİ"
      ],
      "metadata": {
        "id": "alzcJcLjwlOD"
      }
    },
    {
      "cell_type": "code",
      "execution_count": null,
      "metadata": {
        "colab": {
          "base_uri": "https://localhost:8080/"
        },
        "id": "urQlUrZ_whsp",
        "outputId": "8a68f684-48eb-4bc9-e5ec-88cd3eb272a7"
      },
      "outputs": [
        {
          "output_type": "execute_result",
          "data": {
            "text/plain": [
              "1"
            ]
          },
          "metadata": {},
          "execution_count": 4
        }
      ],
      "source": [
        "demet=(1,2,3,4,5)\n",
        "demet[0]"
      ]
    },
    {
      "cell_type": "code",
      "source": [
        "#demetlerin parçalanamsı\n",
        "\n",
        "demet[2:4]"
      ],
      "metadata": {
        "colab": {
          "base_uri": "https://localhost:8080/"
        },
        "id": "GEc-y_SewxcV",
        "outputId": "e4768352-3ce8-4c89-c0e2-9f28b143e2b3"
      },
      "execution_count": null,
      "outputs": [
        {
          "output_type": "execute_result",
          "data": {
            "text/plain": [
              "(3, 4)"
            ]
          },
          "metadata": {},
          "execution_count": 5
        }
      ]
    },
    {
      "cell_type": "code",
      "source": [
        "#tersten sıralama\n",
        "demet[::-1]"
      ],
      "metadata": {
        "colab": {
          "base_uri": "https://localhost:8080/"
        },
        "id": "tLJkJd13xBx0",
        "outputId": "1a710fab-2e94-42b6-f4a7-f0ebcaf0c276"
      },
      "execution_count": null,
      "outputs": [
        {
          "output_type": "execute_result",
          "data": {
            "text/plain": [
              "(5, 4, 3, 2, 1)"
            ]
          },
          "metadata": {},
          "execution_count": 6
        }
      ]
    },
    {
      "cell_type": "code",
      "source": [
        "#tek elemanlı demet\n",
        "demet=(5)\n",
        "type(demet)"
      ],
      "metadata": {
        "colab": {
          "base_uri": "https://localhost:8080/"
        },
        "id": "yz_LGBysxH-u",
        "outputId": "b4476b21-a9f1-4739-885a-5fc6e657a61c"
      },
      "execution_count": null,
      "outputs": [
        {
          "output_type": "execute_result",
          "data": {
            "text/plain": [
              "int"
            ]
          },
          "metadata": {},
          "execution_count": 7
        }
      ]
    },
    {
      "cell_type": "code",
      "source": [
        "demet=(5,)\n",
        "type(demet)"
      ],
      "metadata": {
        "colab": {
          "base_uri": "https://localhost:8080/"
        },
        "id": "nl1eP4CpxPP8",
        "outputId": "d80f99d2-5920-4f22-e964-8584969562ce"
      },
      "execution_count": null,
      "outputs": [
        {
          "output_type": "execute_result",
          "data": {
            "text/plain": [
              "tuple"
            ]
          },
          "metadata": {},
          "execution_count": 8
        }
      ]
    },
    {
      "cell_type": "code",
      "source": [
        "#count metodu\n",
        "demet=(1,2,1,2,4,3,2,1)\n",
        "print(\"Demet dizisinde bulunan 1 karakterinin sayısı : \",demet.count(1))\n",
        "print(\"Demet dizisinde bulunan 2 karakterinin sayısı : \",demet.count(2))"
      ],
      "metadata": {
        "colab": {
          "base_uri": "https://localhost:8080/"
        },
        "id": "BjDTjlmnxSyh",
        "outputId": "e6ab7052-0c13-4f5a-83ef-4cb153d56a73"
      },
      "execution_count": null,
      "outputs": [
        {
          "output_type": "stream",
          "name": "stdout",
          "text": [
            "Demet dizisinde bulunan 1 karakterinin sayısı :  3\n",
            "Demet dizisinde bulunan 2 karakterinin sayısı :  3\n"
          ]
        }
      ]
    },
    {
      "cell_type": "code",
      "source": [
        "#index metodu\n",
        "demet=(\"Pazartesi\",\"Salı\",\"Çarşamba\",\"Perşembe\",\"Cuma\",\"Cumartesi\",\"Pazar\")\n",
        "print(\"Demet içindeki Çarşamba elemanının index değeri : \",demet.index(\"Çarşamba\"))"
      ],
      "metadata": {
        "colab": {
          "base_uri": "https://localhost:8080/"
        },
        "id": "Mf5qp3aPxk49",
        "outputId": "253c7c47-2fa1-4c21-afeb-c3a58ad1494d"
      },
      "execution_count": null,
      "outputs": [
        {
          "output_type": "stream",
          "name": "stdout",
          "text": [
            "Demet içindeki Çarşamba elemanının index değeri :  2\n"
          ]
        }
      ]
    },
    {
      "cell_type": "code",
      "source": [
        "#Değiştirilmeme özelliği\n",
        "demet=(1,2,3,4,5,6,7)\n",
        "demet[2]=7"
      ],
      "metadata": {
        "colab": {
          "base_uri": "https://localhost:8080/",
          "height": 176
        },
        "id": "d60pzFaDx-Dm",
        "outputId": "0a905a2f-0c24-4756-b87d-d7f610938321"
      },
      "execution_count": null,
      "outputs": [
        {
          "output_type": "error",
          "ename": "TypeError",
          "evalue": "'tuple' object does not support item assignment",
          "traceback": [
            "\u001b[0;31m---------------------------------------------------------------------------\u001b[0m",
            "\u001b[0;31mTypeError\u001b[0m                                 Traceback (most recent call last)",
            "\u001b[0;32m<ipython-input-11-a94b1aae0dab>\u001b[0m in \u001b[0;36m<cell line: 3>\u001b[0;34m()\u001b[0m\n\u001b[1;32m      1\u001b[0m \u001b[0;31m#Değiştirilmeme özelliği\u001b[0m\u001b[0;34m\u001b[0m\u001b[0;34m\u001b[0m\u001b[0m\n\u001b[1;32m      2\u001b[0m \u001b[0mdemet\u001b[0m\u001b[0;34m=\u001b[0m\u001b[0;34m(\u001b[0m\u001b[0;36m1\u001b[0m\u001b[0;34m,\u001b[0m\u001b[0;36m2\u001b[0m\u001b[0;34m,\u001b[0m\u001b[0;36m3\u001b[0m\u001b[0;34m,\u001b[0m\u001b[0;36m4\u001b[0m\u001b[0;34m,\u001b[0m\u001b[0;36m5\u001b[0m\u001b[0;34m,\u001b[0m\u001b[0;36m6\u001b[0m\u001b[0;34m,\u001b[0m\u001b[0;36m7\u001b[0m\u001b[0;34m)\u001b[0m\u001b[0;34m\u001b[0m\u001b[0;34m\u001b[0m\u001b[0m\n\u001b[0;32m----> 3\u001b[0;31m \u001b[0mdemet\u001b[0m\u001b[0;34m[\u001b[0m\u001b[0;36m2\u001b[0m\u001b[0;34m]\u001b[0m\u001b[0;34m=\u001b[0m\u001b[0;36m7\u001b[0m\u001b[0;34m\u001b[0m\u001b[0;34m\u001b[0m\u001b[0m\n\u001b[0m",
            "\u001b[0;31mTypeError\u001b[0m: 'tuple' object does not support item assignment"
          ]
        }
      ]
    },
    {
      "cell_type": "code",
      "source": [
        "#Demetler içinde gezinme\n",
        "for i in demet:\n",
        "  print(i)"
      ],
      "metadata": {
        "colab": {
          "base_uri": "https://localhost:8080/"
        },
        "id": "8-zuREpAyInS",
        "outputId": "361f38d5-e369-4962-9cca-54316a77d4d2"
      },
      "execution_count": null,
      "outputs": [
        {
          "output_type": "stream",
          "name": "stdout",
          "text": [
            "1\n",
            "2\n",
            "3\n",
            "4\n",
            "5\n",
            "6\n",
            "7\n"
          ]
        }
      ]
    },
    {
      "cell_type": "code",
      "source": [
        "#iç içe demet\n",
        "demet=((1,2),(3,4),(5,6),(7,8))\n",
        "for i,j in demet:\n",
        "  print(i,j)"
      ],
      "metadata": {
        "colab": {
          "base_uri": "https://localhost:8080/"
        },
        "id": "NnolUvNiySHS",
        "outputId": "9afaabb0-8cb5-47c7-dde1-8cac616e9f3f"
      },
      "execution_count": null,
      "outputs": [
        {
          "output_type": "stream",
          "name": "stdout",
          "text": [
            "1 2\n",
            "3 4\n",
            "5 6\n",
            "7 8\n"
          ]
        }
      ]
    },
    {
      "cell_type": "markdown",
      "source": [
        "# SÖZLÜK VERİ TİPLERİ"
      ],
      "metadata": {
        "id": "m_dHSUEuyk8Z"
      }
    },
    {
      "cell_type": "code",
      "source": [
        "sözlük={\"Bir\":1,\"İki\":2,\"Üç\":3}\n",
        "print(type(sözlük))\n",
        "print(\"Sözlük elemanının bir isimli anahtar değeri : \",sözlük[\"Bir\"])\n",
        "print(\"Sözlük elemanının iki isimli anahtar değeri : \",sözlük[\"İki\"])\n",
        "print(\"Sözlük elemanının üç isimli anahtar değeri : \",sözlük[\"Üç\"])"
      ],
      "metadata": {
        "colab": {
          "base_uri": "https://localhost:8080/"
        },
        "id": "jDDs-3Tqyji6",
        "outputId": "6e91cc6f-7ed5-4646-c54e-cabe2e71f589"
      },
      "execution_count": null,
      "outputs": [
        {
          "output_type": "stream",
          "name": "stdout",
          "text": [
            "<class 'dict'>\n",
            "Sözlük elemanının bir isimli anahtar değeri :  1\n",
            "Sözlük elemanının iki isimli anahtar değeri :  2\n",
            "Sözlük elemanının üç isimli anahtar değeri :  3\n"
          ]
        }
      ]
    },
    {
      "cell_type": "code",
      "source": [
        "# sözlüğe elean ekleme\n",
        "print(\"Sözlük : \",sözlük)\n",
        "sözlük[\"dört\"]=4\n",
        "print(sözlük)"
      ],
      "metadata": {
        "colab": {
          "base_uri": "https://localhost:8080/"
        },
        "id": "On_UU-t7zEZ-",
        "outputId": "32fe588a-e80c-42a1-b1e3-39ca8fbd3272"
      },
      "execution_count": null,
      "outputs": [
        {
          "output_type": "stream",
          "name": "stdout",
          "text": [
            "Sözlük :  {'Bir': 1, 'İki': 2, 'Üç': 3}\n",
            "{'Bir': 1, 'İki': 2, 'Üç': 3, 'dört': 4}\n"
          ]
        }
      ]
    },
    {
      "cell_type": "code",
      "source": [
        "#anahtar değerini değiştir\n",
        "print(\"Sözlük : \",sözlük)\n",
        "sözlük[\"dört\"]=8\n",
        "print(sözlük)"
      ],
      "metadata": {
        "colab": {
          "base_uri": "https://localhost:8080/"
        },
        "id": "X2b4M85mzQJE",
        "outputId": "a49c8d64-d23a-4966-c719-874c51f3b99c"
      },
      "execution_count": null,
      "outputs": [
        {
          "output_type": "stream",
          "name": "stdout",
          "text": [
            "Sözlük :  {'Bir': 1, 'İki': 2, 'Üç': 3, 'dört': 4}\n",
            "{'Bir': 1, 'İki': 2, 'Üç': 3, 'dört': 8}\n"
          ]
        }
      ]
    },
    {
      "cell_type": "code",
      "source": [
        "#keys metodu\n",
        "print(\"Sözlük : Anahtarları: \",sözlük.keys())"
      ],
      "metadata": {
        "colab": {
          "base_uri": "https://localhost:8080/"
        },
        "id": "7IUmUiTTzZEB",
        "outputId": "61a1896d-324e-4693-f0cc-b3b2e384a90e"
      },
      "execution_count": null,
      "outputs": [
        {
          "output_type": "stream",
          "name": "stdout",
          "text": [
            "Sözlük : Anahtarları:  dict_keys(['Bir', 'İki', 'Üç', 'dört'])\n"
          ]
        }
      ]
    },
    {
      "cell_type": "code",
      "source": [
        "#Values metodu\n",
        "print(\"Sözlük : Değerleri: \",sözlük.values())"
      ],
      "metadata": {
        "colab": {
          "base_uri": "https://localhost:8080/"
        },
        "id": "smWBwZdDzoGZ",
        "outputId": "2321d2ae-7060-4aea-efcf-b5b1f8c63eb9"
      },
      "execution_count": null,
      "outputs": [
        {
          "output_type": "stream",
          "name": "stdout",
          "text": [
            "Sözlük : Değerleri:  dict_values([1, 2, 3, 8])\n"
          ]
        }
      ]
    },
    {
      "cell_type": "markdown",
      "source": [
        "#Pop metodu\n",
        "\n",
        "Sözlükten eleman silmek için kullanılır\n"
      ],
      "metadata": {
        "id": "j8RMGeEazvo6"
      }
    },
    {
      "cell_type": "code",
      "source": [
        "print(\"Sözlük \", sözlük)\n",
        "sözlük.pop(\"dört\")\n",
        "print(\"Sözlük \",sözlük)"
      ],
      "metadata": {
        "colab": {
          "base_uri": "https://localhost:8080/"
        },
        "id": "hgpH9htIzx-g",
        "outputId": "540fd57f-6a61-4956-cfaf-2ab390089fd0"
      },
      "execution_count": null,
      "outputs": [
        {
          "output_type": "stream",
          "name": "stdout",
          "text": [
            "Sözlük  {'Bir': 1, 'İki': 2, 'Üç': 3, 'dört': 8}\n",
            "Sözlük  {'Bir': 1, 'İki': 2, 'Üç': 3}\n"
          ]
        }
      ]
    },
    {
      "cell_type": "markdown",
      "source": [
        "#Get metodu\n",
        "sözlük elemanlarına erişmek için kullanılıraiseExceptionsK\n",
        "\n",
        "keys()\n",
        "\n",
        "values()\n",
        "\n",
        "items()"
      ],
      "metadata": {
        "id": "i9U0fu9_0QKf"
      }
    },
    {
      "cell_type": "code",
      "source": [
        "sozluk={'Bir': 1, 'İki': 2, 'Üç': 3, 'dört': 8}\n",
        "for i in sozluk:\n",
        "  print(i)"
      ],
      "metadata": {
        "colab": {
          "base_uri": "https://localhost:8080/"
        },
        "id": "f7tPl4Eq0Cof",
        "outputId": "17be188e-9253-4701-8778-1d364ce7cab5"
      },
      "execution_count": null,
      "outputs": [
        {
          "output_type": "stream",
          "name": "stdout",
          "text": [
            "Bir\n",
            "İki\n",
            "Üç\n",
            "dört\n"
          ]
        }
      ]
    },
    {
      "cell_type": "code",
      "source": [
        "for i in sozluk.keys():\n",
        "  print(i)"
      ],
      "metadata": {
        "colab": {
          "base_uri": "https://localhost:8080/"
        },
        "id": "rDUZJRL40gQh",
        "outputId": "e7a2de8c-f449-4c59-b7ae-011bbef9c01e"
      },
      "execution_count": null,
      "outputs": [
        {
          "output_type": "stream",
          "name": "stdout",
          "text": [
            "Bir\n",
            "İki\n",
            "Üç\n",
            "dört\n"
          ]
        }
      ]
    },
    {
      "cell_type": "code",
      "source": [
        "for i in sozluk.items():\n",
        "  print(i)"
      ],
      "metadata": {
        "colab": {
          "base_uri": "https://localhost:8080/"
        },
        "id": "pzjqn6R50XGc",
        "outputId": "a074e4c7-4da4-41ae-d0b5-ba309d33bec9"
      },
      "execution_count": null,
      "outputs": [
        {
          "output_type": "stream",
          "name": "stdout",
          "text": [
            "('Bir', 1)\n",
            "('İki', 2)\n",
            "('Üç', 3)\n",
            "('dört', 8)\n"
          ]
        }
      ]
    },
    {
      "cell_type": "code",
      "source": [
        "for i in sozluk.values():\n",
        "  print(i)"
      ],
      "metadata": {
        "colab": {
          "base_uri": "https://localhost:8080/"
        },
        "id": "uuQ49Cuq0n7-",
        "outputId": "a504590a-32c5-46f7-9dbd-322e6acb5f3f"
      },
      "execution_count": null,
      "outputs": [
        {
          "output_type": "stream",
          "name": "stdout",
          "text": [
            "1\n",
            "2\n",
            "3\n",
            "8\n"
          ]
        }
      ]
    },
    {
      "cell_type": "code",
      "source": [
        "# bir telefon rehberi oluşturalım\n",
        "telefonRehberi = {\"Pizzacı\":\"03123452345\",\n",
        "                \"Mantıcı\":\"02123432234\",\n",
        "                \"börekçi\":\"02323454323\",\n",
        "                \"tatlıcı\":\"03622343212\",\n",
        "                \"köfteci\":\"02123423243\"}\n",
        "\n",
        "kisi=input(\"Telefon numarasını öğrenmek için giriniz\")\n",
        "cevap=\"{} adlı kişinin telefon numarası : {}\"\n",
        "print(cevap.format(kisi,telefonRehberi[kisi]))\n"
      ],
      "metadata": {
        "colab": {
          "base_uri": "https://localhost:8080/"
        },
        "id": "XEleDrew0r76",
        "outputId": "9d646ee6-d854-4476-c84a-53fee73def1f"
      },
      "execution_count": null,
      "outputs": [
        {
          "output_type": "stream",
          "name": "stdout",
          "text": [
            "Telefon numarasını öğrenmek için girinizPizzacı\n",
            "Pizzacı adlı kişinin telefon numarası : 03123452345\n"
          ]
        }
      ]
    },
    {
      "cell_type": "markdown",
      "source": [
        "Sınıf listesinin isme göre sıralanması\n"
      ],
      "metadata": {
        "id": "VKadNrR61yEH"
      }
    },
    {
      "cell_type": "code",
      "source": [
        "sinifListesi={\"Zeynep\":\"Demir\",\"İlkay\":\"Arman\",\"Mehmet\":\"Çınar\",\"Haktan\":\"Cömert\",\"Cemre\":\"Ceylan\",\"Ayşe\":\"Kodal\"}\n",
        "for key in sorted(sinifListesi):\n",
        "  print(\"{} {}\".format(key,sinifListesi[key]))\n"
      ],
      "metadata": {
        "colab": {
          "base_uri": "https://localhost:8080/"
        },
        "id": "VabHPvX-12Zt",
        "outputId": "3e8c8567-2b7d-4275-d3f2-1204fa0f8fec"
      },
      "execution_count": null,
      "outputs": [
        {
          "output_type": "stream",
          "name": "stdout",
          "text": [
            "Ayşe Kodal\n",
            "Cemre Ceylan\n",
            "Haktan Cömert\n",
            "Mehmet Çınar\n",
            "Zeynep Demir\n",
            "İlkay Arman\n"
          ]
        }
      ]
    },
    {
      "cell_type": "code",
      "source": [
        "d={\"a\":0,\"b\":1,\"c\":2}\n",
        "print(d[\"c\"])"
      ],
      "metadata": {
        "colab": {
          "base_uri": "https://localhost:8080/"
        },
        "id": "smayvFkG2aD-",
        "outputId": "95837186-4abb-461b-85ed-d0b145d8a931"
      },
      "execution_count": null,
      "outputs": [
        {
          "output_type": "stream",
          "name": "stdout",
          "text": [
            "2\n"
          ]
        }
      ]
    },
    {
      "cell_type": "code",
      "source": [
        "d={\"a\":0,\"b\":1,\"c\":2}\n",
        "print(d[2])"
      ],
      "metadata": {
        "colab": {
          "base_uri": "https://localhost:8080/",
          "height": 159
        },
        "id": "90zaYwT_2hbr",
        "outputId": "627ba44a-f7e8-4ce1-b3c6-d4d803a87a17"
      },
      "execution_count": null,
      "outputs": [
        {
          "output_type": "error",
          "ename": "KeyError",
          "evalue": "2",
          "traceback": [
            "\u001b[0;31m---------------------------------------------------------------------------\u001b[0m",
            "\u001b[0;31mKeyError\u001b[0m                                  Traceback (most recent call last)",
            "\u001b[0;32m<ipython-input-36-6283980fe191>\u001b[0m in \u001b[0;36m<cell line: 2>\u001b[0;34m()\u001b[0m\n\u001b[1;32m      1\u001b[0m \u001b[0md\u001b[0m\u001b[0;34m=\u001b[0m\u001b[0;34m{\u001b[0m\u001b[0;34m\"a\"\u001b[0m\u001b[0;34m:\u001b[0m\u001b[0;36m0\u001b[0m\u001b[0;34m,\u001b[0m\u001b[0;34m\"b\"\u001b[0m\u001b[0;34m:\u001b[0m\u001b[0;36m1\u001b[0m\u001b[0;34m,\u001b[0m\u001b[0;34m\"c\"\u001b[0m\u001b[0;34m:\u001b[0m\u001b[0;36m2\u001b[0m\u001b[0;34m}\u001b[0m\u001b[0;34m\u001b[0m\u001b[0;34m\u001b[0m\u001b[0m\n\u001b[0;32m----> 2\u001b[0;31m \u001b[0mprint\u001b[0m\u001b[0;34m(\u001b[0m\u001b[0md\u001b[0m\u001b[0;34m[\u001b[0m\u001b[0;36m2\u001b[0m\u001b[0;34m]\u001b[0m\u001b[0;34m)\u001b[0m\u001b[0;34m\u001b[0m\u001b[0;34m\u001b[0m\u001b[0m\n\u001b[0m",
            "\u001b[0;31mKeyError\u001b[0m: 2"
          ]
        }
      ]
    },
    {
      "cell_type": "code",
      "source": [
        "d={\"a\":0,\"b\":1,\"c\":2}\n",
        "print(d.get(2,\"c\"))\n",
        "\n"
      ],
      "metadata": {
        "colab": {
          "base_uri": "https://localhost:8080/"
        },
        "id": "kKzTho_R2ld_",
        "outputId": "77d7ca34-3596-41e4-cbce-5c0c84442300"
      },
      "execution_count": null,
      "outputs": [
        {
          "output_type": "stream",
          "name": "stdout",
          "text": [
            "c\n"
          ]
        }
      ]
    },
    {
      "cell_type": "code",
      "source": [
        "d={\"x\":3,\"a\":1,\"c\":2}\n",
        "for x in sorted(d):\n",
        "  print(d[x],end=\" \")"
      ],
      "metadata": {
        "colab": {
          "base_uri": "https://localhost:8080/"
        },
        "id": "D8yEWyXl20wV",
        "outputId": "c3674545-6b23-4823-d605-706a834c9a1f"
      },
      "execution_count": null,
      "outputs": [
        {
          "output_type": "stream",
          "name": "stdout",
          "text": [
            "1 2 3 "
          ]
        }
      ]
    },
    {
      "cell_type": "code",
      "source": [
        "d={\"a\":78,\"b\":61,\"c\":20}\n",
        "for x in sorted(d.values()):\n",
        "  print(x,end=\" \")"
      ],
      "metadata": {
        "colab": {
          "base_uri": "https://localhost:8080/"
        },
        "id": "xJG69BVz3EGH",
        "outputId": "fc0e59eb-f044-4d06-dc01-7bcc7049480d"
      },
      "execution_count": null,
      "outputs": [
        {
          "output_type": "stream",
          "name": "stdout",
          "text": [
            "20 61 78 "
          ]
        }
      ]
    },
    {
      "cell_type": "code",
      "source": [
        "d={\"a\":78,\"b\":61,\"c\":20}\n",
        "for x in sorted(d.keys()):\n",
        "  print(x,end=\" \")"
      ],
      "metadata": {
        "colab": {
          "base_uri": "https://localhost:8080/"
        },
        "id": "AOxJpvAE3Muc",
        "outputId": "a2a86327-8ebb-4a3d-e180-13afb0c66a89"
      },
      "execution_count": null,
      "outputs": [
        {
          "output_type": "stream",
          "name": "stdout",
          "text": [
            "a b c "
          ]
        }
      ]
    },
    {
      "cell_type": "code",
      "source": [
        "tup1=(12,13.14)\n",
        "print(tup1[1])"
      ],
      "metadata": {
        "colab": {
          "base_uri": "https://localhost:8080/"
        },
        "id": "boWQOI7P3Qpk",
        "outputId": "5f057762-4499-4770-f6ec-eeec3b84e21e"
      },
      "execution_count": null,
      "outputs": [
        {
          "output_type": "stream",
          "name": "stdout",
          "text": [
            "13.14\n"
          ]
        }
      ]
    },
    {
      "cell_type": "code",
      "source": [
        "tup1,tup2=(123,\"xyz\",\"zar\"),(234,\"abc\")\n",
        "print(\"İlk tupple eleman sayısı : \",len(tup1))\n",
        "print(\"İkinci tupple eleman sayısı : \",len(tup2))\n"
      ],
      "metadata": {
        "colab": {
          "base_uri": "https://localhost:8080/"
        },
        "id": "jtcM2A2S3X-5",
        "outputId": "5a00a6c5-f93e-43b5-8416-8a3f7ca8637b"
      },
      "execution_count": null,
      "outputs": [
        {
          "output_type": "stream",
          "name": "stdout",
          "text": [
            "İlk tupple eleman sayısı :  3\n",
            "İkinci tupple eleman sayısı :  2\n"
          ]
        }
      ]
    },
    {
      "cell_type": "code",
      "source": [
        "tup1=(2,3,4,5,6,7)\n",
        "tup1[2]=5\n",
        "print(tup1[2])"
      ],
      "metadata": {
        "colab": {
          "base_uri": "https://localhost:8080/",
          "height": 176
        },
        "id": "dWB7rHjQ3u3M",
        "outputId": "b3e98c83-6d14-4e3e-de5e-5a5bc012debf"
      },
      "execution_count": null,
      "outputs": [
        {
          "output_type": "error",
          "ename": "TypeError",
          "evalue": "'tuple' object does not support item assignment",
          "traceback": [
            "\u001b[0;31m---------------------------------------------------------------------------\u001b[0m",
            "\u001b[0;31mTypeError\u001b[0m                                 Traceback (most recent call last)",
            "\u001b[0;32m<ipython-input-47-ab65a2bec64e>\u001b[0m in \u001b[0;36m<cell line: 2>\u001b[0;34m()\u001b[0m\n\u001b[1;32m      1\u001b[0m \u001b[0mtup1\u001b[0m\u001b[0;34m=\u001b[0m\u001b[0;34m(\u001b[0m\u001b[0;36m2\u001b[0m\u001b[0;34m,\u001b[0m\u001b[0;36m3\u001b[0m\u001b[0;34m,\u001b[0m\u001b[0;36m4\u001b[0m\u001b[0;34m,\u001b[0m\u001b[0;36m5\u001b[0m\u001b[0;34m,\u001b[0m\u001b[0;36m6\u001b[0m\u001b[0;34m,\u001b[0m\u001b[0;36m7\u001b[0m\u001b[0;34m)\u001b[0m\u001b[0;34m\u001b[0m\u001b[0;34m\u001b[0m\u001b[0m\n\u001b[0;32m----> 2\u001b[0;31m \u001b[0mtup1\u001b[0m\u001b[0;34m[\u001b[0m\u001b[0;36m2\u001b[0m\u001b[0;34m]\u001b[0m\u001b[0;34m=\u001b[0m\u001b[0;36m5\u001b[0m\u001b[0;34m\u001b[0m\u001b[0;34m\u001b[0m\u001b[0m\n\u001b[0m\u001b[1;32m      3\u001b[0m \u001b[0mprint\u001b[0m\u001b[0;34m(\u001b[0m\u001b[0mtup1\u001b[0m\u001b[0;34m[\u001b[0m\u001b[0;36m2\u001b[0m\u001b[0;34m]\u001b[0m\u001b[0;34m)\u001b[0m\u001b[0;34m\u001b[0m\u001b[0;34m\u001b[0m\u001b[0m\n",
            "\u001b[0;31mTypeError\u001b[0m: 'tuple' object does not support item assignment"
          ]
        }
      ]
    }
  ]
}
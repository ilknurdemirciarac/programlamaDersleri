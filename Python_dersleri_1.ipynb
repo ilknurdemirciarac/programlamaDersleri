{
  "nbformat": 4,
  "nbformat_minor": 0,
  "metadata": {
    "colab": {
      "provenance": [],
      "toc_visible": true,
      "authorship_tag": "ABX9TyPsC5MdaUyZpKOY25+uEW0p",
      "include_colab_link": true
    },
    "kernelspec": {
      "name": "python3",
      "display_name": "Python 3"
    },
    "language_info": {
      "name": "python"
    }
  },
  "cells": [
    {
      "cell_type": "markdown",
      "metadata": {
        "id": "view-in-github",
        "colab_type": "text"
      },
      "source": [
        "<a href=\"https://colab.research.google.com/github/ilknurdemirciarac/java2022/blob/main/Python_dersleri_1.ipynb\" target=\"_parent\"><img src=\"https://colab.research.google.com/assets/colab-badge.svg\" alt=\"Open In Colab\"/></a>"
      ]
    },
    {
      "cell_type": "markdown",
      "source": [
        "# DEĞİŞKENLER OPERATÖRLER VE TEMEL VERİ TİPLERİ\n",
        " # DEĞİŞKENLER\n"
      ],
      "metadata": {
        "id": "NLpwsjJAp47W"
      }
    },
    {
      "cell_type": "markdown",
      "source": [
        "*Python değişken tanımlama örnekleri*"
      ],
      "metadata": {
        "id": "s5gWjw5zqV85"
      }
    },
    {
      "cell_type": "code",
      "source": [
        "a=5\n",
        "a"
      ],
      "metadata": {
        "colab": {
          "base_uri": "https://localhost:8080/"
        },
        "id": "5WSSkPlRqKdH",
        "outputId": "b34f97f1-b201-4ed2-efaf-8ad384bec44f"
      },
      "execution_count": 1,
      "outputs": [
        {
          "output_type": "execute_result",
          "data": {
            "text/plain": [
              "5"
            ]
          },
          "metadata": {},
          "execution_count": 1
        }
      ]
    },
    {
      "cell_type": "code",
      "source": [
        "a=8\n",
        "a"
      ],
      "metadata": {
        "colab": {
          "base_uri": "https://localhost:8080/"
        },
        "id": "5EmqduptqO-8",
        "outputId": "ca034261-fb85-4dcb-8991-8065d28e3f77"
      },
      "execution_count": 3,
      "outputs": [
        {
          "output_type": "execute_result",
          "data": {
            "text/plain": [
              "8"
            ]
          },
          "metadata": {},
          "execution_count": 3
        }
      ]
    },
    {
      "cell_type": "code",
      "source": [
        "a=3.14\n",
        "a"
      ],
      "metadata": {
        "colab": {
          "base_uri": "https://localhost:8080/"
        },
        "id": "tQelri5CqRx6",
        "outputId": "c47772bf-0c2e-4473-8439-2c40b9790d31"
      },
      "execution_count": 4,
      "outputs": [
        {
          "output_type": "execute_result",
          "data": {
            "text/plain": [
              "3.14"
            ]
          },
          "metadata": {},
          "execution_count": 4
        }
      ]
    },
    {
      "cell_type": "markdown",
      "source": [
        "*İki sayının toplama işleminin sonucunun görüntülenmesi*"
      ],
      "metadata": {
        "id": "IFShSHdnqcsq"
      }
    },
    {
      "cell_type": "code",
      "source": [
        "a=4\n",
        "b=5\n",
        "c=a+b\n",
        "c"
      ],
      "metadata": {
        "colab": {
          "base_uri": "https://localhost:8080/"
        },
        "id": "nB6TUMBTqc3A",
        "outputId": "52d639ed-b8f4-4e25-fd32-779e884cddd0"
      },
      "execution_count": 5,
      "outputs": [
        {
          "output_type": "execute_result",
          "data": {
            "text/plain": [
              "9"
            ]
          },
          "metadata": {},
          "execution_count": 5
        }
      ]
    },
    {
      "cell_type": "markdown",
      "source": [
        "*İki sayının Çarpma işleminin sonucunun görüntülenmesi*"
      ],
      "metadata": {
        "id": "XPRNhqY_qqxk"
      }
    },
    {
      "cell_type": "code",
      "source": [
        "a=5\n",
        "b=6\n",
        "c=a*b\n",
        "c"
      ],
      "metadata": {
        "colab": {
          "base_uri": "https://localhost:8080/"
        },
        "id": "iadZ-vp1qqk2",
        "outputId": "507bdd19-8ec6-486d-8aba-33e13df02ce3"
      },
      "execution_count": 6,
      "outputs": [
        {
          "output_type": "execute_result",
          "data": {
            "text/plain": [
              "30"
            ]
          },
          "metadata": {},
          "execution_count": 6
        }
      ]
    },
    {
      "cell_type": "markdown",
      "source": [
        "Değişken isimlendirme hataları ve doğru değişken tanımlama işlemleri"
      ],
      "metadata": {
        "id": "3GBWlif4q1my"
      }
    },
    {
      "cell_type": "code",
      "source": [
        "3a=5\n"
      ],
      "metadata": {
        "colab": {
          "base_uri": "https://localhost:8080/",
          "height": 106
        },
        "id": "Suj0XGr7q8HM",
        "outputId": "59942594-5397-45c3-b98e-61d1368890a0"
      },
      "execution_count": 7,
      "outputs": [
        {
          "output_type": "error",
          "ename": "SyntaxError",
          "evalue": "invalid decimal literal (<ipython-input-7-b68c30cc01f0>, line 1)",
          "traceback": [
            "\u001b[0;36m  File \u001b[0;32m\"<ipython-input-7-b68c30cc01f0>\"\u001b[0;36m, line \u001b[0;32m1\u001b[0m\n\u001b[0;31m    3a=5\u001b[0m\n\u001b[0m    ^\u001b[0m\n\u001b[0;31mSyntaxError\u001b[0m\u001b[0;31m:\u001b[0m invalid decimal literal\n"
          ]
        }
      ]
    },
    {
      "cell_type": "code",
      "source": [
        "a3=5\n",
        "a3"
      ],
      "metadata": {
        "colab": {
          "base_uri": "https://localhost:8080/"
        },
        "id": "2BPzuSBoq-9n",
        "outputId": "5c884b60-e06f-4243-82a2-c769782eb94a"
      },
      "execution_count": 8,
      "outputs": [
        {
          "output_type": "execute_result",
          "data": {
            "text/plain": [
              "5"
            ]
          },
          "metadata": {},
          "execution_count": 8
        }
      ]
    },
    {
      "cell_type": "code",
      "source": [
        "pi sayisi=3.14\n",
        "pi sayisi"
      ],
      "metadata": {
        "colab": {
          "base_uri": "https://localhost:8080/",
          "height": 106
        },
        "id": "5ZbC4AgmrB6B",
        "outputId": "1a1025c7-195c-4560-d56d-4e9846c9308a"
      },
      "execution_count": 9,
      "outputs": [
        {
          "output_type": "error",
          "ename": "SyntaxError",
          "evalue": "invalid syntax (<ipython-input-9-add0aedf370a>, line 1)",
          "traceback": [
            "\u001b[0;36m  File \u001b[0;32m\"<ipython-input-9-add0aedf370a>\"\u001b[0;36m, line \u001b[0;32m1\u001b[0m\n\u001b[0;31m    pi sayisi=3.14\u001b[0m\n\u001b[0m       ^\u001b[0m\n\u001b[0;31mSyntaxError\u001b[0m\u001b[0;31m:\u001b[0m invalid syntax\n"
          ]
        }
      ]
    },
    {
      "cell_type": "code",
      "source": [
        "pi_sayisi=3.14\n",
        "pi_sayisi"
      ],
      "metadata": {
        "colab": {
          "base_uri": "https://localhost:8080/"
        },
        "id": "AYmeoy6LrGfm",
        "outputId": "8611f260-a811-498c-d854-8bd7f9eb46f1"
      },
      "execution_count": 10,
      "outputs": [
        {
          "output_type": "execute_result",
          "data": {
            "text/plain": [
              "3.14"
            ]
          },
          "metadata": {},
          "execution_count": 10
        }
      ]
    },
    {
      "cell_type": "code",
      "source": [
        "a?=5\n",
        "a?"
      ],
      "metadata": {
        "colab": {
          "base_uri": "https://localhost:8080/",
          "height": 106
        },
        "id": "CXE3iMdRrLMq",
        "outputId": "5b5535f6-affc-4a13-ea94-d1eea50d935a"
      },
      "execution_count": 11,
      "outputs": [
        {
          "output_type": "error",
          "ename": "SyntaxError",
          "evalue": "invalid syntax (<ipython-input-11-6ecc455b00f5>, line 1)",
          "traceback": [
            "\u001b[0;36m  File \u001b[0;32m\"<ipython-input-11-6ecc455b00f5>\"\u001b[0;36m, line \u001b[0;32m1\u001b[0m\n\u001b[0;31m    a?=5\u001b[0m\n\u001b[0m     ^\u001b[0m\n\u001b[0;31mSyntaxError\u001b[0m\u001b[0;31m:\u001b[0m invalid syntax\n"
          ]
        }
      ]
    },
    {
      "cell_type": "markdown",
      "source": [
        "# DEĞİŞKENLER ÜZERİNDE İŞLEMLER"
      ],
      "metadata": {
        "id": "Q3BQoE_9rPKB"
      }
    },
    {
      "cell_type": "markdown",
      "source": [
        "**DEĞİŞKENİN DEĞERİNİ ARTIRMA**"
      ],
      "metadata": {
        "id": "13psRJA4rUcG"
      }
    },
    {
      "cell_type": "code",
      "source": [
        "a=5\n",
        "a=a+1\n",
        "a\n"
      ],
      "metadata": {
        "colab": {
          "base_uri": "https://localhost:8080/"
        },
        "id": "qlqlJ3KPraN3",
        "outputId": "6b88accb-1d33-4481-a14e-30f7ef60912e"
      },
      "execution_count": 12,
      "outputs": [
        {
          "output_type": "execute_result",
          "data": {
            "text/plain": [
              "6"
            ]
          },
          "metadata": {},
          "execution_count": 12
        }
      ]
    },
    {
      "cell_type": "code",
      "source": [
        "a+=1\n",
        "a"
      ],
      "metadata": {
        "colab": {
          "base_uri": "https://localhost:8080/"
        },
        "id": "ZSd-5XNMregc",
        "outputId": "941b4be2-b02d-48d4-a7c0-b8913caf412f"
      },
      "execution_count": 13,
      "outputs": [
        {
          "output_type": "execute_result",
          "data": {
            "text/plain": [
              "7"
            ]
          },
          "metadata": {},
          "execution_count": 13
        }
      ]
    },
    {
      "cell_type": "markdown",
      "source": [
        "*İki kenar uzunluğu verilen dikdörtgenin çevresini hesaplayan program*"
      ],
      "metadata": {
        "id": "hs2OH4rRrmxM"
      }
    },
    {
      "cell_type": "code",
      "source": [
        "a=6\n",
        "b=4\n",
        "cevre=2*(a+b)\n",
        "cevre"
      ],
      "metadata": {
        "colab": {
          "base_uri": "https://localhost:8080/"
        },
        "id": "O_1PrNlVrg86",
        "outputId": "a3586fbf-3ff5-4483-fa75-351bec14e605"
      },
      "execution_count": 15,
      "outputs": [
        {
          "output_type": "execute_result",
          "data": {
            "text/plain": [
              "20"
            ]
          },
          "metadata": {},
          "execution_count": 15
        }
      ]
    },
    {
      "cell_type": "markdown",
      "source": [
        "*Dairenin alanını hesaplayan program*"
      ],
      "metadata": {
        "id": "3AW6ojnKryoL"
      }
    },
    {
      "cell_type": "code",
      "source": [
        "r=5\n",
        "piSayisi=3.14\n",
        "daireAlani=r*r*piSayisi\n",
        "daireAlani"
      ],
      "metadata": {
        "colab": {
          "base_uri": "https://localhost:8080/"
        },
        "id": "PTeCDf4nr2gC",
        "outputId": "f39e55d0-6549-4e12-c751-01e83bb19ce9"
      },
      "execution_count": 17,
      "outputs": [
        {
          "output_type": "execute_result",
          "data": {
            "text/plain": [
              "78.5"
            ]
          },
          "metadata": {},
          "execution_count": 17
        }
      ]
    },
    {
      "cell_type": "markdown",
      "source": [
        "**DEĞİŞKEN ÜZERİNDE ÇOKLU DEĞER ATAMA**"
      ],
      "metadata": {
        "id": "oaa45SiIsEdh"
      }
    },
    {
      "cell_type": "code",
      "source": [
        "a=b=c=10\n",
        "a"
      ],
      "metadata": {
        "colab": {
          "base_uri": "https://localhost:8080/"
        },
        "id": "bBfi5AJqsLIY",
        "outputId": "97190ab6-d4e6-401a-e146-5c83b082d8ac"
      },
      "execution_count": 18,
      "outputs": [
        {
          "output_type": "execute_result",
          "data": {
            "text/plain": [
              "10"
            ]
          },
          "metadata": {},
          "execution_count": 18
        }
      ]
    },
    {
      "cell_type": "code",
      "source": [
        "b"
      ],
      "metadata": {
        "colab": {
          "base_uri": "https://localhost:8080/"
        },
        "id": "V_RR6UYksPyP",
        "outputId": "c6bf3d8b-48b3-4864-c4a4-7d7ef0f10485"
      },
      "execution_count": 19,
      "outputs": [
        {
          "output_type": "execute_result",
          "data": {
            "text/plain": [
              "10"
            ]
          },
          "metadata": {},
          "execution_count": 19
        }
      ]
    },
    {
      "cell_type": "code",
      "source": [
        "c"
      ],
      "metadata": {
        "colab": {
          "base_uri": "https://localhost:8080/"
        },
        "id": "1jJuZwh0sRCb",
        "outputId": "09ee8ad9-7b95-46ef-883e-e0c7f1b1e79a"
      },
      "execution_count": 20,
      "outputs": [
        {
          "output_type": "execute_result",
          "data": {
            "text/plain": [
              "10"
            ]
          },
          "metadata": {},
          "execution_count": 20
        }
      ]
    },
    {
      "cell_type": "markdown",
      "source": [
        "**Birden çok değişkene farklı değer atama**"
      ],
      "metadata": {
        "id": "Z853BQuBsUdi"
      }
    },
    {
      "cell_type": "code",
      "source": [
        "x,y,z=3,4,5\n",
        "x"
      ],
      "metadata": {
        "colab": {
          "base_uri": "https://localhost:8080/"
        },
        "id": "gZb64d1KsVXK",
        "outputId": "812be3f4-e98b-4274-d967-33d82b56a8ee"
      },
      "execution_count": 21,
      "outputs": [
        {
          "output_type": "execute_result",
          "data": {
            "text/plain": [
              "3"
            ]
          },
          "metadata": {},
          "execution_count": 21
        }
      ]
    },
    {
      "cell_type": "code",
      "source": [
        "y"
      ],
      "metadata": {
        "colab": {
          "base_uri": "https://localhost:8080/"
        },
        "id": "6AcxI44OsRkR",
        "outputId": "a4988b42-f019-4b76-e6a8-ca8923437fa5"
      },
      "execution_count": 22,
      "outputs": [
        {
          "output_type": "execute_result",
          "data": {
            "text/plain": [
              "4"
            ]
          },
          "metadata": {},
          "execution_count": 22
        }
      ]
    },
    {
      "cell_type": "code",
      "source": [
        "z"
      ],
      "metadata": {
        "colab": {
          "base_uri": "https://localhost:8080/"
        },
        "id": "-DVodVx-scki",
        "outputId": "9ce12d29-2590-41f2-8b6e-67431d2c4546"
      },
      "execution_count": 23,
      "outputs": [
        {
          "output_type": "execute_result",
          "data": {
            "text/plain": [
              "5"
            ]
          },
          "metadata": {},
          "execution_count": 23
        }
      ]
    },
    {
      "cell_type": "markdown",
      "source": [
        "**TAMSAYI INTEGER VERİ TİPİ**"
      ],
      "metadata": {
        "id": "oNH5rgB2seFn"
      }
    },
    {
      "cell_type": "code",
      "source": [
        "a=4\n",
        "b=6"
      ],
      "metadata": {
        "id": "6Y6abPbrsi93"
      },
      "execution_count": 24,
      "outputs": []
    },
    {
      "cell_type": "code",
      "source": [
        "c=int()\n",
        "c"
      ],
      "metadata": {
        "colab": {
          "base_uri": "https://localhost:8080/"
        },
        "id": "JTHBsGktsmrr",
        "outputId": "87a46670-5333-4566-cb7e-7789f1db3c50"
      },
      "execution_count": 25,
      "outputs": [
        {
          "output_type": "execute_result",
          "data": {
            "text/plain": [
              "0"
            ]
          },
          "metadata": {},
          "execution_count": 25
        }
      ]
    },
    {
      "cell_type": "markdown",
      "source": [
        "**FLOAT VERİ TİPİ**"
      ],
      "metadata": {
        "id": "FFHADjyZtLjw"
      }
    },
    {
      "cell_type": "code",
      "source": [
        "pi=3.14\n",
        "pi"
      ],
      "metadata": {
        "colab": {
          "base_uri": "https://localhost:8080/"
        },
        "id": "Me2XtBNDtR7A",
        "outputId": "81398b05-f36f-473a-fab8-29194c735075"
      },
      "execution_count": 26,
      "outputs": [
        {
          "output_type": "execute_result",
          "data": {
            "text/plain": [
              "3.14"
            ]
          },
          "metadata": {},
          "execution_count": 26
        }
      ]
    },
    {
      "cell_type": "code",
      "source": [
        "x=float()\n",
        "x"
      ],
      "metadata": {
        "colab": {
          "base_uri": "https://localhost:8080/"
        },
        "id": "KyVRvEjStVrj",
        "outputId": "283b65a3-0b40-4377-e16e-96915f62401c"
      },
      "execution_count": 27,
      "outputs": [
        {
          "output_type": "execute_result",
          "data": {
            "text/plain": [
              "0.0"
            ]
          },
          "metadata": {},
          "execution_count": 27
        }
      ]
    },
    {
      "cell_type": "code",
      "source": [
        "20/5"
      ],
      "metadata": {
        "colab": {
          "base_uri": "https://localhost:8080/"
        },
        "id": "9rU8IZN5taXv",
        "outputId": "9d76bff4-9635-419d-fb7c-c49244a94454"
      },
      "execution_count": 28,
      "outputs": [
        {
          "output_type": "execute_result",
          "data": {
            "text/plain": [
              "4.0"
            ]
          },
          "metadata": {},
          "execution_count": 28
        }
      ]
    },
    {
      "cell_type": "markdown",
      "source": [
        "**ARİTMETİK OPERATÖRLER**"
      ],
      "metadata": {
        "id": "vwIcHACnte2d"
      }
    },
    {
      "cell_type": "markdown",
      "source": [
        "**Tamsayı bölmesi**  \n",
        "\n",
        "# //\n",
        "\n"
      ],
      "metadata": {
        "id": "5h68Nvnutkkg"
      }
    },
    {
      "cell_type": "code",
      "source": [
        "20/5\n"
      ],
      "metadata": {
        "colab": {
          "base_uri": "https://localhost:8080/"
        },
        "id": "DQo76Z-3tr6u",
        "outputId": "93b58be5-9cdd-401e-9310-a3614b3ae25a"
      },
      "execution_count": 30,
      "outputs": [
        {
          "output_type": "execute_result",
          "data": {
            "text/plain": [
              "4.0"
            ]
          },
          "metadata": {},
          "execution_count": 30
        }
      ]
    },
    {
      "cell_type": "code",
      "source": [
        "20//5"
      ],
      "metadata": {
        "colab": {
          "base_uri": "https://localhost:8080/"
        },
        "id": "Nnr4QuUStxNH",
        "outputId": "0f72293e-7e1b-4a64-a39f-9a18a475f225"
      },
      "execution_count": 31,
      "outputs": [
        {
          "output_type": "execute_result",
          "data": {
            "text/plain": [
              "4"
            ]
          },
          "metadata": {},
          "execution_count": 31
        }
      ]
    },
    {
      "cell_type": "code",
      "source": [
        "12//5"
      ],
      "metadata": {
        "colab": {
          "base_uri": "https://localhost:8080/"
        },
        "id": "yuQBEUIttzrR",
        "outputId": "d64f5b06-feee-4afb-8c69-4b169de0e346"
      },
      "execution_count": 32,
      "outputs": [
        {
          "output_type": "execute_result",
          "data": {
            "text/plain": [
              "2"
            ]
          },
          "metadata": {},
          "execution_count": 32
        }
      ]
    },
    {
      "cell_type": "code",
      "source": [
        "13.4//6.8"
      ],
      "metadata": {
        "colab": {
          "base_uri": "https://localhost:8080/"
        },
        "id": "DBjCVYE8t1Y5",
        "outputId": "1440377b-7edb-4716-cd8b-a4c34520ccfe"
      },
      "execution_count": 33,
      "outputs": [
        {
          "output_type": "execute_result",
          "data": {
            "text/plain": [
              "1.0"
            ]
          },
          "metadata": {},
          "execution_count": 33
        }
      ]
    },
    {
      "cell_type": "markdown",
      "source": [
        "**Kalanı Bulma Operatörü**\n",
        "# %"
      ],
      "metadata": {
        "id": "619WdzOnt45d"
      }
    },
    {
      "cell_type": "code",
      "source": [
        "13%3"
      ],
      "metadata": {
        "colab": {
          "base_uri": "https://localhost:8080/"
        },
        "id": "oYb2noRJt-a_",
        "outputId": "fa40dbb2-9485-4cea-b6cb-0faea5d7e8c3"
      },
      "execution_count": 34,
      "outputs": [
        {
          "output_type": "execute_result",
          "data": {
            "text/plain": [
              "1"
            ]
          },
          "metadata": {},
          "execution_count": 34
        }
      ]
    },
    {
      "cell_type": "code",
      "source": [
        "13.56%3.7"
      ],
      "metadata": {
        "colab": {
          "base_uri": "https://localhost:8080/"
        },
        "id": "cc0LNmtVt_-w",
        "outputId": "26cfe974-46cd-47c5-85d8-ff23497ec916"
      },
      "execution_count": 35,
      "outputs": [
        {
          "output_type": "execute_result",
          "data": {
            "text/plain": [
              "2.46"
            ]
          },
          "metadata": {},
          "execution_count": 35
        }
      ]
    },
    {
      "cell_type": "code",
      "source": [
        "4%2"
      ],
      "metadata": {
        "colab": {
          "base_uri": "https://localhost:8080/"
        },
        "id": "hYe6XpeUuDnK",
        "outputId": "39cb5479-c338-47d2-9f44-fe1e1cadbcca"
      },
      "execution_count": 36,
      "outputs": [
        {
          "output_type": "execute_result",
          "data": {
            "text/plain": [
              "0"
            ]
          },
          "metadata": {},
          "execution_count": 36
        }
      ]
    },
    {
      "cell_type": "markdown",
      "source": [
        "**Üs bulma operatörü**\n",
        "# **"
      ],
      "metadata": {
        "id": "hWVx_X2UuGDs"
      }
    },
    {
      "cell_type": "code",
      "source": [
        "2**3"
      ],
      "metadata": {
        "colab": {
          "base_uri": "https://localhost:8080/"
        },
        "id": "AwS-7z18uLOL",
        "outputId": "624a212e-fbf1-4894-b344-78d8c8b5dfc0"
      },
      "execution_count": 37,
      "outputs": [
        {
          "output_type": "execute_result",
          "data": {
            "text/plain": [
              "8"
            ]
          },
          "metadata": {},
          "execution_count": 37
        }
      ]
    },
    {
      "cell_type": "code",
      "source": [
        "5**2"
      ],
      "metadata": {
        "colab": {
          "base_uri": "https://localhost:8080/"
        },
        "id": "HDNBy-0cuNZN",
        "outputId": "43c5a520-17c2-4953-89f2-dd4b9ccb9cee"
      },
      "execution_count": 38,
      "outputs": [
        {
          "output_type": "execute_result",
          "data": {
            "text/plain": [
              "25"
            ]
          },
          "metadata": {},
          "execution_count": 38
        }
      ]
    },
    {
      "cell_type": "markdown",
      "source": [
        "*Bir sayının **köklerini** hesaplama*"
      ],
      "metadata": {
        "id": "N6rLTJStuQZ1"
      }
    },
    {
      "cell_type": "markdown",
      "source": [],
      "metadata": {
        "id": "ho-SUzP3xZ_i"
      }
    },
    {
      "cell_type": "code",
      "source": [
        "25**0.5"
      ],
      "metadata": {
        "colab": {
          "base_uri": "https://localhost:8080/"
        },
        "id": "A_rU_eFduUyh",
        "outputId": "ec1e379c-d97a-43a2-d42a-12dcc8e54ed4"
      },
      "execution_count": 39,
      "outputs": [
        {
          "output_type": "execute_result",
          "data": {
            "text/plain": [
              "5.0"
            ]
          },
          "metadata": {},
          "execution_count": 39
        }
      ]
    },
    {
      "cell_type": "code",
      "source": [
        "8**(1/3)"
      ],
      "metadata": {
        "colab": {
          "base_uri": "https://localhost:8080/"
        },
        "id": "-E8YeyJQuXV3",
        "outputId": "a180ad91-c425-4597-83f4-7cbb049733ff"
      },
      "execution_count": 40,
      "outputs": [
        {
          "output_type": "execute_result",
          "data": {
            "text/plain": [
              "2.0"
            ]
          },
          "metadata": {},
          "execution_count": 40
        }
      ]
    },
    {
      "cell_type": "markdown",
      "source": [
        "**Operatörlerde işlem sırası**\n",
        "\n",
        "\n",
        "1.   Çarpma ve bölme, toplama ve çıkarmaya göre daha önceliklidir\n",
        "2.   Aynı işlem önceliğine sahip işlemlerde ise işlem sırası soldan sağa doğrudur.\n",
        "3.   Parantez içindeki işlemin önceliği vardır.\n"
      ],
      "metadata": {
        "id": "pnL8CKgGxBi5"
      }
    },
    {
      "cell_type": "code",
      "source": [
        "6+5*4/10-2"
      ],
      "metadata": {
        "colab": {
          "base_uri": "https://localhost:8080/"
        },
        "id": "RpEq0zQhxa3A",
        "outputId": "9e390434-8cc5-44bd-b9f0-d774097c25d1"
      },
      "execution_count": 41,
      "outputs": [
        {
          "output_type": "execute_result",
          "data": {
            "text/plain": [
              "6.0"
            ]
          },
          "metadata": {},
          "execution_count": 41
        }
      ]
    },
    {
      "cell_type": "code",
      "source": [
        "(2+1)*3"
      ],
      "metadata": {
        "colab": {
          "base_uri": "https://localhost:8080/"
        },
        "id": "a2grH7T0xf4d",
        "outputId": "26340504-651f-44f1-e12e-221af9d1fd49"
      },
      "execution_count": 42,
      "outputs": [
        {
          "output_type": "execute_result",
          "data": {
            "text/plain": [
              "9"
            ]
          },
          "metadata": {},
          "execution_count": 42
        }
      ]
    },
    {
      "cell_type": "code",
      "source": [
        "8/2*4"
      ],
      "metadata": {
        "colab": {
          "base_uri": "https://localhost:8080/"
        },
        "id": "ZbXaXkz8xjj7",
        "outputId": "099b7a77-91fb-4294-aa57-acb2c02eedfe"
      },
      "execution_count": 43,
      "outputs": [
        {
          "output_type": "execute_result",
          "data": {
            "text/plain": [
              "16.0"
            ]
          },
          "metadata": {},
          "execution_count": 43
        }
      ]
    },
    {
      "cell_type": "markdown",
      "source": [
        "# KARAKTER DİZİLERİ(STRİNGLER)"
      ],
      "metadata": {
        "id": "jYg-d2N0xmIN"
      }
    },
    {
      "cell_type": "markdown",
      "source": [
        "**Tek tırnak ile**"
      ],
      "metadata": {
        "id": "pEogqFW0xsoN"
      }
    },
    {
      "cell_type": "code",
      "source": [
        "a='Merhaba Dünya'"
      ],
      "metadata": {
        "id": "V_qAmYZ8xwCa"
      },
      "execution_count": 44,
      "outputs": []
    },
    {
      "cell_type": "markdown",
      "source": [
        "**Çift tırnak ile**"
      ],
      "metadata": {
        "id": "-3k5b9c8xz3d"
      }
    },
    {
      "cell_type": "code",
      "source": [
        "a=\"Merhaba Dünya\""
      ],
      "metadata": {
        "id": "VWNq_6m7x2eF"
      },
      "execution_count": null,
      "outputs": []
    },
    {
      "cell_type": "markdown",
      "source": [
        "**Üç tırnak ile**"
      ],
      "metadata": {
        "id": "i08v5_MUx5Ab"
      }
    },
    {
      "cell_type": "code",
      "source": [
        "a=\"\"\"Merhaba Dünya\"\"\""
      ],
      "metadata": {
        "id": "NOwpvSIax5L4"
      },
      "execution_count": null,
      "outputs": []
    },
    {
      "cell_type": "code",
      "source": [
        "a=\"Merhaba Dünya'"
      ],
      "metadata": {
        "colab": {
          "base_uri": "https://localhost:8080/",
          "height": 106
        },
        "id": "r3g4rRGVx_qK",
        "outputId": "5e9b7f98-9e8d-4b24-ad8e-0a73f5db1c5e"
      },
      "execution_count": 45,
      "outputs": [
        {
          "output_type": "error",
          "ename": "SyntaxError",
          "evalue": "unterminated string literal (detected at line 1) (<ipython-input-45-519bc9ed42d8>, line 1)",
          "traceback": [
            "\u001b[0;36m  File \u001b[0;32m\"<ipython-input-45-519bc9ed42d8>\"\u001b[0;36m, line \u001b[0;32m1\u001b[0m\n\u001b[0;31m    a=\"Merhaba Dünya'\u001b[0m\n\u001b[0m      ^\u001b[0m\n\u001b[0;31mSyntaxError\u001b[0m\u001b[0;31m:\u001b[0m unterminated string literal (detected at line 1)\n"
          ]
        }
      ]
    },
    {
      "cell_type": "code",
      "source": [
        "a=\"Bugün İstanbul'da hava çok güzel\"\n",
        "a"
      ],
      "metadata": {
        "colab": {
          "base_uri": "https://localhost:8080/",
          "height": 35
        },
        "id": "us4F43NoyEQp",
        "outputId": "7f90f7e1-0beb-4b9d-d6b8-172ee19ac24e"
      },
      "execution_count": 47,
      "outputs": [
        {
          "output_type": "execute_result",
          "data": {
            "text/plain": [
              "\"Bugün İstanbul'da hava çok güzel\""
            ],
            "application/vnd.google.colaboratory.intrinsic+json": {
              "type": "string"
            }
          },
          "metadata": {},
          "execution_count": 47
        }
      ]
    },
    {
      "cell_type": "code",
      "source": [
        "a=\"\"\"Havalar öyle güzel ki İbrahim'e ve Ramazan'a konusu \"hava durumu\" ile ilgili bir proje geldi.\"\"\"\n",
        "a"
      ],
      "metadata": {
        "colab": {
          "base_uri": "https://localhost:8080/",
          "height": 35
        },
        "id": "OUP2zUjSyMgc",
        "outputId": "a962a3a0-54a5-4ad0-85a4-09c3f33c3a33"
      },
      "execution_count": 48,
      "outputs": [
        {
          "output_type": "execute_result",
          "data": {
            "text/plain": [
              "'Havalar öyle güzel ki İbrahim\\'e ve Ramazan\\'a konusu \"hava durumu\" ile ilgili bir proje geldi.'"
            ],
            "application/vnd.google.colaboratory.intrinsic+json": {
              "type": "string"
            }
          },
          "metadata": {},
          "execution_count": 48
        }
      ]
    },
    {
      "cell_type": "code",
      "source": [
        "a=str()\n",
        "a"
      ],
      "metadata": {
        "colab": {
          "base_uri": "https://localhost:8080/",
          "height": 35
        },
        "id": "P5GmSkn7yhui",
        "outputId": "0c767309-c557-4c28-a437-ef33dde4db86"
      },
      "execution_count": 50,
      "outputs": [
        {
          "output_type": "execute_result",
          "data": {
            "text/plain": [
              "''"
            ],
            "application/vnd.google.colaboratory.intrinsic+json": {
              "type": "string"
            }
          },
          "metadata": {},
          "execution_count": 50
        }
      ]
    },
    {
      "cell_type": "markdown",
      "source": [
        "**Stringleri İndexleme ve Parçalama**"
      ],
      "metadata": {
        "id": "YBcu2-rayyjO"
      }
    },
    {
      "cell_type": "code",
      "source": [
        "a=\"Ayşe\"\n",
        "a[0]"
      ],
      "metadata": {
        "colab": {
          "base_uri": "https://localhost:8080/",
          "height": 35
        },
        "id": "8VMI0x8Vy3dK",
        "outputId": "5a3975d9-d794-43e6-8b13-f0a6e95502ea"
      },
      "execution_count": 51,
      "outputs": [
        {
          "output_type": "execute_result",
          "data": {
            "text/plain": [
              "'A'"
            ],
            "application/vnd.google.colaboratory.intrinsic+json": {
              "type": "string"
            }
          },
          "metadata": {},
          "execution_count": 51
        }
      ]
    },
    {
      "cell_type": "code",
      "source": [
        "a[1]"
      ],
      "metadata": {
        "colab": {
          "base_uri": "https://localhost:8080/",
          "height": 35
        },
        "id": "8B2mK-lEy8i9",
        "outputId": "14e26656-8fef-4929-d6d4-d13fc5a0f4de"
      },
      "execution_count": 53,
      "outputs": [
        {
          "output_type": "execute_result",
          "data": {
            "text/plain": [
              "'y'"
            ],
            "application/vnd.google.colaboratory.intrinsic+json": {
              "type": "string"
            }
          },
          "metadata": {},
          "execution_count": 53
        }
      ]
    },
    {
      "cell_type": "code",
      "source": [
        "a[2]"
      ],
      "metadata": {
        "colab": {
          "base_uri": "https://localhost:8080/",
          "height": 35
        },
        "id": "LO_EaQWgzA1Q",
        "outputId": "406df35d-9724-450e-ee2c-043b0e8025af"
      },
      "execution_count": 54,
      "outputs": [
        {
          "output_type": "execute_result",
          "data": {
            "text/plain": [
              "'ş'"
            ],
            "application/vnd.google.colaboratory.intrinsic+json": {
              "type": "string"
            }
          },
          "metadata": {},
          "execution_count": 54
        }
      ]
    },
    {
      "cell_type": "code",
      "source": [
        "a[3]"
      ],
      "metadata": {
        "colab": {
          "base_uri": "https://localhost:8080/",
          "height": 35
        },
        "id": "HFR2UI3DzCSu",
        "outputId": "d7f84c4a-d85d-406a-8712-1a1d4e6ad68e"
      },
      "execution_count": 55,
      "outputs": [
        {
          "output_type": "execute_result",
          "data": {
            "text/plain": [
              "'e'"
            ],
            "application/vnd.google.colaboratory.intrinsic+json": {
              "type": "string"
            }
          },
          "metadata": {},
          "execution_count": 55
        }
      ]
    },
    {
      "cell_type": "markdown",
      "source": [
        "**Stringleri sondan indexleme**"
      ],
      "metadata": {
        "id": "VK37w4SSzHMo"
      }
    },
    {
      "cell_type": "code",
      "source": [
        "a[-1]"
      ],
      "metadata": {
        "colab": {
          "base_uri": "https://localhost:8080/",
          "height": 35
        },
        "id": "SVqqsk6SzKPi",
        "outputId": "7e80ab41-0398-4328-a4b6-b1723b458876"
      },
      "execution_count": 56,
      "outputs": [
        {
          "output_type": "execute_result",
          "data": {
            "text/plain": [
              "'e'"
            ],
            "application/vnd.google.colaboratory.intrinsic+json": {
              "type": "string"
            }
          },
          "metadata": {},
          "execution_count": 56
        }
      ]
    },
    {
      "cell_type": "code",
      "source": [
        "a[-2]"
      ],
      "metadata": {
        "colab": {
          "base_uri": "https://localhost:8080/",
          "height": 35
        },
        "id": "gYokDNd_zM8O",
        "outputId": "e91b2f0e-604f-4140-e2fe-bc0f12597780"
      },
      "execution_count": 57,
      "outputs": [
        {
          "output_type": "execute_result",
          "data": {
            "text/plain": [
              "'ş'"
            ],
            "application/vnd.google.colaboratory.intrinsic+json": {
              "type": "string"
            }
          },
          "metadata": {},
          "execution_count": 57
        }
      ]
    },
    {
      "cell_type": "code",
      "source": [
        "a[-3]"
      ],
      "metadata": {
        "colab": {
          "base_uri": "https://localhost:8080/",
          "height": 35
        },
        "id": "6TvXX4NXzOWv",
        "outputId": "7152e0b5-e187-47ad-da0a-6579a8d8f4e2"
      },
      "execution_count": 58,
      "outputs": [
        {
          "output_type": "execute_result",
          "data": {
            "text/plain": [
              "'y'"
            ],
            "application/vnd.google.colaboratory.intrinsic+json": {
              "type": "string"
            }
          },
          "metadata": {},
          "execution_count": 58
        }
      ]
    },
    {
      "cell_type": "code",
      "source": [
        "a[-4]"
      ],
      "metadata": {
        "colab": {
          "base_uri": "https://localhost:8080/",
          "height": 35
        },
        "id": "esm0z7dtzP5k",
        "outputId": "a2371405-778d-4a5f-e8dc-74cef8f618e2"
      },
      "execution_count": 59,
      "outputs": [
        {
          "output_type": "execute_result",
          "data": {
            "text/plain": [
              "'A'"
            ],
            "application/vnd.google.colaboratory.intrinsic+json": {
              "type": "string"
            }
          },
          "metadata": {},
          "execution_count": 59
        }
      ]
    },
    {
      "cell_type": "markdown",
      "source": [
        "**Stringlerin bir kısmını parçalamak**"
      ],
      "metadata": {
        "id": "jx7k6FIrzSNn"
      }
    },
    {
      "cell_type": "markdown",
      "source": [
        "*0 ile 3 arasındaki elemanları görüntüleme 3 dahil değil*"
      ],
      "metadata": {
        "id": "si5RixKszsZb"
      }
    },
    {
      "cell_type": "code",
      "source": [
        "a=\"Merhaba\"\n",
        "a[0:3]"
      ],
      "metadata": {
        "colab": {
          "base_uri": "https://localhost:8080/",
          "height": 35
        },
        "id": "BN0dDg0mzVVs",
        "outputId": "8259d60a-9326-4091-bf9d-bda3674be763"
      },
      "execution_count": 63,
      "outputs": [
        {
          "output_type": "execute_result",
          "data": {
            "text/plain": [
              "'Mer'"
            ],
            "application/vnd.google.colaboratory.intrinsic+json": {
              "type": "string"
            }
          },
          "metadata": {},
          "execution_count": 63
        }
      ]
    },
    {
      "cell_type": "markdown",
      "source": [
        "*Karakter dizisindeki 4. ve 5. elemanları alan uygulama*"
      ],
      "metadata": {
        "id": "PtdCfC6azwba"
      }
    },
    {
      "cell_type": "code",
      "source": [
        "a[4:6]"
      ],
      "metadata": {
        "colab": {
          "base_uri": "https://localhost:8080/",
          "height": 35
        },
        "id": "WYahkARDz6qo",
        "outputId": "87af08e9-c541-4b47-8748-41fd450569d9"
      },
      "execution_count": 64,
      "outputs": [
        {
          "output_type": "execute_result",
          "data": {
            "text/plain": [
              "'ab'"
            ],
            "application/vnd.google.colaboratory.intrinsic+json": {
              "type": "string"
            }
          },
          "metadata": {},
          "execution_count": 64
        }
      ]
    },
    {
      "cell_type": "code",
      "source": [
        "a=\"Programlama Dili Öğreniyorum\"\n",
        "a[4:10]"
      ],
      "metadata": {
        "colab": {
          "base_uri": "https://localhost:8080/",
          "height": 35
        },
        "id": "rADILqw5z_FX",
        "outputId": "c721ff88-d680-4cec-ab2b-46f714129837"
      },
      "execution_count": 65,
      "outputs": [
        {
          "output_type": "execute_result",
          "data": {
            "text/plain": [
              "'ramlam'"
            ],
            "application/vnd.google.colaboratory.intrinsic+json": {
              "type": "string"
            }
          },
          "metadata": {},
          "execution_count": 65
        }
      ]
    },
    {
      "cell_type": "code",
      "source": [
        "a[0:11]"
      ],
      "metadata": {
        "colab": {
          "base_uri": "https://localhost:8080/",
          "height": 35
        },
        "id": "g4mZR9mY0HMz",
        "outputId": "384ae908-1017-4f17-8283-a05880f94081"
      },
      "execution_count": 67,
      "outputs": [
        {
          "output_type": "execute_result",
          "data": {
            "text/plain": [
              "'Programlama'"
            ],
            "application/vnd.google.colaboratory.intrinsic+json": {
              "type": "string"
            }
          },
          "metadata": {},
          "execution_count": 67
        }
      ]
    },
    {
      "cell_type": "markdown",
      "source": [
        "*İndisler arasında atalama yaparak ayıklama*\n",
        "\n",
        "0,2,4,6,8. indisleri almış olacak"
      ],
      "metadata": {
        "id": "wIisViJI0RL2"
      }
    },
    {
      "cell_type": "code",
      "source": [
        "a[0:10:2]"
      ],
      "metadata": {
        "colab": {
          "base_uri": "https://localhost:8080/",
          "height": 35
        },
        "id": "O7P6HxTJ0Qag",
        "outputId": "52768667-5e17-4cba-8674-d9a694f0a6ee"
      },
      "execution_count": 69,
      "outputs": [
        {
          "output_type": "execute_result",
          "data": {
            "text/plain": [
              "'Porma'"
            ],
            "application/vnd.google.colaboratory.intrinsic+json": {
              "type": "string"
            }
          },
          "metadata": {},
          "execution_count": 69
        }
      ]
    },
    {
      "cell_type": "code",
      "source": [
        "sayi=\"0123456789\"\n",
        "sayi[0:10:2]"
      ],
      "metadata": {
        "colab": {
          "base_uri": "https://localhost:8080/",
          "height": 35
        },
        "id": "O6eK8Y2Q0lsD",
        "outputId": "ff712731-4250-471c-bdca-bc1f37b09023"
      },
      "execution_count": 70,
      "outputs": [
        {
          "output_type": "execute_result",
          "data": {
            "text/plain": [
              "'02468'"
            ],
            "application/vnd.google.colaboratory.intrinsic+json": {
              "type": "string"
            }
          },
          "metadata": {},
          "execution_count": 70
        }
      ]
    },
    {
      "cell_type": "markdown",
      "source": [
        "**Stringlerde toplama**"
      ],
      "metadata": {
        "id": "ioK5NHP40vPy"
      }
    },
    {
      "cell_type": "code",
      "source": [
        "a=\"5\"\n",
        "b=\"4\"\n",
        "a+b"
      ],
      "metadata": {
        "colab": {
          "base_uri": "https://localhost:8080/",
          "height": 35
        },
        "id": "sQI1ka1o0yI6",
        "outputId": "ebbecd40-afb9-4c7a-c751-1a7f48120f2f"
      },
      "execution_count": 71,
      "outputs": [
        {
          "output_type": "execute_result",
          "data": {
            "text/plain": [
              "'54'"
            ],
            "application/vnd.google.colaboratory.intrinsic+json": {
              "type": "string"
            }
          },
          "metadata": {},
          "execution_count": 71
        }
      ]
    },
    {
      "cell_type": "markdown",
      "source": [
        "*metni sondan başa doğru yazdırma*"
      ],
      "metadata": {
        "id": "Yw5sdwn805MP"
      }
    },
    {
      "cell_type": "code",
      "source": [
        "a=\"Programlama Dili Öğreniyorum\"\n",
        "a[::-1]"
      ],
      "metadata": {
        "colab": {
          "base_uri": "https://localhost:8080/",
          "height": 35
        },
        "id": "fxunRiFT09Fz",
        "outputId": "a3eb2d6d-fc69-433d-baf9-15fbc88661cc"
      },
      "execution_count": 72,
      "outputs": [
        {
          "output_type": "execute_result",
          "data": {
            "text/plain": [
              "'muroyinerğÖ iliD amalmargorP'"
            ],
            "application/vnd.google.colaboratory.intrinsic+json": {
              "type": "string"
            }
          },
          "metadata": {},
          "execution_count": 72
        }
      ]
    },
    {
      "cell_type": "markdown",
      "source": [
        "# VERİ DÖNÜŞÜMLERİ\n",
        "**TAMSAYIYI ONDALIK SAYIYA ÇEVİRME**"
      ],
      "metadata": {
        "id": "s1vPi5Rq1CYo"
      }
    },
    {
      "cell_type": "code",
      "source": [
        "a=15\n",
        "float(a)"
      ],
      "metadata": {
        "colab": {
          "base_uri": "https://localhost:8080/"
        },
        "id": "x7T8YWdM1KP6",
        "outputId": "d52e5c6a-c09a-4ec5-fe1a-d6a3ac11f445"
      },
      "execution_count": 73,
      "outputs": [
        {
          "output_type": "execute_result",
          "data": {
            "text/plain": [
              "15.0"
            ]
          },
          "metadata": {},
          "execution_count": 73
        }
      ]
    },
    {
      "cell_type": "markdown",
      "source": [
        "**ONDALIK SAYIYI TAMSAYIYA ÇEVİRME**"
      ],
      "metadata": {
        "id": "m0nO2IvN1P8n"
      }
    },
    {
      "cell_type": "code",
      "source": [
        "b=4.80\n",
        "int(b)\n"
      ],
      "metadata": {
        "colab": {
          "base_uri": "https://localhost:8080/"
        },
        "id": "GtWY62sv1UqB",
        "outputId": "77c85533-a626-4fbd-c303-1e7787a751b4"
      },
      "execution_count": 74,
      "outputs": [
        {
          "output_type": "execute_result",
          "data": {
            "text/plain": [
              "4"
            ]
          },
          "metadata": {},
          "execution_count": 74
        }
      ]
    },
    {
      "cell_type": "code",
      "source": [
        "c=3.14\n",
        "int(c)"
      ],
      "metadata": {
        "colab": {
          "base_uri": "https://localhost:8080/"
        },
        "id": "Y5awPcpL1YsR",
        "outputId": "4fafb72a-1878-4d04-a201-5405bb5cda83"
      },
      "execution_count": 75,
      "outputs": [
        {
          "output_type": "execute_result",
          "data": {
            "text/plain": [
              "3"
            ]
          },
          "metadata": {},
          "execution_count": 75
        }
      ]
    },
    {
      "cell_type": "markdown",
      "source": [
        "**STRİNGLERİ SAYIYA ÇEVİRME**"
      ],
      "metadata": {
        "id": "5c8M1Okk1d5T"
      }
    },
    {
      "cell_type": "code",
      "source": [
        "a=str(123)\n",
        "a"
      ],
      "metadata": {
        "colab": {
          "base_uri": "https://localhost:8080/",
          "height": 35
        },
        "id": "sR6SKyKp1gwJ",
        "outputId": "4a03bed2-998d-4fe4-a322-34c14ff2f781"
      },
      "execution_count": 76,
      "outputs": [
        {
          "output_type": "execute_result",
          "data": {
            "text/plain": [
              "'123'"
            ],
            "application/vnd.google.colaboratory.intrinsic+json": {
              "type": "string"
            }
          },
          "metadata": {},
          "execution_count": 76
        }
      ]
    },
    {
      "cell_type": "code",
      "source": [
        "a*3"
      ],
      "metadata": {
        "colab": {
          "base_uri": "https://localhost:8080/",
          "height": 35
        },
        "id": "vhyrIFsp1lKJ",
        "outputId": "a93596c9-14bb-48ea-d4b0-608377e50eb7"
      },
      "execution_count": 77,
      "outputs": [
        {
          "output_type": "execute_result",
          "data": {
            "text/plain": [
              "'123123123'"
            ],
            "application/vnd.google.colaboratory.intrinsic+json": {
              "type": "string"
            }
          },
          "metadata": {},
          "execution_count": 77
        }
      ]
    },
    {
      "cell_type": "code",
      "source": [
        "int(a)*3"
      ],
      "metadata": {
        "colab": {
          "base_uri": "https://localhost:8080/"
        },
        "id": "ZUaIKlug1oNH",
        "outputId": "0daf14e3-2ca4-4f7f-c60b-a57e431f5af6"
      },
      "execution_count": 78,
      "outputs": [
        {
          "output_type": "execute_result",
          "data": {
            "text/plain": [
              "369"
            ]
          },
          "metadata": {},
          "execution_count": 78
        }
      ]
    },
    {
      "cell_type": "markdown",
      "source": [
        "*Float ifadeleri string türüne denüştürülmesi*"
      ],
      "metadata": {
        "id": "RyeLuzMF1sdp"
      }
    },
    {
      "cell_type": "code",
      "source": [
        "a=3.14\n",
        "b=str(a)\n",
        "b"
      ],
      "metadata": {
        "colab": {
          "base_uri": "https://localhost:8080/",
          "height": 35
        },
        "id": "YVHdWi6w1yoU",
        "outputId": "849ffd0d-12b2-4f6d-9272-052d5d28af15"
      },
      "execution_count": 79,
      "outputs": [
        {
          "output_type": "execute_result",
          "data": {
            "text/plain": [
              "'3.14'"
            ],
            "application/vnd.google.colaboratory.intrinsic+json": {
              "type": "string"
            }
          },
          "metadata": {},
          "execution_count": 79
        }
      ]
    },
    {
      "cell_type": "code",
      "source": [
        "len(b)"
      ],
      "metadata": {
        "colab": {
          "base_uri": "https://localhost:8080/"
        },
        "id": "etStvXpz14OP",
        "outputId": "57ed6e61-1348-41a5-b788-4ff98001ba1e"
      },
      "execution_count": 80,
      "outputs": [
        {
          "output_type": "execute_result",
          "data": {
            "text/plain": [
              "4"
            ]
          },
          "metadata": {},
          "execution_count": 80
        }
      ]
    },
    {
      "cell_type": "markdown",
      "source": [
        "**STRİNGLERİ TAM SAYIYA ÇEVİRME**"
      ],
      "metadata": {
        "id": "Tmhv_z2W2Tyo"
      }
    },
    {
      "cell_type": "markdown",
      "source": [
        "İçinde metinsel karakter bulunan bir string int türüne dönüştürlemez"
      ],
      "metadata": {
        "id": "3ZdA5t7B2WZN"
      }
    },
    {
      "cell_type": "code",
      "source": [
        "a=\"123abc\"\n",
        "a"
      ],
      "metadata": {
        "colab": {
          "base_uri": "https://localhost:8080/",
          "height": 35
        },
        "id": "ytVR2jN_2gLL",
        "outputId": "874e5866-7a54-45dc-c68b-8da67e785515"
      },
      "execution_count": 81,
      "outputs": [
        {
          "output_type": "execute_result",
          "data": {
            "text/plain": [
              "'123abc'"
            ],
            "application/vnd.google.colaboratory.intrinsic+json": {
              "type": "string"
            }
          },
          "metadata": {},
          "execution_count": 81
        }
      ]
    },
    {
      "cell_type": "code",
      "source": [
        "int(a)"
      ],
      "metadata": {
        "colab": {
          "base_uri": "https://localhost:8080/",
          "height": 141
        },
        "id": "iLsvq3PD2X3-",
        "outputId": "3be8d9e4-b945-4e7c-b672-c0c1dc9a6e64"
      },
      "execution_count": 82,
      "outputs": [
        {
          "output_type": "error",
          "ename": "ValueError",
          "evalue": "invalid literal for int() with base 10: '123abc'",
          "traceback": [
            "\u001b[0;31m---------------------------------------------------------------------------\u001b[0m",
            "\u001b[0;31mValueError\u001b[0m                                Traceback (most recent call last)",
            "\u001b[0;32m<ipython-input-82-8b2ab3991dae>\u001b[0m in \u001b[0;36m<cell line: 1>\u001b[0;34m()\u001b[0m\n\u001b[0;32m----> 1\u001b[0;31m \u001b[0mint\u001b[0m\u001b[0;34m(\u001b[0m\u001b[0ma\u001b[0m\u001b[0;34m)\u001b[0m\u001b[0;34m\u001b[0m\u001b[0;34m\u001b[0m\u001b[0m\n\u001b[0m",
            "\u001b[0;31mValueError\u001b[0m: invalid literal for int() with base 10: '123abc'"
          ]
        }
      ]
    },
    {
      "cell_type": "markdown",
      "source": [
        "string türündeki değişkenin int türüne dönüştürülmesi"
      ],
      "metadata": {
        "id": "rKHFOHR12ksa"
      }
    },
    {
      "cell_type": "code",
      "source": [
        "a=\"45\"\n",
        "int(a)"
      ],
      "metadata": {
        "colab": {
          "base_uri": "https://localhost:8080/"
        },
        "id": "BMIsJgbI2o-H",
        "outputId": "e13427a0-d223-40aa-9ee8-95729b3044f4"
      },
      "execution_count": 83,
      "outputs": [
        {
          "output_type": "execute_result",
          "data": {
            "text/plain": [
              "45"
            ]
          },
          "metadata": {},
          "execution_count": 83
        }
      ]
    },
    {
      "cell_type": "code",
      "source": [
        "a=\"4\"\n",
        "b=\"6\"\n",
        "int(a+b)"
      ],
      "metadata": {
        "colab": {
          "base_uri": "https://localhost:8080/"
        },
        "id": "Wwd2GksU2sJj",
        "outputId": "560848cd-6897-4108-c3d9-08780ada3c2a"
      },
      "execution_count": 84,
      "outputs": [
        {
          "output_type": "execute_result",
          "data": {
            "text/plain": [
              "46"
            ]
          },
          "metadata": {},
          "execution_count": 84
        }
      ]
    },
    {
      "cell_type": "code",
      "source": [
        "int(a)+int(b)"
      ],
      "metadata": {
        "colab": {
          "base_uri": "https://localhost:8080/"
        },
        "id": "7FosUao32wdN",
        "outputId": "a786a73d-51cd-4012-dcfe-226a9ead17a5"
      },
      "execution_count": 85,
      "outputs": [
        {
          "output_type": "execute_result",
          "data": {
            "text/plain": [
              "10"
            ]
          },
          "metadata": {},
          "execution_count": 85
        }
      ]
    },
    {
      "cell_type": "code",
      "source": [
        "a+b"
      ],
      "metadata": {
        "colab": {
          "base_uri": "https://localhost:8080/",
          "height": 35
        },
        "id": "jk4K-j9c20q0",
        "outputId": "c0833151-cf6f-4a05-a77f-2c79cc9e6a53"
      },
      "execution_count": 86,
      "outputs": [
        {
          "output_type": "execute_result",
          "data": {
            "text/plain": [
              "'46'"
            ],
            "application/vnd.google.colaboratory.intrinsic+json": {
              "type": "string"
            }
          },
          "metadata": {},
          "execution_count": 86
        }
      ]
    },
    {
      "cell_type": "markdown",
      "source": [
        "int ve string türündeki değişkenlerde toplama işlemi"
      ],
      "metadata": {
        "id": "XJBWcekb23JR"
      }
    },
    {
      "cell_type": "code",
      "source": [
        "a=5\n",
        "b=\"7\"\n",
        "a+b"
      ],
      "metadata": {
        "colab": {
          "base_uri": "https://localhost:8080/",
          "height": 176
        },
        "id": "FJeTSXj528Bh",
        "outputId": "356ac158-c5ab-42d6-bfde-75999b585425"
      },
      "execution_count": 87,
      "outputs": [
        {
          "output_type": "error",
          "ename": "TypeError",
          "evalue": "unsupported operand type(s) for +: 'int' and 'str'",
          "traceback": [
            "\u001b[0;31m---------------------------------------------------------------------------\u001b[0m",
            "\u001b[0;31mTypeError\u001b[0m                                 Traceback (most recent call last)",
            "\u001b[0;32m<ipython-input-87-302e285bf986>\u001b[0m in \u001b[0;36m<cell line: 3>\u001b[0;34m()\u001b[0m\n\u001b[1;32m      1\u001b[0m \u001b[0ma\u001b[0m\u001b[0;34m=\u001b[0m\u001b[0;36m5\u001b[0m\u001b[0;34m\u001b[0m\u001b[0;34m\u001b[0m\u001b[0m\n\u001b[1;32m      2\u001b[0m \u001b[0mb\u001b[0m\u001b[0;34m=\u001b[0m\u001b[0;34m\"7\"\u001b[0m\u001b[0;34m\u001b[0m\u001b[0;34m\u001b[0m\u001b[0m\n\u001b[0;32m----> 3\u001b[0;31m \u001b[0ma\u001b[0m\u001b[0;34m+\u001b[0m\u001b[0mb\u001b[0m\u001b[0;34m\u001b[0m\u001b[0;34m\u001b[0m\u001b[0m\n\u001b[0m",
            "\u001b[0;31mTypeError\u001b[0m: unsupported operand type(s) for +: 'int' and 'str'"
          ]
        }
      ]
    },
    {
      "cell_type": "code",
      "source": [
        "a+int(b)"
      ],
      "metadata": {
        "colab": {
          "base_uri": "https://localhost:8080/"
        },
        "id": "kydC9v4D2_Rg",
        "outputId": "c831d435-6532-4235-c174-0a0100c2bc32"
      },
      "execution_count": 88,
      "outputs": [
        {
          "output_type": "execute_result",
          "data": {
            "text/plain": [
              "12"
            ]
          },
          "metadata": {},
          "execution_count": 88
        }
      ]
    },
    {
      "cell_type": "code",
      "source": [
        "str(a)+b"
      ],
      "metadata": {
        "colab": {
          "base_uri": "https://localhost:8080/",
          "height": 35
        },
        "id": "CoJ4HcNH3Bhl",
        "outputId": "9169399f-14ec-4193-be05-f51b17bb73d4"
      },
      "execution_count": 89,
      "outputs": [
        {
          "output_type": "execute_result",
          "data": {
            "text/plain": [
              "'57'"
            ],
            "application/vnd.google.colaboratory.intrinsic+json": {
              "type": "string"
            }
          },
          "metadata": {},
          "execution_count": 89
        }
      ]
    },
    {
      "cell_type": "markdown",
      "source": [
        "string türündeki değişkenin float türüne dönüştürülmesi"
      ],
      "metadata": {
        "id": "LMhg-bOA3Elv"
      }
    },
    {
      "cell_type": "code",
      "source": [
        "a=\"3.14567\"\n",
        "float(a)"
      ],
      "metadata": {
        "colab": {
          "base_uri": "https://localhost:8080/"
        },
        "id": "9ijCyuPa3Hef",
        "outputId": "ae789308-1fcb-4229-9ed0-a223e3ba3504"
      },
      "execution_count": 90,
      "outputs": [
        {
          "output_type": "execute_result",
          "data": {
            "text/plain": [
              "3.14567"
            ]
          },
          "metadata": {},
          "execution_count": 90
        }
      ]
    },
    {
      "cell_type": "markdown",
      "source": [
        "# BÖLÜM SONU SORULARI"
      ],
      "metadata": {
        "id": "9Mvtb3qF3NON"
      }
    },
    {
      "cell_type": "markdown",
      "source": [
        "# SORU1\n",
        "İşlemlerin sonucunu hesaplayınız.\n",
        "a=8.4\n",
        "b=8.2\n",
        "c=(a**2+b**3)/0.5\n",
        "c"
      ],
      "metadata": {
        "id": "qxLCcqIq3QBD"
      }
    },
    {
      "cell_type": "code",
      "source": [
        "a=4.0\n",
        "b=8.0\n",
        "c=(a**2+b**3)/0.5\n",
        "c"
      ],
      "metadata": {
        "colab": {
          "base_uri": "https://localhost:8080/"
        },
        "id": "eswgFKSc3hcO",
        "outputId": "cd538524-b530-46f5-f94f-840e554ce536"
      },
      "execution_count": 93,
      "outputs": [
        {
          "output_type": "execute_result",
          "data": {
            "text/plain": [
              "1056.0"
            ]
          },
          "metadata": {},
          "execution_count": 93
        }
      ]
    },
    {
      "cell_type": "markdown",
      "source": [
        "\n",
        "\n",
        "1.   // operatörünün görevi nedir?\n",
        "2.   % operatörünün görevi nedir?\n",
        "\n",
        "\n",
        "\n"
      ],
      "metadata": {
        "id": "w0tNCoFm3mLF"
      }
    },
    {
      "cell_type": "markdown",
      "source": [
        "81+0.0 işleminin sonucu nedir?"
      ],
      "metadata": {
        "id": "3F2ZNsa53tO8"
      }
    },
    {
      "cell_type": "code",
      "source": [
        "81+0.0"
      ],
      "metadata": {
        "colab": {
          "base_uri": "https://localhost:8080/"
        },
        "id": "2bnqudBS33aI",
        "outputId": "5126f594-88a0-4485-bb2e-af2f3ab9ad4b"
      },
      "execution_count": 94,
      "outputs": [
        {
          "output_type": "execute_result",
          "data": {
            "text/plain": [
              "81.0"
            ]
          },
          "metadata": {},
          "execution_count": 94
        }
      ]
    },
    {
      "cell_type": "code",
      "source": [
        "1**2**3"
      ],
      "metadata": {
        "colab": {
          "base_uri": "https://localhost:8080/"
        },
        "id": "XItRbhRn39-P",
        "outputId": "cde75ba9-8eb7-4456-fa55-586cf63c4e05"
      },
      "execution_count": 95,
      "outputs": [
        {
          "output_type": "execute_result",
          "data": {
            "text/plain": [
              "1"
            ]
          },
          "metadata": {},
          "execution_count": 95
        }
      ]
    }
  ]
}
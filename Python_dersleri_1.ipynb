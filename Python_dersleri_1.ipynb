{
  "nbformat": 4,
  "nbformat_minor": 0,
  "metadata": {
    "colab": {
      "provenance": [],
      "toc_visible": true,
      "authorship_tag": "ABX9TyPGeCo/28VkofA3k5IkP4Qr",
      "include_colab_link": true
    },
    "kernelspec": {
      "name": "python3",
      "display_name": "Python 3"
    },
    "language_info": {
      "name": "python"
    }
  },
  "cells": [
    {
      "cell_type": "markdown",
      "metadata": {
        "id": "view-in-github",
        "colab_type": "text"
      },
      "source": [
        "<a href=\"https://colab.research.google.com/github/ilknurdemirciarac/java2022/blob/main/Python_dersleri_1.ipynb\" target=\"_parent\"><img src=\"https://colab.research.google.com/assets/colab-badge.svg\" alt=\"Open In Colab\"/></a>"
      ]
    },
    {
      "cell_type": "markdown",
      "source": [
        "# DEĞİŞKENLER OPERATÖRLER VE TEMEL VERİ TİPLERİ\n",
        " # DEĞİŞKENLER\n"
      ],
      "metadata": {
        "id": "NLpwsjJAp47W"
      }
    },
    {
      "cell_type": "markdown",
      "source": [
        "*Python değişken tanımlama örnekleri*"
      ],
      "metadata": {
        "id": "s5gWjw5zqV85"
      }
    },
    {
      "cell_type": "code",
      "source": [
        "a=5\n",
        "a"
      ],
      "metadata": {
        "colab": {
          "base_uri": "https://localhost:8080/"
        },
        "id": "5WSSkPlRqKdH",
        "outputId": "b34f97f1-b201-4ed2-efaf-8ad384bec44f"
      },
      "execution_count": 1,
      "outputs": [
        {
          "output_type": "execute_result",
          "data": {
            "text/plain": [
              "5"
            ]
          },
          "metadata": {},
          "execution_count": 1
        }
      ]
    },
    {
      "cell_type": "code",
      "source": [
        "a=8\n",
        "a"
      ],
      "metadata": {
        "colab": {
          "base_uri": "https://localhost:8080/"
        },
        "id": "5EmqduptqO-8",
        "outputId": "ca034261-fb85-4dcb-8991-8065d28e3f77"
      },
      "execution_count": 3,
      "outputs": [
        {
          "output_type": "execute_result",
          "data": {
            "text/plain": [
              "8"
            ]
          },
          "metadata": {},
          "execution_count": 3
        }
      ]
    },
    {
      "cell_type": "code",
      "source": [
        "a=3.14\n",
        "a"
      ],
      "metadata": {
        "colab": {
          "base_uri": "https://localhost:8080/"
        },
        "id": "tQelri5CqRx6",
        "outputId": "c47772bf-0c2e-4473-8439-2c40b9790d31"
      },
      "execution_count": 4,
      "outputs": [
        {
          "output_type": "execute_result",
          "data": {
            "text/plain": [
              "3.14"
            ]
          },
          "metadata": {},
          "execution_count": 4
        }
      ]
    },
    {
      "cell_type": "markdown",
      "source": [
        "*İki sayının toplama işleminin sonucunun görüntülenmesi*"
      ],
      "metadata": {
        "id": "IFShSHdnqcsq"
      }
    },
    {
      "cell_type": "code",
      "source": [
        "a=4\n",
        "b=5\n",
        "c=a+b\n",
        "c"
      ],
      "metadata": {
        "colab": {
          "base_uri": "https://localhost:8080/"
        },
        "id": "nB6TUMBTqc3A",
        "outputId": "52d639ed-b8f4-4e25-fd32-779e884cddd0"
      },
      "execution_count": 5,
      "outputs": [
        {
          "output_type": "execute_result",
          "data": {
            "text/plain": [
              "9"
            ]
          },
          "metadata": {},
          "execution_count": 5
        }
      ]
    },
    {
      "cell_type": "markdown",
      "source": [
        "*İki sayının Çarpma işleminin sonucunun görüntülenmesi*"
      ],
      "metadata": {
        "id": "XPRNhqY_qqxk"
      }
    },
    {
      "cell_type": "code",
      "source": [
        "a=5\n",
        "b=6\n",
        "c=a*b\n",
        "c"
      ],
      "metadata": {
        "colab": {
          "base_uri": "https://localhost:8080/"
        },
        "id": "iadZ-vp1qqk2",
        "outputId": "507bdd19-8ec6-486d-8aba-33e13df02ce3"
      },
      "execution_count": 6,
      "outputs": [
        {
          "output_type": "execute_result",
          "data": {
            "text/plain": [
              "30"
            ]
          },
          "metadata": {},
          "execution_count": 6
        }
      ]
    },
    {
      "cell_type": "markdown",
      "source": [
        "Değişken isimlendirme hataları ve doğru değişken tanımlama işlemleri"
      ],
      "metadata": {
        "id": "3GBWlif4q1my"
      }
    },
    {
      "cell_type": "code",
      "source": [
        "3a=5\n"
      ],
      "metadata": {
        "colab": {
          "base_uri": "https://localhost:8080/",
          "height": 106
        },
        "id": "Suj0XGr7q8HM",
        "outputId": "59942594-5397-45c3-b98e-61d1368890a0"
      },
      "execution_count": 7,
      "outputs": [
        {
          "output_type": "error",
          "ename": "SyntaxError",
          "evalue": "invalid decimal literal (<ipython-input-7-b68c30cc01f0>, line 1)",
          "traceback": [
            "\u001b[0;36m  File \u001b[0;32m\"<ipython-input-7-b68c30cc01f0>\"\u001b[0;36m, line \u001b[0;32m1\u001b[0m\n\u001b[0;31m    3a=5\u001b[0m\n\u001b[0m    ^\u001b[0m\n\u001b[0;31mSyntaxError\u001b[0m\u001b[0;31m:\u001b[0m invalid decimal literal\n"
          ]
        }
      ]
    },
    {
      "cell_type": "code",
      "source": [
        "a3=5\n",
        "a3"
      ],
      "metadata": {
        "colab": {
          "base_uri": "https://localhost:8080/"
        },
        "id": "2BPzuSBoq-9n",
        "outputId": "5c884b60-e06f-4243-82a2-c769782eb94a"
      },
      "execution_count": 8,
      "outputs": [
        {
          "output_type": "execute_result",
          "data": {
            "text/plain": [
              "5"
            ]
          },
          "metadata": {},
          "execution_count": 8
        }
      ]
    },
    {
      "cell_type": "code",
      "source": [
        "pi sayisi=3.14\n",
        "pi sayisi"
      ],
      "metadata": {
        "colab": {
          "base_uri": "https://localhost:8080/",
          "height": 106
        },
        "id": "5ZbC4AgmrB6B",
        "outputId": "1a1025c7-195c-4560-d56d-4e9846c9308a"
      },
      "execution_count": 9,
      "outputs": [
        {
          "output_type": "error",
          "ename": "SyntaxError",
          "evalue": "invalid syntax (<ipython-input-9-add0aedf370a>, line 1)",
          "traceback": [
            "\u001b[0;36m  File \u001b[0;32m\"<ipython-input-9-add0aedf370a>\"\u001b[0;36m, line \u001b[0;32m1\u001b[0m\n\u001b[0;31m    pi sayisi=3.14\u001b[0m\n\u001b[0m       ^\u001b[0m\n\u001b[0;31mSyntaxError\u001b[0m\u001b[0;31m:\u001b[0m invalid syntax\n"
          ]
        }
      ]
    },
    {
      "cell_type": "code",
      "source": [
        "pi_sayisi=3.14\n",
        "pi_sayisi"
      ],
      "metadata": {
        "colab": {
          "base_uri": "https://localhost:8080/"
        },
        "id": "AYmeoy6LrGfm",
        "outputId": "8611f260-a811-498c-d854-8bd7f9eb46f1"
      },
      "execution_count": 10,
      "outputs": [
        {
          "output_type": "execute_result",
          "data": {
            "text/plain": [
              "3.14"
            ]
          },
          "metadata": {},
          "execution_count": 10
        }
      ]
    },
    {
      "cell_type": "code",
      "source": [
        "a?=5\n",
        "a?"
      ],
      "metadata": {
        "colab": {
          "base_uri": "https://localhost:8080/",
          "height": 106
        },
        "id": "CXE3iMdRrLMq",
        "outputId": "5b5535f6-affc-4a13-ea94-d1eea50d935a"
      },
      "execution_count": 11,
      "outputs": [
        {
          "output_type": "error",
          "ename": "SyntaxError",
          "evalue": "invalid syntax (<ipython-input-11-6ecc455b00f5>, line 1)",
          "traceback": [
            "\u001b[0;36m  File \u001b[0;32m\"<ipython-input-11-6ecc455b00f5>\"\u001b[0;36m, line \u001b[0;32m1\u001b[0m\n\u001b[0;31m    a?=5\u001b[0m\n\u001b[0m     ^\u001b[0m\n\u001b[0;31mSyntaxError\u001b[0m\u001b[0;31m:\u001b[0m invalid syntax\n"
          ]
        }
      ]
    },
    {
      "cell_type": "markdown",
      "source": [
        "# DEĞİŞKENLER ÜZERİNDE İŞLEMLER"
      ],
      "metadata": {
        "id": "Q3BQoE_9rPKB"
      }
    },
    {
      "cell_type": "markdown",
      "source": [
        "**DEĞİŞKENİN DEĞERİNİ ARTIRMA**"
      ],
      "metadata": {
        "id": "13psRJA4rUcG"
      }
    },
    {
      "cell_type": "code",
      "source": [
        "a=5\n",
        "a=a+1\n",
        "a\n"
      ],
      "metadata": {
        "colab": {
          "base_uri": "https://localhost:8080/"
        },
        "id": "qlqlJ3KPraN3",
        "outputId": "6b88accb-1d33-4481-a14e-30f7ef60912e"
      },
      "execution_count": 12,
      "outputs": [
        {
          "output_type": "execute_result",
          "data": {
            "text/plain": [
              "6"
            ]
          },
          "metadata": {},
          "execution_count": 12
        }
      ]
    },
    {
      "cell_type": "code",
      "source": [
        "a+=1\n",
        "a"
      ],
      "metadata": {
        "colab": {
          "base_uri": "https://localhost:8080/"
        },
        "id": "ZSd-5XNMregc",
        "outputId": "941b4be2-b02d-48d4-a7c0-b8913caf412f"
      },
      "execution_count": 13,
      "outputs": [
        {
          "output_type": "execute_result",
          "data": {
            "text/plain": [
              "7"
            ]
          },
          "metadata": {},
          "execution_count": 13
        }
      ]
    },
    {
      "cell_type": "markdown",
      "source": [
        "*İki kenar uzunluğu verilen dikdörtgenin çevresini hesaplayan program*"
      ],
      "metadata": {
        "id": "hs2OH4rRrmxM"
      }
    },
    {
      "cell_type": "code",
      "source": [
        "a=6\n",
        "b=4\n",
        "cevre=2*(a+b)\n",
        "cevre"
      ],
      "metadata": {
        "colab": {
          "base_uri": "https://localhost:8080/"
        },
        "id": "O_1PrNlVrg86",
        "outputId": "a3586fbf-3ff5-4483-fa75-351bec14e605"
      },
      "execution_count": 15,
      "outputs": [
        {
          "output_type": "execute_result",
          "data": {
            "text/plain": [
              "20"
            ]
          },
          "metadata": {},
          "execution_count": 15
        }
      ]
    },
    {
      "cell_type": "markdown",
      "source": [
        "*Dairenin alanını hesaplayan program*"
      ],
      "metadata": {
        "id": "3AW6ojnKryoL"
      }
    },
    {
      "cell_type": "code",
      "source": [
        "r=5\n",
        "piSayisi=3.14\n",
        "daireAlani=r*r*piSayisi\n",
        "daireAlani"
      ],
      "metadata": {
        "colab": {
          "base_uri": "https://localhost:8080/"
        },
        "id": "PTeCDf4nr2gC",
        "outputId": "f39e55d0-6549-4e12-c751-01e83bb19ce9"
      },
      "execution_count": 17,
      "outputs": [
        {
          "output_type": "execute_result",
          "data": {
            "text/plain": [
              "78.5"
            ]
          },
          "metadata": {},
          "execution_count": 17
        }
      ]
    },
    {
      "cell_type": "markdown",
      "source": [
        "**DEĞİŞKEN ÜZERİNDE ÇOKLU DEĞER ATAMA**"
      ],
      "metadata": {
        "id": "oaa45SiIsEdh"
      }
    },
    {
      "cell_type": "code",
      "source": [
        "a=b=c=10\n",
        "a"
      ],
      "metadata": {
        "colab": {
          "base_uri": "https://localhost:8080/"
        },
        "id": "bBfi5AJqsLIY",
        "outputId": "97190ab6-d4e6-401a-e146-5c83b082d8ac"
      },
      "execution_count": 18,
      "outputs": [
        {
          "output_type": "execute_result",
          "data": {
            "text/plain": [
              "10"
            ]
          },
          "metadata": {},
          "execution_count": 18
        }
      ]
    },
    {
      "cell_type": "code",
      "source": [
        "b"
      ],
      "metadata": {
        "colab": {
          "base_uri": "https://localhost:8080/"
        },
        "id": "V_RR6UYksPyP",
        "outputId": "c6bf3d8b-48b3-4864-c4a4-7d7ef0f10485"
      },
      "execution_count": 19,
      "outputs": [
        {
          "output_type": "execute_result",
          "data": {
            "text/plain": [
              "10"
            ]
          },
          "metadata": {},
          "execution_count": 19
        }
      ]
    },
    {
      "cell_type": "code",
      "source": [
        "c"
      ],
      "metadata": {
        "colab": {
          "base_uri": "https://localhost:8080/"
        },
        "id": "1jJuZwh0sRCb",
        "outputId": "09ee8ad9-7b95-46ef-883e-e0c7f1b1e79a"
      },
      "execution_count": 20,
      "outputs": [
        {
          "output_type": "execute_result",
          "data": {
            "text/plain": [
              "10"
            ]
          },
          "metadata": {},
          "execution_count": 20
        }
      ]
    },
    {
      "cell_type": "markdown",
      "source": [
        "**Birden çok değişkene farklı değer atama**"
      ],
      "metadata": {
        "id": "Z853BQuBsUdi"
      }
    },
    {
      "cell_type": "code",
      "source": [
        "x,y,z=3,4,5\n",
        "x"
      ],
      "metadata": {
        "colab": {
          "base_uri": "https://localhost:8080/"
        },
        "id": "gZb64d1KsVXK",
        "outputId": "812be3f4-e98b-4274-d967-33d82b56a8ee"
      },
      "execution_count": 21,
      "outputs": [
        {
          "output_type": "execute_result",
          "data": {
            "text/plain": [
              "3"
            ]
          },
          "metadata": {},
          "execution_count": 21
        }
      ]
    },
    {
      "cell_type": "code",
      "source": [
        "y"
      ],
      "metadata": {
        "colab": {
          "base_uri": "https://localhost:8080/"
        },
        "id": "6AcxI44OsRkR",
        "outputId": "a4988b42-f019-4b76-e6a8-ca8923437fa5"
      },
      "execution_count": 22,
      "outputs": [
        {
          "output_type": "execute_result",
          "data": {
            "text/plain": [
              "4"
            ]
          },
          "metadata": {},
          "execution_count": 22
        }
      ]
    },
    {
      "cell_type": "code",
      "source": [
        "z"
      ],
      "metadata": {
        "colab": {
          "base_uri": "https://localhost:8080/"
        },
        "id": "-DVodVx-scki",
        "outputId": "9ce12d29-2590-41f2-8b6e-67431d2c4546"
      },
      "execution_count": 23,
      "outputs": [
        {
          "output_type": "execute_result",
          "data": {
            "text/plain": [
              "5"
            ]
          },
          "metadata": {},
          "execution_count": 23
        }
      ]
    },
    {
      "cell_type": "markdown",
      "source": [
        "**TAMSAYI INTEGER VERİ TİPİ**"
      ],
      "metadata": {
        "id": "oNH5rgB2seFn"
      }
    },
    {
      "cell_type": "code",
      "source": [
        "a=4\n",
        "b=6"
      ],
      "metadata": {
        "id": "6Y6abPbrsi93"
      },
      "execution_count": 24,
      "outputs": []
    },
    {
      "cell_type": "code",
      "source": [
        "c=int()\n",
        "c"
      ],
      "metadata": {
        "colab": {
          "base_uri": "https://localhost:8080/"
        },
        "id": "JTHBsGktsmrr",
        "outputId": "87a46670-5333-4566-cb7e-7789f1db3c50"
      },
      "execution_count": 25,
      "outputs": [
        {
          "output_type": "execute_result",
          "data": {
            "text/plain": [
              "0"
            ]
          },
          "metadata": {},
          "execution_count": 25
        }
      ]
    }
  ]
}
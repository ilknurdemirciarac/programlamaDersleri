{
  "nbformat": 4,
  "nbformat_minor": 0,
  "metadata": {
    "colab": {
      "provenance": [],
      "authorship_tag": "ABX9TyMmH1riw+RehyCkpoupmhiu",
      "include_colab_link": true
    },
    "kernelspec": {
      "name": "python3",
      "display_name": "Python 3"
    },
    "language_info": {
      "name": "python"
    }
  },
  "cells": [
    {
      "cell_type": "markdown",
      "metadata": {
        "id": "view-in-github",
        "colab_type": "text"
      },
      "source": [
        "<a href=\"https://colab.research.google.com/github/ilknurdemirciarac/java2022/blob/main/Python_dersleri_3.ipynb\" target=\"_parent\"><img src=\"https://colab.research.google.com/assets/colab-badge.svg\" alt=\"Open In Colab\"/></a>"
      ]
    },
    {
      "cell_type": "markdown",
      "source": [
        "# KOŞULLU İFADELER VE DURUMLAR\n",
        "**MANTIKSAL DEĞERLER VE MANTIKSAL OPERATÖRLER**\n",
        "*MANTIKSAL (BOOLEAN) DEĞERLER*\n",
        "\n",
        "==\n",
        "\n",
        "!=\n",
        "\n",
        ">\n",
        "\n",
        "<\n",
        "\n",
        ">=\n",
        "\n",
        "<="
      ],
      "metadata": {
        "id": "ysH8JODYuIug"
      }
    },
    {
      "cell_type": "code",
      "source": [
        "\"EDA\"==\"EDA\""
      ],
      "metadata": {
        "colab": {
          "base_uri": "https://localhost:8080/"
        },
        "id": "7mCFWYYuuimE",
        "outputId": "c2011933-4030-47a8-d77f-1e74e03abfdc"
      },
      "execution_count": 1,
      "outputs": [
        {
          "output_type": "execute_result",
          "data": {
            "text/plain": [
              "True"
            ]
          },
          "metadata": {},
          "execution_count": 1
        }
      ]
    },
    {
      "cell_type": "code",
      "execution_count": 2,
      "metadata": {
        "colab": {
          "base_uri": "https://localhost:8080/",
          "height": 106
        },
        "id": "dmC9jrfpuCIl",
        "outputId": "6f82d530-67c4-4154-853e-a5c52bb1f897"
      },
      "outputs": [
        {
          "output_type": "error",
          "ename": "SyntaxError",
          "evalue": "cannot assign to literal here. Maybe you meant '==' instead of '='? (<ipython-input-2-e40708c07334>, line 1)",
          "traceback": [
            "\u001b[0;36m  File \u001b[0;32m\"<ipython-input-2-e40708c07334>\"\u001b[0;36m, line \u001b[0;32m1\u001b[0m\n\u001b[0;31m    \"EDA\"=\"ELA\"\u001b[0m\n\u001b[0m    ^\u001b[0m\n\u001b[0;31mSyntaxError\u001b[0m\u001b[0;31m:\u001b[0m cannot assign to literal here. Maybe you meant '==' instead of '='?\n"
          ]
        }
      ],
      "source": [
        "\"EDA\"=\"ELA\""
      ]
    },
    {
      "cell_type": "code",
      "source": [
        "\"AYŞE\">\"ZEYNEP\""
      ],
      "metadata": {
        "colab": {
          "base_uri": "https://localhost:8080/"
        },
        "id": "U_1k0Rfdus9J",
        "outputId": "82ad6b0c-eacd-47b3-da93-4c7ccbad70b6"
      },
      "execution_count": 3,
      "outputs": [
        {
          "output_type": "execute_result",
          "data": {
            "text/plain": [
              "False"
            ]
          },
          "metadata": {},
          "execution_count": 3
        }
      ]
    },
    {
      "cell_type": "code",
      "source": [
        "\"AYŞE\"<\"ZEYNEP\""
      ],
      "metadata": {
        "colab": {
          "base_uri": "https://localhost:8080/"
        },
        "id": "ltF0-8htuyWw",
        "outputId": "da91c1d9-ae0e-4ea7-cda0-9ec524f5d5ca"
      },
      "execution_count": 4,
      "outputs": [
        {
          "output_type": "execute_result",
          "data": {
            "text/plain": [
              "True"
            ]
          },
          "metadata": {},
          "execution_count": 4
        }
      ]
    },
    {
      "cell_type": "markdown",
      "source": [
        "# MANTIKSAL OPERATÖRLER\n",
        "AND\n",
        "\n",
        "OR\n",
        "\n",
        "NOT"
      ],
      "metadata": {
        "id": "_dBzzGGGu09W"
      }
    },
    {
      "cell_type": "markdown",
      "source": [
        "# **and  VE OPERATÖRÜ**"
      ],
      "metadata": {
        "id": "4d4J3AtTvxDd"
      }
    },
    {
      "cell_type": "code",
      "source": [
        "1<2 and \"ayşe\"==\"ayşe\""
      ],
      "metadata": {
        "colab": {
          "base_uri": "https://localhost:8080/"
        },
        "id": "eXeobmduu1t4",
        "outputId": "4a54ca44-77c5-4b90-d56c-8e81b10a65ac"
      },
      "execution_count": 7,
      "outputs": [
        {
          "output_type": "execute_result",
          "data": {
            "text/plain": [
              "True"
            ]
          },
          "metadata": {},
          "execution_count": 7
        }
      ]
    },
    {
      "cell_type": "code",
      "source": [
        "1>2 and \"ayşe\"==\"ayşe\""
      ],
      "metadata": {
        "colab": {
          "base_uri": "https://localhost:8080/"
        },
        "id": "q_g2BlEgvCor",
        "outputId": "ff4e1445-a914-480a-9607-28821d9f188a"
      },
      "execution_count": 8,
      "outputs": [
        {
          "output_type": "execute_result",
          "data": {
            "text/plain": [
              "False"
            ]
          },
          "metadata": {},
          "execution_count": 8
        }
      ]
    },
    {
      "cell_type": "code",
      "source": [
        "2<2 and \"ali\"==\"ayşe\""
      ],
      "metadata": {
        "colab": {
          "base_uri": "https://localhost:8080/"
        },
        "id": "zzxED40nvK1N",
        "outputId": "a49e607a-09c1-4a67-ff04-91692e2e051f"
      },
      "execution_count": 9,
      "outputs": [
        {
          "output_type": "execute_result",
          "data": {
            "text/plain": [
              "False"
            ]
          },
          "metadata": {},
          "execution_count": 9
        }
      ]
    },
    {
      "cell_type": "code",
      "source": [
        "2==2 and \"ali\"==\"ayşe\""
      ],
      "metadata": {
        "colab": {
          "base_uri": "https://localhost:8080/"
        },
        "id": "jBOHW29zvP_t",
        "outputId": "63312740-952f-455d-a18b-6c57290b8306"
      },
      "execution_count": 10,
      "outputs": [
        {
          "output_type": "execute_result",
          "data": {
            "text/plain": [
              "False"
            ]
          },
          "metadata": {},
          "execution_count": 10
        }
      ]
    },
    {
      "cell_type": "markdown",
      "source": [
        "# **or VEYA OPERATÖRÜ**"
      ],
      "metadata": {
        "id": "GFTbTtF8vV2c"
      }
    },
    {
      "cell_type": "code",
      "source": [
        "1<2 or \"ayşe\"==\"ayşe\""
      ],
      "metadata": {
        "colab": {
          "base_uri": "https://localhost:8080/"
        },
        "id": "K4ffkAcMvZap",
        "outputId": "8b4e936e-f4dd-46eb-fc7c-3642120a00d9"
      },
      "execution_count": 11,
      "outputs": [
        {
          "output_type": "execute_result",
          "data": {
            "text/plain": [
              "True"
            ]
          },
          "metadata": {},
          "execution_count": 11
        }
      ]
    },
    {
      "cell_type": "code",
      "source": [
        "1>2 or \"ayşe\"==\"ayşe\""
      ],
      "metadata": {
        "colab": {
          "base_uri": "https://localhost:8080/"
        },
        "id": "GonHbMQ0vepj",
        "outputId": "ce941e46-bf5b-486b-b57f-5c736d0baa23"
      },
      "execution_count": 12,
      "outputs": [
        {
          "output_type": "execute_result",
          "data": {
            "text/plain": [
              "True"
            ]
          },
          "metadata": {},
          "execution_count": 12
        }
      ]
    },
    {
      "cell_type": "code",
      "source": [
        "2<2 or \"ali\"==\"ayşe\""
      ],
      "metadata": {
        "colab": {
          "base_uri": "https://localhost:8080/"
        },
        "id": "nGHrl0XcvjNW",
        "outputId": "11038fe2-74d4-4acc-c19a-9d6dd7c01348"
      },
      "execution_count": 15,
      "outputs": [
        {
          "output_type": "execute_result",
          "data": {
            "text/plain": [
              "False"
            ]
          },
          "metadata": {},
          "execution_count": 15
        }
      ]
    },
    {
      "cell_type": "code",
      "source": [
        "2==2 or \"ali\"==\"ayşe\""
      ],
      "metadata": {
        "colab": {
          "base_uri": "https://localhost:8080/"
        },
        "id": "lpOarbhAvj5v",
        "outputId": "a44d1ce2-4bfa-4ee3-cea1-eb8be0afcbc5"
      },
      "execution_count": 14,
      "outputs": [
        {
          "output_type": "execute_result",
          "data": {
            "text/plain": [
              "True"
            ]
          },
          "metadata": {},
          "execution_count": 14
        }
      ]
    },
    {
      "cell_type": "markdown",
      "source": [
        "**not DEĞİL operatörü**"
      ],
      "metadata": {
        "id": "0znLWUmLvo6r"
      }
    },
    {
      "cell_type": "code",
      "source": [
        "not 2==3"
      ],
      "metadata": {
        "colab": {
          "base_uri": "https://localhost:8080/"
        },
        "id": "lON-A4Phv1q9",
        "outputId": "63e07898-4d10-4921-9bda-f12d23a1b13c"
      },
      "execution_count": 16,
      "outputs": [
        {
          "output_type": "execute_result",
          "data": {
            "text/plain": [
              "True"
            ]
          },
          "metadata": {},
          "execution_count": 16
        }
      ]
    },
    {
      "cell_type": "code",
      "source": [
        "not 2==2"
      ],
      "metadata": {
        "colab": {
          "base_uri": "https://localhost:8080/"
        },
        "id": "TR_Fo8KKv4t1",
        "outputId": "3344e606-6d59-44ba-fd5b-bd79f0e6b28c"
      },
      "execution_count": 17,
      "outputs": [
        {
          "output_type": "execute_result",
          "data": {
            "text/plain": [
              "False"
            ]
          },
          "metadata": {},
          "execution_count": 17
        }
      ]
    },
    {
      "cell_type": "markdown",
      "source": [
        "# KOŞULLU DURUMLAR"
      ],
      "metadata": {
        "id": "6tW8L6EFywhK"
      }
    },
    {
      "cell_type": "markdown",
      "source": [
        "**kiF ELSE**"
      ],
      "metadata": {
        "id": "h-ID9mWkyzoh"
      }
    },
    {
      "cell_type": "code",
      "source": [],
      "metadata": {
        "id": "jMeZ1U_Xyv3K"
      },
      "execution_count": null,
      "outputs": []
    },
    {
      "cell_type": "code",
      "source": [],
      "metadata": {
        "id": "BoNykUeHyv9C"
      },
      "execution_count": null,
      "outputs": []
    }
  ]
}
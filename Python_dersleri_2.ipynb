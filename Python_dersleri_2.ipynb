{
  "nbformat": 4,
  "nbformat_minor": 0,
  "metadata": {
    "colab": {
      "provenance": [],
      "authorship_tag": "ABX9TyMk4iXrt0Rvr1auaXLeaMSk",
      "include_colab_link": true
    },
    "kernelspec": {
      "name": "python3",
      "display_name": "Python 3"
    },
    "language_info": {
      "name": "python"
    }
  },
  "cells": [
    {
      "cell_type": "markdown",
      "metadata": {
        "id": "view-in-github",
        "colab_type": "text"
      },
      "source": [
        "<a href=\"https://colab.research.google.com/github/ilknurdemirciarac/java2022/blob/main/Python_dersleri_2.ipynb\" target=\"_parent\"><img src=\"https://colab.research.google.com/assets/colab-badge.svg\" alt=\"Open In Colab\"/></a>"
      ]
    },
    {
      "cell_type": "markdown",
      "source": [
        "# PYTHON EDİTÖRÜ, TEMEL FONKSİYONLAR VE LİSTE VERİ TİPLERİ\n",
        "**print() Fonksiyonu**\n",
        "Değer yazdırmak için kullanılır.\n"
      ],
      "metadata": {
        "id": "WlcPrqcdBEd1"
      }
    },
    {
      "cell_type": "code",
      "source": [
        "print(12,20,3.7,\"python\")"
      ],
      "metadata": {
        "colab": {
          "base_uri": "https://localhost:8080/"
        },
        "id": "ZclvQVX0BUTw",
        "outputId": "8747ade9-8c73-4e56-d960-2e3c6853ba8b"
      },
      "execution_count": null,
      "outputs": [
        {
          "output_type": "stream",
          "name": "stdout",
          "text": [
            "12 20 3.7 python\n"
          ]
        }
      ]
    },
    {
      "cell_type": "code",
      "execution_count": null,
      "metadata": {
        "colab": {
          "base_uri": "https://localhost:8080/"
        },
        "id": "dVSmpDmj4vws",
        "outputId": "e1fc6caa-978c-4180-a9c2-03e4e028381d"
      },
      "outputs": [
        {
          "output_type": "stream",
          "name": "stdout",
          "text": [
            "Merhaba Dünya\n"
          ]
        }
      ],
      "source": [
        "print(\"Merhaba Dünya\")"
      ]
    },
    {
      "cell_type": "code",
      "source": [
        "a=\"Ayşe\"\n",
        "b=\"Ali\"\n",
        "a+b"
      ],
      "metadata": {
        "colab": {
          "base_uri": "https://localhost:8080/",
          "height": 35
        },
        "id": "XCU8iJIuBkvX",
        "outputId": "46158d59-a453-4c0e-9bdf-d4ebfdfa6e16"
      },
      "execution_count": null,
      "outputs": [
        {
          "output_type": "execute_result",
          "data": {
            "text/plain": [
              "'AyşeAli'"
            ],
            "application/vnd.google.colaboratory.intrinsic+json": {
              "type": "string"
            }
          },
          "metadata": {},
          "execution_count": 3
        }
      ]
    },
    {
      "cell_type": "code",
      "source": [
        "a=\"Ayşe \"\n",
        "b=\"Ali\"\n",
        "print(a+b)"
      ],
      "metadata": {
        "colab": {
          "base_uri": "https://localhost:8080/"
        },
        "id": "u-UdPNheBpxA",
        "outputId": "f4891fcb-f4c6-4063-ba38-f64093c90b69"
      },
      "execution_count": null,
      "outputs": [
        {
          "output_type": "stream",
          "name": "stdout",
          "text": [
            "Ayşe Ali\n"
          ]
        }
      ]
    },
    {
      "cell_type": "markdown",
      "source": [
        "\n",
        "# STRİNGLERDE ÖZEL KARAKTERLER\n",
        "\n",
        "**\\n KARAKTERİ**\n",
        "\n",
        "*İmleci bir alt satıra getirir*"
      ],
      "metadata": {
        "id": "mdH6N3AOByrD"
      }
    },
    {
      "cell_type": "markdown",
      "source": [
        "*print() fonksiyonu ile birden fazla satıra veri yazdırma*"
      ],
      "metadata": {
        "id": "bEaAM7mWB_om"
      }
    },
    {
      "cell_type": "code",
      "source": [
        "print(\"merhaba\\nbu gün\\ngünlerden Pazar\")"
      ],
      "metadata": {
        "colab": {
          "base_uri": "https://localhost:8080/"
        },
        "id": "KQTzii-yBxsy",
        "outputId": "d22dd275-ec5b-4080-b6d8-28894d742242"
      },
      "execution_count": null,
      "outputs": [
        {
          "output_type": "stream",
          "name": "stdout",
          "text": [
            "merhaba\n",
            "bu gün\n",
            "günlerden Pazar\n"
          ]
        }
      ]
    },
    {
      "cell_type": "markdown",
      "source": [
        "**\\t KARAKTERİ**\n",
        "\n",
        "*yazılan ifadenin arasına bir tab kadar boşluk bırakır*"
      ],
      "metadata": {
        "id": "mPyELHImCT8k"
      }
    },
    {
      "cell_type": "code",
      "source": [
        "print(\"merhaba\\tnasılsın\")"
      ],
      "metadata": {
        "colab": {
          "base_uri": "https://localhost:8080/"
        },
        "id": "ZZdWfQ1YCSLz",
        "outputId": "b394f3e1-9c65-4b58-c14f-63b3de77e8e9"
      },
      "execution_count": null,
      "outputs": [
        {
          "output_type": "stream",
          "name": "stdout",
          "text": [
            "merhaba\tnasılsın\n"
          ]
        }
      ]
    },
    {
      "cell_type": "markdown",
      "source": [
        "**print() FONKSİYONUNUN PARAMETRELERİ**\n",
        "\n",
        "**sep PARAMETRASİ**\n",
        "\n",
        "*Değerler yada değişkenler arasına istenilen karakterin konulmasını sağlar*"
      ],
      "metadata": {
        "id": "u8mukgdKCcfk"
      }
    },
    {
      "cell_type": "code",
      "source": [
        "print(0,2,4,6,8)\n",
        "print(\"*****************\")\n",
        "print(0,2,4,6,8,sep=\":\")\n",
        "print(\"*****************\")\n",
        "print(0,2,4,6,8,sep=\"\\n\")\n",
        "print(\"*****************\")"
      ],
      "metadata": {
        "colab": {
          "base_uri": "https://localhost:8080/"
        },
        "id": "wSunKE26C_-N",
        "outputId": "02337d27-fdc7-4815-d932-e8d511b6c998"
      },
      "execution_count": null,
      "outputs": [
        {
          "output_type": "stream",
          "name": "stdout",
          "text": [
            "0 2 4 6 8\n",
            "*****************\n",
            "0:2:4:6:8\n",
            "*****************\n",
            "0\n",
            "2\n",
            "4\n",
            "6\n",
            "8\n",
            "*****************\n"
          ]
        }
      ]
    },
    {
      "cell_type": "code",
      "source": [
        "print(\"Pazartesi\",\"Salı\",\"Çarşamba\",\"Perşembe\",\"Cuma\",\"Cumartesi\",\"Pazar\",sep=\" günü \")"
      ],
      "metadata": {
        "colab": {
          "base_uri": "https://localhost:8080/"
        },
        "id": "1_L4TOatDZdl",
        "outputId": "9f5c8011-db1c-444a-8262-a90cff88fd1d"
      },
      "execution_count": null,
      "outputs": [
        {
          "output_type": "stream",
          "name": "stdout",
          "text": [
            "Pazartesi günü Salı günü Çarşamba günü Perşembe günü Cuma günü Cumartesi günü Pazar\n"
          ]
        }
      ]
    },
    {
      "cell_type": "markdown",
      "source": [
        "**end Parametresi**\n",
        "\n",
        "end print() komutu bittikten sonra yapılacak işlemi berlirtir."
      ],
      "metadata": {
        "id": "Hx3BNldADFy7"
      }
    },
    {
      "cell_type": "code",
      "source": [
        "print(5)\n",
        "print(6)\n",
        "print(5,end=\"\\n\")\n",
        "print(5,end=\" \")\n",
        "print(6)"
      ],
      "metadata": {
        "colab": {
          "base_uri": "https://localhost:8080/"
        },
        "id": "rr036v-uEDja",
        "outputId": "09d59261-bbf9-4c21-80d5-c45e50c4d13c"
      },
      "execution_count": null,
      "outputs": [
        {
          "output_type": "stream",
          "name": "stdout",
          "text": [
            "5\n",
            "6\n",
            "5\n",
            "5 6\n"
          ]
        }
      ]
    },
    {
      "cell_type": "markdown",
      "source": [
        "**format() FONKSİYONU**\n",
        "\n",
        "**İle stringleri biçinlendirme**"
      ],
      "metadata": {
        "id": "Zh9SwiZaC_xW"
      }
    },
    {
      "cell_type": "code",
      "source": [
        "x=4\n",
        "y=5\n",
        "print(x,\" ile \",y,\" nin toplamı =\",x+y,\"dur\")"
      ],
      "metadata": {
        "colab": {
          "base_uri": "https://localhost:8080/"
        },
        "id": "UlgRkPH4EarN",
        "outputId": "071497be-7d24-4aa9-8f2f-abc9fec08d51"
      },
      "execution_count": null,
      "outputs": [
        {
          "output_type": "stream",
          "name": "stdout",
          "text": [
            "4  ile  5  nin toplamı = 9 dur\n"
          ]
        }
      ]
    },
    {
      "cell_type": "code",
      "source": [
        "print(\"{} ile {} nin toplamı = {}\".format(x,y,x+y))"
      ],
      "metadata": {
        "colab": {
          "base_uri": "https://localhost:8080/"
        },
        "id": "5_zj4BU-Ek5C",
        "outputId": "bcaca844-f7d3-4657-f32f-8bae7be2fe19"
      },
      "execution_count": null,
      "outputs": [
        {
          "output_type": "stream",
          "name": "stdout",
          "text": [
            "4 ile 5 nin toplamı = 9\n"
          ]
        }
      ]
    },
    {
      "cell_type": "markdown",
      "source": [
        "**type() ve len() FONKSİYONLARI**\n",
        "\n",
        "**type() FONKSİYONU**\n",
        "\n",
        "*değişkenlerin veri türünü verir*"
      ],
      "metadata": {
        "id": "is3_-49TEwCz"
      }
    },
    {
      "cell_type": "code",
      "source": [
        "print(type(\"elma\"))"
      ],
      "metadata": {
        "colab": {
          "base_uri": "https://localhost:8080/"
        },
        "id": "CA8qzDjaE-Dy",
        "outputId": "966df89b-0bf3-41c6-c382-7eeb35de84eb"
      },
      "execution_count": null,
      "outputs": [
        {
          "output_type": "stream",
          "name": "stdout",
          "text": [
            "<class 'str'>\n"
          ]
        }
      ]
    },
    {
      "cell_type": "code",
      "source": [
        "a=\"python\"\n",
        "a\n",
        "type(a)"
      ],
      "metadata": {
        "colab": {
          "base_uri": "https://localhost:8080/"
        },
        "id": "3RMtrzfJFBB3",
        "outputId": "944b5e39-340b-4831-bf33-6968e41db9c2"
      },
      "execution_count": null,
      "outputs": [
        {
          "output_type": "execute_result",
          "data": {
            "text/plain": [
              "str"
            ]
          },
          "metadata": {},
          "execution_count": 23
        }
      ]
    },
    {
      "cell_type": "code",
      "source": [
        "sayi=16\n",
        "print(\"Sayı değişkeninin tipi\",type(sayi))"
      ],
      "metadata": {
        "colab": {
          "base_uri": "https://localhost:8080/"
        },
        "id": "Cr8Abf4NFFrO",
        "outputId": "62d9292a-bbb1-4205-a057-866d6aa392ed"
      },
      "execution_count": null,
      "outputs": [
        {
          "output_type": "stream",
          "name": "stdout",
          "text": [
            "Sayı değişkeninin tipi <class 'int'>\n"
          ]
        }
      ]
    },
    {
      "cell_type": "markdown",
      "source": [
        "**len() FONKSİYONU**\n",
        "\n",
        "*string veya dizi değişkeninin uzunluğunu verir*"
      ],
      "metadata": {
        "id": "XZBQE6UZFRX6"
      }
    },
    {
      "cell_type": "code",
      "source": [
        "a=45678\n",
        "print(len(a))"
      ],
      "metadata": {
        "colab": {
          "base_uri": "https://localhost:8080/",
          "height": 159
        },
        "id": "E6jy3dg7FRm2",
        "outputId": "6db09c4f-c43d-437d-f927-917dba413f1d"
      },
      "execution_count": null,
      "outputs": [
        {
          "output_type": "error",
          "ename": "TypeError",
          "evalue": "object of type 'int' has no len()",
          "traceback": [
            "\u001b[0;31m---------------------------------------------------------------------------\u001b[0m",
            "\u001b[0;31mTypeError\u001b[0m                                 Traceback (most recent call last)",
            "\u001b[0;32m<ipython-input-25-2ddae50d4acf>\u001b[0m in \u001b[0;36m<cell line: 2>\u001b[0;34m()\u001b[0m\n\u001b[1;32m      1\u001b[0m \u001b[0ma\u001b[0m\u001b[0;34m=\u001b[0m\u001b[0;36m45678\u001b[0m\u001b[0;34m\u001b[0m\u001b[0;34m\u001b[0m\u001b[0m\n\u001b[0;32m----> 2\u001b[0;31m \u001b[0mprint\u001b[0m\u001b[0;34m(\u001b[0m\u001b[0mlen\u001b[0m\u001b[0;34m(\u001b[0m\u001b[0ma\u001b[0m\u001b[0;34m)\u001b[0m\u001b[0;34m)\u001b[0m\u001b[0;34m\u001b[0m\u001b[0;34m\u001b[0m\u001b[0m\n\u001b[0m",
            "\u001b[0;31mTypeError\u001b[0m: object of type 'int' has no len()"
          ]
        }
      ]
    },
    {
      "cell_type": "code",
      "source": [
        "a=\"45678\"\n",
        "print(len(a))"
      ],
      "metadata": {
        "colab": {
          "base_uri": "https://localhost:8080/"
        },
        "id": "LIDPNRD5FfFh",
        "outputId": "9f3f47e0-4376-46fe-e7b9-6c73f0ddf84e"
      },
      "execution_count": null,
      "outputs": [
        {
          "output_type": "stream",
          "name": "stdout",
          "text": [
            "5\n"
          ]
        }
      ]
    },
    {
      "cell_type": "code",
      "source": [
        "a=3.14\n",
        "print(len(a))"
      ],
      "metadata": {
        "colab": {
          "base_uri": "https://localhost:8080/",
          "height": 159
        },
        "id": "CH9bGKDEFphv",
        "outputId": "625210d7-7d15-4420-9389-1f2b688a5e74"
      },
      "execution_count": null,
      "outputs": [
        {
          "output_type": "error",
          "ename": "TypeError",
          "evalue": "object of type 'float' has no len()",
          "traceback": [
            "\u001b[0;31m---------------------------------------------------------------------------\u001b[0m",
            "\u001b[0;31mTypeError\u001b[0m                                 Traceback (most recent call last)",
            "\u001b[0;32m<ipython-input-27-84443ba36c03>\u001b[0m in \u001b[0;36m<cell line: 2>\u001b[0;34m()\u001b[0m\n\u001b[1;32m      1\u001b[0m \u001b[0ma\u001b[0m\u001b[0;34m=\u001b[0m\u001b[0;36m3.14\u001b[0m\u001b[0;34m\u001b[0m\u001b[0;34m\u001b[0m\u001b[0m\n\u001b[0;32m----> 2\u001b[0;31m \u001b[0mprint\u001b[0m\u001b[0;34m(\u001b[0m\u001b[0mlen\u001b[0m\u001b[0;34m(\u001b[0m\u001b[0ma\u001b[0m\u001b[0;34m)\u001b[0m\u001b[0;34m)\u001b[0m\u001b[0;34m\u001b[0m\u001b[0;34m\u001b[0m\u001b[0m\n\u001b[0m",
            "\u001b[0;31mTypeError\u001b[0m: object of type 'float' has no len()"
          ]
        }
      ]
    },
    {
      "cell_type": "code",
      "source": [
        "a=\"merhaba\"\n",
        "print(len(a))"
      ],
      "metadata": {
        "colab": {
          "base_uri": "https://localhost:8080/"
        },
        "id": "sF67G5jLFwCt",
        "outputId": "28a72eff-d01a-4888-e4c9-c454df3032b6"
      },
      "execution_count": null,
      "outputs": [
        {
          "output_type": "stream",
          "name": "stdout",
          "text": [
            "7\n"
          ]
        }
      ]
    },
    {
      "cell_type": "markdown",
      "source": [
        "**input() FONKSİYONU**\n",
        "\n",
        "*veri girişi yapmak için kullanılır*"
      ],
      "metadata": {
        "id": "imocH4nkF2Fa"
      }
    },
    {
      "cell_type": "markdown",
      "source": [
        "*Kulanıcıdan alınan verinin türü stringdir*"
      ],
      "metadata": {
        "id": "OH6ZMKfjF9k6"
      }
    },
    {
      "cell_type": "code",
      "source": [
        "a=input(\"bir değer giriniz\")\n",
        "print(\"Girdiğiniz değer : {}\\n girilen değerin veri türü : {} \\n\".format(a,type(a)))"
      ],
      "metadata": {
        "colab": {
          "base_uri": "https://localhost:8080/"
        },
        "id": "82uY123dF7Ck",
        "outputId": "f97ec815-4c47-437e-d6cc-258041f3265d"
      },
      "execution_count": null,
      "outputs": [
        {
          "output_type": "stream",
          "name": "stdout",
          "text": [
            "bir değer giriniz123\n",
            "Girdiğiniz değer : 123\n",
            " girilen değerin veri türü : <class 'str'> \n",
            "\n"
          ]
        }
      ]
    },
    {
      "cell_type": "markdown",
      "source": [
        "*Kullanıcıdan alınan string türündeki verinin int türüne çevrilmesi*"
      ],
      "metadata": {
        "id": "s5Q3GeyeG8N2"
      }
    },
    {
      "cell_type": "code",
      "source": [
        "b=int(input(\"bir sayı giriniz\"))\n",
        "print(type(b))"
      ],
      "metadata": {
        "colab": {
          "base_uri": "https://localhost:8080/"
        },
        "id": "UL8SLgdXG6Ie",
        "outputId": "5ec3a1d8-2992-4523-aec1-a4b558eab1fd"
      },
      "execution_count": null,
      "outputs": [
        {
          "output_type": "stream",
          "name": "stdout",
          "text": [
            "bir sayı giriniz4\n",
            "<class 'int'>\n"
          ]
        }
      ]
    },
    {
      "cell_type": "markdown",
      "source": [
        " *Kullanıcıdan alınan üç sayının ortalmasını alan program*"
      ],
      "metadata": {
        "id": "cTvxO8JrHKJ3"
      }
    },
    {
      "cell_type": "code",
      "source": [
        "a=int(input(\"1. Sayıyı giriniz\"))\n",
        "b=int(input(\"2. Sayıyı giriniz\"))\n",
        "c=int(input(\"3. Sayıyı giriniz\"))\n",
        "print(\"Girdiğiniz sayıların toplamı : \",a+b+c)"
      ],
      "metadata": {
        "colab": {
          "base_uri": "https://localhost:8080/"
        },
        "id": "hnv_Krl3HKSN",
        "outputId": "ad7c2d3f-1250-4845-ca01-2b0a877016f0"
      },
      "execution_count": null,
      "outputs": [
        {
          "output_type": "stream",
          "name": "stdout",
          "text": [
            "1. Sayıyı giriniz6\n",
            "2. Sayıyı giriniz5\n",
            "3. Sayıyı giriniz9\n",
            "Girdiğiniz sayıların toplamı :  20\n"
          ]
        }
      ]
    },
    {
      "cell_type": "markdown",
      "source": [
        "Kullanıcıdan alınan değer sayı türüne dönüştürülemediğinde hata alınır."
      ],
      "metadata": {
        "id": "44pNPLaMHh8I"
      }
    },
    {
      "cell_type": "code",
      "source": [
        "x=int(input(\"bir sayı giriniz\"))\n",
        "print(x)"
      ],
      "metadata": {
        "colab": {
          "base_uri": "https://localhost:8080/",
          "height": 176
        },
        "id": "Kw43gx-jHoAg",
        "outputId": "42b254ff-a0ba-4fde-ca8a-139bc86c5fa3"
      },
      "execution_count": null,
      "outputs": [
        {
          "name": "stdout",
          "output_type": "stream",
          "text": [
            "bir sayı giriniz23d\n"
          ]
        },
        {
          "output_type": "error",
          "ename": "ValueError",
          "evalue": "invalid literal for int() with base 10: '23d'",
          "traceback": [
            "\u001b[0;31m---------------------------------------------------------------------------\u001b[0m",
            "\u001b[0;31mValueError\u001b[0m                                Traceback (most recent call last)",
            "\u001b[0;32m<ipython-input-39-0ce6dc916f16>\u001b[0m in \u001b[0;36m<cell line: 1>\u001b[0;34m()\u001b[0m\n\u001b[0;32m----> 1\u001b[0;31m \u001b[0mx\u001b[0m\u001b[0;34m=\u001b[0m\u001b[0mint\u001b[0m\u001b[0;34m(\u001b[0m\u001b[0minput\u001b[0m\u001b[0;34m(\u001b[0m\u001b[0;34m\"bir sayı giriniz\"\u001b[0m\u001b[0;34m)\u001b[0m\u001b[0;34m)\u001b[0m\u001b[0;34m\u001b[0m\u001b[0;34m\u001b[0m\u001b[0m\n\u001b[0m\u001b[1;32m      2\u001b[0m \u001b[0mprint\u001b[0m\u001b[0;34m(\u001b[0m\u001b[0mx\u001b[0m\u001b[0;34m)\u001b[0m\u001b[0;34m\u001b[0m\u001b[0;34m\u001b[0m\u001b[0m\n",
            "\u001b[0;31mValueError\u001b[0m: invalid literal for int() with base 10: '23d'"
          ]
        }
      ]
    },
    {
      "cell_type": "markdown",
      "source": [
        "**YORUM SATIRLARI**\n",
        "\n",
        "**TEKLİ YORUM SATIRI**"
      ],
      "metadata": {
        "id": "JP8mmhQ7HxXq"
      }
    },
    {
      "cell_type": "code",
      "source": [
        "a=3 # Bu satırda a değişkenine 3 değeri atandı"
      ],
      "metadata": {
        "id": "5bh3wT8dHxlv"
      },
      "execution_count": null,
      "outputs": []
    },
    {
      "cell_type": "markdown",
      "source": [
        "**ÇOKLU YORUM SATIRLARI**"
      ],
      "metadata": {
        "id": "dFoJBHkOIBd7"
      }
    },
    {
      "cell_type": "code",
      "source": [
        "a=3\n",
        "b=6\n",
        "print(a+b)\n",
        "\n",
        "\"\"\"Yukarıdaki programda\n",
        " a değişkenine 3 değeri atandı\n",
        " b değişkenine 6 değeri atandı\n",
        " print() fonksiyonu ile a+b değişken değerlerinin toplanması sonucunda oluşan değer ekrana yazdırıldı.\n",
        " \"\"\""
      ],
      "metadata": {
        "colab": {
          "base_uri": "https://localhost:8080/",
          "height": 53
        },
        "id": "fzkUvpvMIBN_",
        "outputId": "761707dc-7ab4-494f-c68d-22304f296e16"
      },
      "execution_count": null,
      "outputs": [
        {
          "output_type": "stream",
          "name": "stdout",
          "text": [
            "9\n"
          ]
        },
        {
          "output_type": "execute_result",
          "data": {
            "text/plain": [
              "' Yukarıdaki programda\\n a değişkenine 3 değeri atandı\\n b değişkenine 6 değeri atandı\\n print() fonksiyonu ile a+b değişken değerlerinin toplanması sonucunda oluşan değer ekrana yazdırıldı.'"
            ],
            "application/vnd.google.colaboratory.intrinsic+json": {
              "type": "string"
            }
          },
          "metadata": {},
          "execution_count": 41
        }
      ]
    },
    {
      "cell_type": "markdown",
      "source": [
        "# LİSTE VERİ TİPLERİ"
      ],
      "metadata": {
        "id": "9xdHOM6DIf3a"
      }
    },
    {
      "cell_type": "code",
      "source": [
        "isim1=\"Ayşe\"\n",
        "isim2=\"Ali\"\n",
        "isim3=\"Veli\""
      ],
      "metadata": {
        "id": "4cpndr-iIikE"
      },
      "execution_count": null,
      "outputs": []
    },
    {
      "cell_type": "code",
      "source": [
        "isimler=[\"Ayşe\",\"Ali\",\"Veli\"]"
      ],
      "metadata": {
        "id": "-ZAE17D3ItYw"
      },
      "execution_count": null,
      "outputs": []
    },
    {
      "cell_type": "markdown",
      "source": [
        "**LİSTE OLUŞTURMA**"
      ],
      "metadata": {
        "id": "RjtI6ilpI2Nb"
      }
    },
    {
      "cell_type": "code",
      "source": [
        "isim=\"Ahmet\"\n",
        "liste=[\"Ayşe\",\"Ali\",\"Veli\",\";Mehmet\"]\n",
        "liste"
      ],
      "metadata": {
        "colab": {
          "base_uri": "https://localhost:8080/"
        },
        "id": "FEtN7ZcGI4np",
        "outputId": "040f0508-24c3-4d08-8368-202d1ea5ada4"
      },
      "execution_count": null,
      "outputs": [
        {
          "output_type": "execute_result",
          "data": {
            "text/plain": [
              "['Ayşe', 'Ali', 'Veli', ';Mehmet']"
            ]
          },
          "metadata": {},
          "execution_count": 45
        }
      ]
    },
    {
      "cell_type": "code",
      "source": [
        "liste1=[] #boş liste oluşturduk\n",
        "liste2=list() # boş liste oluşturduk\n",
        "print(\"*****\")\n",
        "print(liste1)\n",
        "print(\"*****\")\n",
        "liste2"
      ],
      "metadata": {
        "colab": {
          "base_uri": "https://localhost:8080/"
        },
        "id": "nCNAFPecJDpl",
        "outputId": "f3d55eb5-6ef5-4938-8410-40f411ffa47e"
      },
      "execution_count": null,
      "outputs": [
        {
          "output_type": "stream",
          "name": "stdout",
          "text": [
            "*****\n",
            "[]\n",
            "*****\n"
          ]
        },
        {
          "output_type": "execute_result",
          "data": {
            "text/plain": [
              "[]"
            ]
          },
          "metadata": {},
          "execution_count": 49
        }
      ]
    },
    {
      "cell_type": "code",
      "source": [
        "liste1=[1,2,3,\"Pazartesi\",\"Salı\"]\n",
        "print(liste1)\n",
        "print(type(liste1)) #türünü verir\n",
        "print(len(liste1))  #eleman sayısını verir"
      ],
      "metadata": {
        "colab": {
          "base_uri": "https://localhost:8080/"
        },
        "id": "tt5_oIDKJWpo",
        "outputId": "bda4eb32-d141-4bf6-8359-efbe517b69f3"
      },
      "execution_count": null,
      "outputs": [
        {
          "output_type": "stream",
          "name": "stdout",
          "text": [
            "[1, 2, 3, 'Pazartesi', 'Salı']\n",
            "<class 'list'>\n",
            "5\n"
          ]
        }
      ]
    },
    {
      "cell_type": "markdown",
      "source": [
        "**LİSTE İNDEXLEME VE PARÇALAMA**\n"
      ],
      "metadata": {
        "id": "budAgrlnJsaB"
      }
    },
    {
      "cell_type": "code",
      "source": [
        "liste=[2,3,4,5,6,7]\n",
        "liste[0]"
      ],
      "metadata": {
        "colab": {
          "base_uri": "https://localhost:8080/"
        },
        "id": "l1OfCMDmJzxV",
        "outputId": "5bdd9ca3-e298-4815-8769-7586945bad01"
      },
      "execution_count": null,
      "outputs": [
        {
          "output_type": "execute_result",
          "data": {
            "text/plain": [
              "2"
            ]
          },
          "metadata": {},
          "execution_count": 54
        }
      ]
    },
    {
      "cell_type": "code",
      "source": [
        "liste[4]"
      ],
      "metadata": {
        "colab": {
          "base_uri": "https://localhost:8080/"
        },
        "id": "U-rBjyPDJ6Jh",
        "outputId": "a305d4e7-98e2-4545-e1fc-22fea29c788b"
      },
      "execution_count": null,
      "outputs": [
        {
          "output_type": "execute_result",
          "data": {
            "text/plain": [
              "6"
            ]
          },
          "metadata": {},
          "execution_count": 55
        }
      ]
    },
    {
      "cell_type": "code",
      "source": [
        "liste[-1]  #listenin son elemanını verir"
      ],
      "metadata": {
        "colab": {
          "base_uri": "https://localhost:8080/"
        },
        "id": "nVug81naJ82P",
        "outputId": "5859e01e-0a71-498b-b0bd-2225dc37f783"
      },
      "execution_count": null,
      "outputs": [
        {
          "output_type": "execute_result",
          "data": {
            "text/plain": [
              "7"
            ]
          },
          "metadata": {},
          "execution_count": 56
        }
      ]
    },
    {
      "cell_type": "code",
      "source": [
        "liste[::-1] #listeyi tersten sıralar"
      ],
      "metadata": {
        "colab": {
          "base_uri": "https://localhost:8080/"
        },
        "id": "iDTuvaSyKB1p",
        "outputId": "b2111929-2d66-470d-def6-d1b71678f571"
      },
      "execution_count": null,
      "outputs": [
        {
          "output_type": "execute_result",
          "data": {
            "text/plain": [
              "[7, 6, 5, 4, 3, 2]"
            ]
          },
          "metadata": {},
          "execution_count": 57
        }
      ]
    },
    {
      "cell_type": "code",
      "source": [
        "liste[::2] #listeyi başlangıcından itibaren 2 atlayarak yazar"
      ],
      "metadata": {
        "colab": {
          "base_uri": "https://localhost:8080/"
        },
        "id": "qBZM2p-_KGZ-",
        "outputId": "fa2abfd4-c44e-40ed-9e26-a7d54c746d66"
      },
      "execution_count": null,
      "outputs": [
        {
          "output_type": "execute_result",
          "data": {
            "text/plain": [
              "[2, 4, 6]"
            ]
          },
          "metadata": {},
          "execution_count": 58
        }
      ]
    },
    {
      "cell_type": "code",
      "source": [
        "#indis değeri olmayan bir değeri görüntüleme\n",
        "len(liste)\n",
        "liste[6]"
      ],
      "metadata": {
        "colab": {
          "base_uri": "https://localhost:8080/",
          "height": 176
        },
        "id": "NyEcRJSbKQs4",
        "outputId": "943e63c1-93d7-44d8-99b9-c473e09e7be3"
      },
      "execution_count": null,
      "outputs": [
        {
          "output_type": "error",
          "ename": "IndexError",
          "evalue": "list index out of range",
          "traceback": [
            "\u001b[0;31m---------------------------------------------------------------------------\u001b[0m",
            "\u001b[0;31mIndexError\u001b[0m                                Traceback (most recent call last)",
            "\u001b[0;32m<ipython-input-60-e8393ea44a01>\u001b[0m in \u001b[0;36m<cell line: 3>\u001b[0;34m()\u001b[0m\n\u001b[1;32m      1\u001b[0m \u001b[0;31m#indis değeri olmayan bir değeri görüntüleme\u001b[0m\u001b[0;34m\u001b[0m\u001b[0;34m\u001b[0m\u001b[0m\n\u001b[1;32m      2\u001b[0m \u001b[0mlen\u001b[0m\u001b[0;34m(\u001b[0m\u001b[0mliste\u001b[0m\u001b[0;34m)\u001b[0m\u001b[0;34m\u001b[0m\u001b[0;34m\u001b[0m\u001b[0m\n\u001b[0;32m----> 3\u001b[0;31m \u001b[0mliste\u001b[0m\u001b[0;34m[\u001b[0m\u001b[0;36m6\u001b[0m\u001b[0;34m]\u001b[0m\u001b[0;34m\u001b[0m\u001b[0;34m\u001b[0m\u001b[0m\n\u001b[0m",
            "\u001b[0;31mIndexError\u001b[0m: list index out of range"
          ]
        }
      ]
    },
    {
      "cell_type": "markdown",
      "source": [
        "**Temel Liste ve Karakterler Dizisi Metotları**\n",
        "\n",
        "Listeler birbirleri ile toplama işlemleri yapılabilir."
      ],
      "metadata": {
        "id": "3YR-io3kKaKw"
      }
    },
    {
      "cell_type": "code",
      "source": [
        "liste1=[1,2,3]\n",
        "liste2=[4,5,6]\n",
        "liste3=liste1+liste2\n",
        "liste3"
      ],
      "metadata": {
        "colab": {
          "base_uri": "https://localhost:8080/"
        },
        "id": "y0uAaKuwKmIJ",
        "outputId": "8ccb147c-9c41-4135-90e4-40f0a619c5ff"
      },
      "execution_count": null,
      "outputs": [
        {
          "output_type": "execute_result",
          "data": {
            "text/plain": [
              "[1, 2, 3, 4, 5, 6]"
            ]
          },
          "metadata": {},
          "execution_count": 61
        }
      ]
    },
    {
      "cell_type": "markdown",
      "source": [
        "Karakter dizilerini toplama"
      ],
      "metadata": {
        "id": "PD5hXBvZKxVZ"
      }
    },
    {
      "cell_type": "code",
      "source": [
        "s1=\"ahmet\"\n",
        "s2=\"mehmet\"\n",
        "s3=s1+s2\n",
        "s3"
      ],
      "metadata": {
        "colab": {
          "base_uri": "https://localhost:8080/",
          "height": 35
        },
        "id": "IeJ0KLHNKzP5",
        "outputId": "2bf197e8-48aa-42da-c80c-aa04bef3e08b"
      },
      "execution_count": null,
      "outputs": [
        {
          "output_type": "execute_result",
          "data": {
            "text/plain": [
              "'ahmetmehmet'"
            ],
            "application/vnd.google.colaboratory.intrinsic+json": {
              "type": "string"
            }
          },
          "metadata": {},
          "execution_count": 62
        }
      ]
    },
    {
      "cell_type": "code",
      "source": [
        "#liste üzerinde satma işlemi\n",
        "\n",
        "liste1=[1,2,3]\n",
        "liste1*3"
      ],
      "metadata": {
        "colab": {
          "base_uri": "https://localhost:8080/"
        },
        "id": "f3QyhlH2K51D",
        "outputId": "318001c0-c7ef-4bd1-c7b7-7e2cfecb904b"
      },
      "execution_count": null,
      "outputs": [
        {
          "output_type": "execute_result",
          "data": {
            "text/plain": [
              "[1, 2, 3, 1, 2, 3, 1, 2, 3]"
            ]
          },
          "metadata": {},
          "execution_count": 63
        }
      ]
    },
    {
      "cell_type": "code",
      "source": [
        "#liste üzerinde çarpım işlemini listeye yazdırma\n",
        "liste=liste1*3\n",
        "liste"
      ],
      "metadata": {
        "colab": {
          "base_uri": "https://localhost:8080/"
        },
        "id": "w42LeAooLEon",
        "outputId": "36692f23-1a5b-4465-8509-dcb74317a348"
      },
      "execution_count": null,
      "outputs": [
        {
          "output_type": "execute_result",
          "data": {
            "text/plain": [
              "[1, 2, 3, 1, 2, 3, 1, 2, 3]"
            ]
          },
          "metadata": {},
          "execution_count": 64
        }
      ]
    },
    {
      "cell_type": "code",
      "source": [
        "#Karakter dizisi indisleri üzerinde değişiklik yapma\n",
        "a=\"Eda\"\n",
        "print(a)\n",
        "a[1]='l'\n",
        "print(a)\n"
      ],
      "metadata": {
        "colab": {
          "base_uri": "https://localhost:8080/",
          "height": 211
        },
        "id": "ABe6yYHNLSh7",
        "outputId": "724eca13-53a3-4933-da03-d3f0b59a88f9"
      },
      "execution_count": null,
      "outputs": [
        {
          "output_type": "stream",
          "name": "stdout",
          "text": [
            "Eda\n"
          ]
        },
        {
          "output_type": "error",
          "ename": "TypeError",
          "evalue": "'str' object does not support item assignment",
          "traceback": [
            "\u001b[0;31m---------------------------------------------------------------------------\u001b[0m",
            "\u001b[0;31mTypeError\u001b[0m                                 Traceback (most recent call last)",
            "\u001b[0;32m<ipython-input-71-0d22f61109dd>\u001b[0m in \u001b[0;36m<cell line: 4>\u001b[0;34m()\u001b[0m\n\u001b[1;32m      2\u001b[0m \u001b[0ma\u001b[0m\u001b[0;34m=\u001b[0m\u001b[0;34m\"Eda\"\u001b[0m\u001b[0;34m\u001b[0m\u001b[0;34m\u001b[0m\u001b[0m\n\u001b[1;32m      3\u001b[0m \u001b[0mprint\u001b[0m\u001b[0;34m(\u001b[0m\u001b[0ma\u001b[0m\u001b[0;34m)\u001b[0m\u001b[0;34m\u001b[0m\u001b[0;34m\u001b[0m\u001b[0m\n\u001b[0;32m----> 4\u001b[0;31m \u001b[0ma\u001b[0m\u001b[0;34m[\u001b[0m\u001b[0;36m1\u001b[0m\u001b[0;34m]\u001b[0m\u001b[0;34m=\u001b[0m\u001b[0;34m'l'\u001b[0m\u001b[0;34m\u001b[0m\u001b[0;34m\u001b[0m\u001b[0m\n\u001b[0m\u001b[1;32m      5\u001b[0m \u001b[0mprint\u001b[0m\u001b[0;34m(\u001b[0m\u001b[0ma\u001b[0m\u001b[0;34m)\u001b[0m\u001b[0;34m\u001b[0m\u001b[0;34m\u001b[0m\u001b[0m\n",
            "\u001b[0;31mTypeError\u001b[0m: 'str' object does not support item assignment"
          ]
        }
      ]
    },
    {
      "cell_type": "code",
      "source": [
        "print(liste1)\n",
        "liste1[1]=4\n",
        "print(liste1)"
      ],
      "metadata": {
        "colab": {
          "base_uri": "https://localhost:8080/"
        },
        "id": "W7V3dRqUL3hP",
        "outputId": "83b890af-0c99-4ec1-83b5-6f16d7939c40"
      },
      "execution_count": null,
      "outputs": [
        {
          "output_type": "stream",
          "name": "stdout",
          "text": [
            "[1, 2, 3]\n",
            "[1, 4, 3]\n"
          ]
        }
      ]
    },
    {
      "cell_type": "code",
      "source": [
        "#listenin 2 elemanını değiştirme\n",
        "liste1[0:2]=[5,6]\n",
        "liste1"
      ],
      "metadata": {
        "colab": {
          "base_uri": "https://localhost:8080/"
        },
        "id": "umXpre2WMD0_",
        "outputId": "b7c29a81-b423-48a6-f8ab-739105ec8011"
      },
      "execution_count": null,
      "outputs": [
        {
          "output_type": "execute_result",
          "data": {
            "text/plain": [
              "[5, 6, 3]"
            ]
          },
          "metadata": {},
          "execution_count": 76
        }
      ]
    },
    {
      "cell_type": "markdown",
      "source": [
        "*del KOMUTU İLE LİSTEDEN ELEMAN SİLME*"
      ],
      "metadata": {
        "id": "xoCWczRaMOxw"
      }
    },
    {
      "cell_type": "code",
      "source": [
        "liste=[4,5,6,7]\n",
        "del liste[1]\n",
        "liste"
      ],
      "metadata": {
        "colab": {
          "base_uri": "https://localhost:8080/"
        },
        "id": "P3vafg-lMThh",
        "outputId": "5044bac3-195d-4ec2-d0dc-9be3085eabd8"
      },
      "execution_count": null,
      "outputs": [
        {
          "output_type": "execute_result",
          "data": {
            "text/plain": [
              "[4, 6, 7]"
            ]
          },
          "metadata": {},
          "execution_count": 77
        }
      ]
    },
    {
      "cell_type": "markdown",
      "source": [
        "**append() fonksiyonu**\n",
        "\n",
        "Yeni bir eleman eklemek için kullanılır\n",
        "\n",
        "liste.append(değer)"
      ],
      "metadata": {
        "id": "ELE8vYxKMZn7"
      }
    },
    {
      "cell_type": "code",
      "source": [
        "liste.append(9)\n",
        "liste"
      ],
      "metadata": {
        "colab": {
          "base_uri": "https://localhost:8080/"
        },
        "id": "M_MxHNppMimC",
        "outputId": "33a07aa6-1b23-4b5d-cf34-5ca3da7a1c83"
      },
      "execution_count": null,
      "outputs": [
        {
          "output_type": "execute_result",
          "data": {
            "text/plain": [
              "[4, 6, 7, 9]"
            ]
          },
          "metadata": {},
          "execution_count": 78
        }
      ]
    },
    {
      "cell_type": "code",
      "source": [
        "#append ile sadece bir değer atanabilir\n",
        "liste.append(4,5,6)\n",
        "liste"
      ],
      "metadata": {
        "colab": {
          "base_uri": "https://localhost:8080/",
          "height": 176
        },
        "id": "sHP2Z-wIModI",
        "outputId": "fe7e661a-e9b5-41bc-ad6f-c08b6f4097c8"
      },
      "execution_count": null,
      "outputs": [
        {
          "output_type": "error",
          "ename": "TypeError",
          "evalue": "list.append() takes exactly one argument (3 given)",
          "traceback": [
            "\u001b[0;31m---------------------------------------------------------------------------\u001b[0m",
            "\u001b[0;31mTypeError\u001b[0m                                 Traceback (most recent call last)",
            "\u001b[0;32m<ipython-input-79-680af0aadcf2>\u001b[0m in \u001b[0;36m<cell line: 2>\u001b[0;34m()\u001b[0m\n\u001b[1;32m      1\u001b[0m \u001b[0;31m#append ile sadece bir değer atanabilir\u001b[0m\u001b[0;34m\u001b[0m\u001b[0;34m\u001b[0m\u001b[0m\n\u001b[0;32m----> 2\u001b[0;31m \u001b[0mliste\u001b[0m\u001b[0;34m.\u001b[0m\u001b[0mappend\u001b[0m\u001b[0;34m(\u001b[0m\u001b[0;36m4\u001b[0m\u001b[0;34m,\u001b[0m\u001b[0;36m5\u001b[0m\u001b[0;34m,\u001b[0m\u001b[0;36m6\u001b[0m\u001b[0;34m)\u001b[0m\u001b[0;34m\u001b[0m\u001b[0;34m\u001b[0m\u001b[0m\n\u001b[0m\u001b[1;32m      3\u001b[0m \u001b[0mliste\u001b[0m\u001b[0;34m\u001b[0m\u001b[0;34m\u001b[0m\u001b[0m\n",
            "\u001b[0;31mTypeError\u001b[0m: list.append() takes exactly one argument (3 given)"
          ]
        }
      ]
    },
    {
      "cell_type": "markdown",
      "source": [
        "**insert() fonksiyonu**\n",
        "\n",
        "varolan listede istenilen yere bir değer eklemek için kullanılır\n",
        "\n",
        "liste.insert(indexs,değer)"
      ],
      "metadata": {
        "id": "v1BmvxznMv3e"
      }
    },
    {
      "cell_type": "code",
      "source": [
        "listeSinif=[\"ali\",\"veli\",\"ayşe\"]\n",
        "listeSinif.insert(0,\"Berna\")\n",
        "listeSinif"
      ],
      "metadata": {
        "colab": {
          "base_uri": "https://localhost:8080/"
        },
        "id": "wjGmWHKCM2iH",
        "outputId": "48c73b68-1e64-489f-b16e-5aaad6bb5d71"
      },
      "execution_count": null,
      "outputs": [
        {
          "output_type": "execute_result",
          "data": {
            "text/plain": [
              "['Berna', 'ali', 'veli', 'ayşe']"
            ]
          },
          "metadata": {},
          "execution_count": 80
        }
      ]
    },
    {
      "cell_type": "markdown",
      "source": [
        "**sort() fonksiyonu**\n",
        "\n",
        "Sıralama yapmak için kulanılır\n",
        "\n",
        "liste.sort()"
      ],
      "metadata": {
        "id": "WA_jnJvGNOfx"
      }
    },
    {
      "cell_type": "code",
      "source": [
        "listeSinif.sort()\n",
        "listeSinif"
      ],
      "metadata": {
        "colab": {
          "base_uri": "https://localhost:8080/"
        },
        "id": "7OAc31_-Nc80",
        "outputId": "290ee383-062e-4c71-a521-a207c1134cd6"
      },
      "execution_count": null,
      "outputs": [
        {
          "output_type": "execute_result",
          "data": {
            "text/plain": [
              "['Berna', 'ali', 'ayşe', 'veli']"
            ]
          },
          "metadata": {},
          "execution_count": 82
        }
      ]
    },
    {
      "cell_type": "markdown",
      "source": [
        "# bölüm sonu değerlendirme"
      ],
      "metadata": {
        "id": "iUOAYosoNjYe"
      }
    },
    {
      "cell_type": "markdown",
      "source": [
        "1. Kullanıcıdan ismini alarak kullanıcıya, merhaba kullanıcı adı şeklinde çıktı veren programı yazınız."
      ],
      "metadata": {
        "id": "SXvlBd5sNnA8"
      }
    },
    {
      "cell_type": "code",
      "source": [
        "kullaniciAdi=input(\"İsminizi giriniz\")\n",
        "print(\"Merhaba {} \\n Hoşgeldiniz\".format(kullaniciAdi))"
      ],
      "metadata": {
        "colab": {
          "base_uri": "https://localhost:8080/"
        },
        "id": "FF0IyhkNNyp6",
        "outputId": "6810255a-c600-4db3-c835-30487d5b8aa1"
      },
      "execution_count": null,
      "outputs": [
        {
          "output_type": "stream",
          "name": "stdout",
          "text": [
            "İsminizi girinizilknur\n",
            "Merhaba ilknur \n",
            " Hoşgeldiniz\n"
          ]
        }
      ]
    },
    {
      "cell_type": "markdown",
      "source": [
        "2. Kullanıcıdan iki adet sayı alarak bunları toplayan ve sonucu ekrana basan programı yazınız."
      ],
      "metadata": {
        "id": "Kc__XvPmOJnZ"
      }
    },
    {
      "cell_type": "code",
      "source": [
        "sayi1=int(input(\"1. sayıyı giriniz\"))\n",
        "sayi2=int(input(\"2. sayıyı giriniz\"))\n",
        "toplam=sayi1+sayi2\n",
        "print(\"Girdiğiniz sayıların toplamı\\n{} + {} = {} \".format(sayi1,sayi2,toplam))"
      ],
      "metadata": {
        "colab": {
          "base_uri": "https://localhost:8080/"
        },
        "id": "hjLsMth2OQ2a",
        "outputId": "76ea8638-56e0-4ff2-95a7-c9001505bece"
      },
      "execution_count": null,
      "outputs": [
        {
          "output_type": "stream",
          "name": "stdout",
          "text": [
            "1. sayıyı giriniz3\n",
            "2. sayıyı giriniz4\n",
            "Girdiğiniz sayıların toplamı\n",
            "3 + 4 = 7 \n"
          ]
        }
      ]
    },
    {
      "cell_type": "markdown",
      "source": [
        "Kullanıcıdan 2 sayı alarak bu sayıların ortalamasını bulan programı yazınız."
      ],
      "metadata": {
        "id": "Wuq0nWdyOr30"
      }
    },
    {
      "cell_type": "code",
      "source": [
        "sayi1=int(input(\"1. sayıyı giriniz\"))\n",
        "sayi2=int(input(\"2. sayıyı giriniz\"))\n",
        "ortalama=(sayi1+sayi2)/2\n",
        "print(\"Girdiğiniz sayıların ortalaması\\n({} + {})/2 = {} \".format(sayi1,sayi2,ortalama))"
      ],
      "metadata": {
        "colab": {
          "base_uri": "https://localhost:8080/"
        },
        "id": "9-z1JN91OsDT",
        "outputId": "148ea279-cbec-45be-f97e-30a939a13c4c"
      },
      "execution_count": null,
      "outputs": [
        {
          "output_type": "stream",
          "name": "stdout",
          "text": [
            "1. sayıyı giriniz5\n",
            "2. sayıyı giriniz8\n",
            "Girdiğiniz sayıların ortalaması\n",
            "(5 + 8)/2 = 6.5 \n"
          ]
        }
      ]
    },
    {
      "cell_type": "markdown",
      "source": [
        "Kullanıcıdan vize ve final notu girilenj öğrencinin ortalamasını hesaplayan program(vize %30, final %70)"
      ],
      "metadata": {
        "id": "Oe52SQxWO_Kl"
      }
    },
    {
      "cell_type": "code",
      "source": [
        "vize=int(input(\"vize notunuzu giriniz\"))\n",
        "final=int(input(\"Final notunuzu giriniz\"))\n",
        "ortalama=vize*0.30+final*0.70\n",
        "print(\"Vize ve final notlarınızın ortalaması : \",ortalama)"
      ],
      "metadata": {
        "colab": {
          "base_uri": "https://localhost:8080/"
        },
        "id": "RH1xpIb-O_SR",
        "outputId": "bd5d9630-2e4b-4886-b77e-24f352b1946a"
      },
      "execution_count": null,
      "outputs": [
        {
          "output_type": "stream",
          "name": "stdout",
          "text": [
            "vize notunuzu giriniz56\n",
            "Final notunuzu giriniz98\n",
            "Vize ve final notlarınızın ortalaması :  85.39999999999999\n"
          ]
        }
      ]
    },
    {
      "cell_type": "markdown",
      "source": [
        "Kullanıcıdan boy ve kilo bilgilerini alarak vücut kitle indexini hesaplayan program\n",
        "\n",
        "vki=kilo/boy*boy"
      ],
      "metadata": {
        "id": "uatcktBHPer5"
      }
    },
    {
      "cell_type": "code",
      "source": [
        "boy=float(input(\"Boyunuzun ölçüsünü metre cinsinden yazınız\\n\"))\n",
        "kilo=float(input(\"Kilonuzun ölçüsünü kg cinsinden yazınız\\n\"))\n",
        "vki=kilo/boy*boy\n",
        "print(\"Vücut Kitle İndexiniz : \",vki)"
      ],
      "metadata": {
        "colab": {
          "base_uri": "https://localhost:8080/"
        },
        "id": "FhT5h09DPq75",
        "outputId": "d27b5b57-124c-42a8-e4ee-be64acc34ff8"
      },
      "execution_count": null,
      "outputs": [
        {
          "output_type": "stream",
          "name": "stdout",
          "text": [
            "Boyunuzun ölçüsünü metre cinsinden yazınız\n",
            "70\n",
            "Kilonuzun ölçüsünü kg cinsinden yazınız\n",
            "20\n",
            "Vücut Kitle İndexiniz :  20.0\n"
          ]
        }
      ]
    },
    {
      "cell_type": "markdown",
      "source": [
        "Kullanıcıdan alınan direnç ve gerilim değerine göre akım değerini hesapla"
      ],
      "metadata": {
        "id": "ZtO87SxWQKKS"
      }
    },
    {
      "cell_type": "code",
      "source": [
        "direnc=int(input(\"Direnç değerini ohm biriminde giriniz\"))\n",
        "voltaj=int(input(\"elektrik voltajını giriniz\"))\n",
        "akim=voltaj/direnc\n",
        "print(\"Devrenizden geçen akım miktarı : \",akim)"
      ],
      "metadata": {
        "colab": {
          "base_uri": "https://localhost:8080/"
        },
        "id": "tvXInxFHQI5O",
        "outputId": "efa37f15-95a4-4447-f588-a63e74cf1163"
      },
      "execution_count": null,
      "outputs": [
        {
          "output_type": "stream",
          "name": "stdout",
          "text": [
            "Direnç değerini ohm biriminde giriniz15\n",
            "elektrik voltajını giriniz5\n",
            "Devrenizden geçen akım miktarı :  0.3333333333333333\n"
          ]
        }
      ]
    },
    {
      "cell_type": "markdown",
      "source": [
        "Örnekte verilen kodları değiştirerek\n",
        "Python---ile---Programlama---Temelleri\n",
        "\n",
        "print(\"Python\",\"ile\",\"Programlama\")\n",
        "print(\"Temelleri\")"
      ],
      "metadata": {
        "id": "vWMx2JS9Q_ok"
      }
    },
    {
      "cell_type": "code",
      "source": [
        "print(\"Python\",\"ile\",\"Programlama\",sep=\"---\",end=\"...\")\n",
        "print(\"Temelleri\")"
      ],
      "metadata": {
        "colab": {
          "base_uri": "https://localhost:8080/"
        },
        "id": "y0oazD94RTUt",
        "outputId": "04f0c4cb-28ae-4c82-b261-eae511a62845"
      },
      "execution_count": null,
      "outputs": [
        {
          "output_type": "stream",
          "name": "stdout",
          "text": [
            "Python---ile---Programlama...Temelleri\n"
          ]
        }
      ]
    }
  ]
}
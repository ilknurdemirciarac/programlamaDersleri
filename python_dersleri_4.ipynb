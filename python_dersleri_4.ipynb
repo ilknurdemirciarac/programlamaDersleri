{
  "nbformat": 4,
  "nbformat_minor": 0,
  "metadata": {
    "colab": {
      "provenance": [],
      "authorship_tag": "ABX9TyOhcQ+vQRkhbrWCRLLBbeN8",
      "include_colab_link": true
    },
    "kernelspec": {
      "name": "python3",
      "display_name": "Python 3"
    },
    "language_info": {
      "name": "python"
    }
  },
  "cells": [
    {
      "cell_type": "markdown",
      "metadata": {
        "id": "view-in-github",
        "colab_type": "text"
      },
      "source": [
        "<a href=\"https://colab.research.google.com/github/ilknurdemirciarac/programlamaDersleri/blob/main/python_dersleri_4.ipynb\" target=\"_parent\"><img src=\"https://colab.research.google.com/assets/colab-badge.svg\" alt=\"Open In Colab\"/></a>"
      ]
    },
    {
      "cell_type": "markdown",
      "source": [
        "# DÖNGÜ YAPILARI VE FOR DÖNGÜSÜ"
      ],
      "metadata": {
        "id": "BZ6ZZ__wKCh-"
      }
    },
    {
      "cell_type": "code",
      "source": [
        "maas=[10000,20000,25000,30000]\n",
        "for i in maas:\n",
        "  print(i*20/100+i)"
      ],
      "metadata": {
        "colab": {
          "base_uri": "https://localhost:8080/"
        },
        "id": "2qZdAARiKAgY",
        "outputId": "10cca5dd-7429-4cba-97b0-57b28e262829"
      },
      "execution_count": null,
      "outputs": [
        {
          "output_type": "stream",
          "name": "stdout",
          "text": [
            "12000.0\n",
            "24000.0\n",
            "30000.0\n",
            "36000.0\n"
          ]
        }
      ]
    },
    {
      "cell_type": "markdown",
      "source": [
        "**in operatörü**"
      ],
      "metadata": {
        "id": "CAf3JxNhKV80"
      }
    },
    {
      "cell_type": "code",
      "execution_count": null,
      "metadata": {
        "colab": {
          "base_uri": "https://localhost:8080/"
        },
        "id": "js7zpnySJ-2s",
        "outputId": "0fc659c0-6d6f-4c9f-b5ca-ac63eab1616e"
      },
      "outputs": [
        {
          "output_type": "execute_result",
          "data": {
            "text/plain": [
              "True"
            ]
          },
          "metadata": {},
          "execution_count": 2
        }
      ],
      "source": [
        "\"a\" in \"merhaba\""
      ]
    },
    {
      "cell_type": "code",
      "source": [
        "4 in [1,2,3,4]"
      ],
      "metadata": {
        "colab": {
          "base_uri": "https://localhost:8080/"
        },
        "id": "PGbno44sKcYs",
        "outputId": "d0fa773c-0ee0-4143-c0b8-e824e876d107"
      },
      "execution_count": null,
      "outputs": [
        {
          "output_type": "execute_result",
          "data": {
            "text/plain": [
              "True"
            ]
          },
          "metadata": {},
          "execution_count": 3
        }
      ]
    },
    {
      "cell_type": "code",
      "source": [
        "5 in [1,2,3,4]"
      ],
      "metadata": {
        "colab": {
          "base_uri": "https://localhost:8080/"
        },
        "id": "DphcVnFdKexY",
        "outputId": "b031cecb-1ef4-4136-e450-9cec96002970"
      },
      "execution_count": null,
      "outputs": [
        {
          "output_type": "execute_result",
          "data": {
            "text/plain": [
              "False"
            ]
          },
          "metadata": {},
          "execution_count": 4
        }
      ]
    },
    {
      "cell_type": "markdown",
      "source": [
        "**for döngüsü**"
      ],
      "metadata": {
        "id": "S9F6l4v3Kh9U"
      }
    },
    {
      "cell_type": "code",
      "source": [
        "# listeler üzerinde gezinmek\n"
      ],
      "metadata": {
        "id": "vJdUHzQ8KkDU"
      },
      "execution_count": null,
      "outputs": []
    }
  ]
}